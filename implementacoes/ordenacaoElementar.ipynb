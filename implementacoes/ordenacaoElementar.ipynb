{
 "cells": [
  {
   "cell_type": "markdown",
   "id": "a58c62f6",
   "metadata": {},
   "source": [
    "<h1 style=\"color: #c0392b;\">Ordenação Elementar</h1>\n",
    "<h2>Insertion Sort e Selection Sort</h2>."
   ]
  },
  {
   "cell_type": "markdown",
   "id": "2a817dec",
   "metadata": {},
   "source": [
    "<small>\n",
    "<p><strong>IMPORTANTE</strong>: O comando '%%file' é usado no Python para criar arquivos .java no diretório onde este notebook está salvo. Os arquivos criados são nomeados conforme o identificador fornecido após o comando '%%file'.</p>\n",
    "</small>"
   ]
  },
  {
   "cell_type": "markdown",
   "id": "893e75cd",
   "metadata": {},
   "source": [
    "<h3>O problema</h3>\n",
    "\n",
    "<p>Ordenar os elementos de um vetor em ordem crescente.</p>"
   ]
  },
  {
   "cell_type": "markdown",
   "id": "6156b873",
   "metadata": {},
   "source": [
    "Exemplo de entrada e saída:\n",
    "\n",
    "    Entrada: [4, 5, 89, 20, 43, 12, 2, 7, 80, 12]\n",
    "    Saída:   [2, 4, 5, 7, 12, 12, 20, 43, 80, 89]"
   ]
  },
  {
   "cell_type": "markdown",
   "id": "b698f31e",
   "metadata": {},
   "source": [
    "<h4 style=\"color: #2d3436;\"><strong>Código 1</strong>: Implementação do Insertion Sort.</h4>"
   ]
  },
  {
   "cell_type": "code",
   "execution_count": 2,
   "id": "8cd2625c",
   "metadata": {},
   "outputs": [
    {
     "name": "stdout",
     "output_type": "stream",
     "text": [
      "Writing InsertionSort.java\n"
     ]
    }
   ],
   "source": [
    "%%file InsertionSort.java\n",
    "\n",
    "import java.util.Arrays;\n",
    "import java.util.Random;\n",
    "\n",
    "public class InsertionSort {\n",
    "    \n",
    "    // Define um valor constante para o tamanho máximo do vetor\n",
    "    private static final int TAMANHO_MAXIMO = 10;\n",
    "\n",
    "    /**\n",
    "    * Função que implementa o algoritmo Insertion Sort.\n",
    "    * Ordena um vetor de inteiros em ordem crescente.\n",
    "    *\n",
    "    * @param vet - vetor de inteiros\n",
    "    */\n",
    "    public static void insertionSort(int[] vet) {\n",
    "        for (int i = 1; i < vet.length; ++i) {\n",
    "            int chave = vet[i];\n",
    "            int j = i - 1;\n",
    "\n",
    "            // Move os elementos de vet[0 .. i-1] que são maiores que a chave para frente\n",
    "            while (j >= 0 && vet[j] > chave) {\n",
    "                vet[j + 1] = vet[j];\n",
    "                j = j - 1;\n",
    "            }\n",
    "            vet[j + 1] = chave;\n",
    "        }\n",
    "    }\n",
    "\n",
    "    public static void main(String[] args) {\n",
    "        int[] vet = new int[TAMANHO_MAXIMO]; // Cria um vetor de inteiros com tamanho definido\n",
    "        Random rand = new Random();\n",
    "\n",
    "        // Preenche o vetor com valores aleatórios entre 0 (inclusive) e TAMANHO_MAXIMO-1\n",
    "        for (int i = 0; i < TAMANHO_MAXIMO; i++) {\n",
    "            vet[i] = rand.nextInt(TAMANHO_MAXIMO);\n",
    "        }\n",
    "\n",
    "        System.out.println(\"Vertor não ordenado:\");\n",
    "        System.out.println(Arrays.toString(vet));\n",
    "        \n",
    "        // Chama a função para ordenar o vetor\n",
    "        insertionSort(vet);\n",
    "\n",
    "        System.out.println(\"Array ordenado:\");\n",
    "        System.out.println(Arrays.toString(vet));\n",
    "    }\n",
    "}"
   ]
  },
  {
   "cell_type": "markdown",
   "id": "a50557df",
   "metadata": {},
   "source": [
    "<h4 style=\"color: #2d3436;\"><strong>Código 2</strong>: Implementação do Selection Sort.</h4>"
   ]
  },
  {
   "cell_type": "code",
   "execution_count": 1,
   "id": "690e6324",
   "metadata": {},
   "outputs": [
    {
     "name": "stdout",
     "output_type": "stream",
     "text": [
      "Writing SelectionSort.java\n"
     ]
    }
   ],
   "source": [
    "%%file SelectionSort.java\n",
    "\n",
    "import java.util.Arrays;\n",
    "import java.util.Random;\n",
    "\n",
    "public class SelectionSort {\n",
    "\n",
    "    // Define um valor constante para o tamanho máximo do vetor\n",
    "    private static final int TAMANHO_MAXIMO = 10;\n",
    "\n",
    "    /**\n",
    "    * Função que implementa o algoritmo Selection Sort.\n",
    "    * Ordena o vetor em ordem crescente.\n",
    "    * \n",
    "    * @param vet - vetor de inteiros\n",
    "    */\n",
    "    public static void selectionSort(int[] vet) {\n",
    "        for (int i = 0; i < vet.length - 1; i++) {\n",
    "            int indice = i;\n",
    "            \n",
    "            // Busca o menor elemento na parte não ordenada do vetor\n",
    "            for (int j = i + 1; j < vet.length; j++) {\n",
    "                if (vet[j] < vet[indice]) {\n",
    "                    indice = j;\n",
    "                }\n",
    "            }\n",
    "            // Se encontrou um valor menor, faz a troca com a posição atual\n",
    "            if (vet[i] > vet[indice]) {\n",
    "                int aux = vet[indice];\n",
    "                vet[indice] = vet[i];\n",
    "                vet[i] = aux;\n",
    "            }\n",
    "        }\n",
    "    }\n",
    "\n",
    "    public static void main(String[] args) {\n",
    "        Random rand = new Random();\n",
    "        int[] vet = new int[TAMANHO_MAXIMO]; // Cria um vetor de inteiros com tamanho definido\n",
    "\n",
    "        // Preenche o vetor com valores aleatórios entre 0 (inclusive) e TAMANHO_MAXIMO-1\n",
    "        for (int i = 0; i < TAMANHO_MAXIMO; i++) {\n",
    "            vet[i] = rand.nextInt(TAMANHO_MAXIMO);\n",
    "        }\n",
    "\n",
    "        System.out.println(\"Vertor não ordenado:\");\n",
    "        System.out.println(Arrays.toString(vet));\n",
    "\n",
    "        // Chama a função para ordenar o vetor\n",
    "        selectionSort(vet);\n",
    "\n",
    "        System.out.println(\"Vetor ordenado:\");\n",
    "        System.out.println(Arrays.toString(vet));\n",
    "    }\n",
    "}"
   ]
  }
 ],
 "metadata": {
  "kernelspec": {
   "display_name": "Python 3",
   "language": "python",
   "name": "python3"
  },
  "language_info": {
   "codemirror_mode": {
    "name": "ipython",
    "version": 3
   },
   "file_extension": ".py",
   "mimetype": "text/x-python",
   "name": "python",
   "nbconvert_exporter": "python",
   "pygments_lexer": "ipython3",
   "version": "3.8.10"
  }
 },
 "nbformat": 4,
 "nbformat_minor": 5
}
