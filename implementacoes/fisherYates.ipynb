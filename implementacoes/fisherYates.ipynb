{
 "cells": [
  {
   "cell_type": "markdown",
   "id": "a58c62f6",
   "metadata": {},
   "source": [
    "<h1 style=\"color: #c0392b;\">Algoritmo de Embaralhamento</h1>\n",
    "<h2>Fisher-Yates</h2>."
   ]
  },
  {
   "cell_type": "markdown",
   "id": "2a817dec",
   "metadata": {},
   "source": [
    "<small>\n",
    "<p><strong>IMPORTANTE</strong>: O comando '%%file' é usado no Python para criar arquivos .java no diretório onde este notebook está salvo. Os arquivos criados são nomeados conforme o identificador fornecido após o comando '%%file'.</p>\n",
    "</small>"
   ]
  },
  {
   "cell_type": "markdown",
   "id": "893e75cd",
   "metadata": {},
   "source": [
    "<h3>O problema</h3>\n",
    "\n",
    "<p>Embaralha aleatoriamente os elementos de um vetor de entrada.<br>\n",
    "O algoritmo garante que cada permutação possível do vetor tenha a mesma probabilidade de ocorrer,<br>ou seja, realiza um embaralhamento justo e uniforme.</p>"
   ]
  },
  {
   "cell_type": "markdown",
   "id": "6156b873",
   "metadata": {},
   "source": [
    "Exemplo de entrada e saída:\n",
    "\n",
    "    Entrada: [1, 2, 3, 4, 5]\n",
    "    Saída: [3, 5, 1, 2, 4] (a saída pode variar a cada execução)"
   ]
  },
  {
   "cell_type": "markdown",
   "id": "77010e08",
   "metadata": {},
   "source": [
    "<h4 style=\"color: #2d3436;\"><strong>Código 1</strong>: Implementação do algoritmo de Fisher-Yates.</h4>"
   ]
  },
  {
   "cell_type": "code",
   "execution_count": 3,
   "id": "8cd2625c",
   "metadata": {},
   "outputs": [
    {
     "name": "stdout",
     "output_type": "stream",
     "text": [
      "Writing FisherYates.java\n"
     ]
    }
   ],
   "source": [
    "%%file FisherYates.java\n",
    "\n",
    "import java.util.Arrays;\n",
    "import java.util.Random;\n",
    "\n",
    "public class FisherYates {\n",
    "    \n",
    "    // Define um valor constante para o tamanho máximo do vetor\n",
    "    private static final int TAMANHO_MAXIMO = 10;\n",
    "\n",
    "    /**\n",
    "     * Função que embaralha um vetor de inteiros utilizando o algoritmo de Fisher-Yates.\n",
    "     * Esse algoritmo garante um embaralhamento uniforme dos elementos.\n",
    "     *\n",
    "     * @param vetor - vetor de inteiros a ser embaralhado\n",
    "     */\n",
    "    public static void embaralha(int[] vetor) {\n",
    "        Random rand = new Random();\n",
    "\n",
    "        // Percorre o vetor de trás para frente\n",
    "        for (int i = vetor.length - 1; i >= 0; i--) {\n",
    "            \n",
    "            // Gera um índice aleatório entre 0 e i (inclusive)\n",
    "            int indice = rand.nextInt(i + 1);\n",
    "            \n",
    "            // Troca o elemento na posição i com o elemento na posição aleatória\n",
    "            int aux = vetor[i];\n",
    "            vetor[i] = vetor[indice];\n",
    "            vetor[indice] = aux;\n",
    "        }\n",
    "    }\n",
    "\n",
    "    public static void main(String[] args) {\n",
    "        int[] vet = new int[TAMANHO_MAXIMO]; // Cria um vetor de inteiros com tamanho definido\n",
    "\n",
    "        // Inicializa o vetor, onde vet[i] = i + 1\n",
    "        for (int i = 0; i < TAMANHO_MAXIMO; i++) {\n",
    "            vet[i] = i + 1;\n",
    "        }\n",
    "\n",
    "        System.out.println(\"Vertor original:\");\n",
    "        System.out.println(Arrays.toString(vet));\n",
    "\n",
    "        // Embaralha o vetor\n",
    "        embaralha(vet);\n",
    "\n",
    "        System.out.println(\"Vetor embaralhado:\");\n",
    "        System.out.println(Arrays.toString(vet));\n",
    "    }\n",
    "}"
   ]
  }
 ],
 "metadata": {
  "kernelspec": {
   "display_name": "Python 3",
   "language": "python",
   "name": "python3"
  },
  "language_info": {
   "codemirror_mode": {
    "name": "ipython",
    "version": 3
   },
   "file_extension": ".py",
   "mimetype": "text/x-python",
   "name": "python",
   "nbconvert_exporter": "python",
   "pygments_lexer": "ipython3",
   "version": "3.8.10"
  }
 },
 "nbformat": 4,
 "nbformat_minor": 5
}
