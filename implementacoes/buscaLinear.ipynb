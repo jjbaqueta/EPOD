{
 "cells": [
  {
   "cell_type": "markdown",
   "id": "a58c62f6",
   "metadata": {},
   "source": [
    "<h1 style=\"color: #c0392b;\">Algoritmos de Busca</h1>\n",
    "<h2>Busca Linear</h2>."
   ]
  },
  {
   "cell_type": "markdown",
   "id": "2a817dec",
   "metadata": {},
   "source": [
    "<small>\n",
    "<p><strong>IMPORTANTE</strong>: O comando '%%file' é usado no Python para criar arquivos .java no diretório onde este notebook está salvo. Os arquivos criados são nomeados conforme o identificador fornecido após o comando '%%file'.</p>\n",
    "</small>"
   ]
  },
  {
   "cell_type": "markdown",
   "id": "893e75cd",
   "metadata": {},
   "source": [
    "<h3>O problema</h3>\n",
    "\n",
    "<p>Realiza a busca de uma chave em um vetor de entrada.<br>Se a chave estiver presente no vetor, a função retorna o índice correspondente.<br>Caso contrário, retorna o valor -1.</p>"
   ]
  },
  {
   "cell_type": "markdown",
   "id": "6156b873",
   "metadata": {},
   "source": [
    "Exemplo de entrada e saída:\n",
    "\n",
    "    Entrada: [4, 5, 89, 20, 43, 12, 2, 7, 80, 12], chave = 12\n",
    "    Saída:   5"
   ]
  },
  {
   "cell_type": "markdown",
   "id": "77010e08",
   "metadata": {},
   "source": [
    "<h4 style=\"color: #2d3436;\"><strong>Código 1</strong>: Implementação da busca binária.</h4>"
   ]
  },
  {
   "cell_type": "code",
   "execution_count": 1,
   "id": "8cd2625c",
   "metadata": {},
   "outputs": [
    {
     "name": "stdout",
     "output_type": "stream",
     "text": [
      "Writing BuscaBinaria.java\n"
     ]
    }
   ],
   "source": [
    "%%file BuscaBinaria.java\n",
    "\n",
    "import java.util.Arrays;\n",
    "\n",
    "public class BuscaLinear {\n",
    "    \n",
    "    // Define um valor constante para o tamanho máximo do vetor\n",
    "    private static final int TAMANHO_MAXIMO = 10;\n",
    "\n",
    "    /**\n",
    "     * Função que implementa o algoritmo de busca linear.\n",
    "     * Não exige que o vetor esteja ordenado.\n",
    "     * Percorre o vetor do início ao fim procurando a chave.\n",
    "     *\n",
    "     * @param vetor - vetor de inteiros onde será feita a busca\n",
    "     * @param chave - valor que queremos encontrar no vetor\n",
    "     * @return o índice onde a chave foi encontrada, ou -1 se não estiver no vetor\n",
    "     */\n",
    "    public static int buscaLinear(int[] vetor, int chave) {\n",
    "        for (int i = 0; i < vetor.length; i++) {\n",
    "            if (vetor[i] == chave) {\n",
    "                return i;\n",
    "            }\n",
    "        }\n",
    "        return -1;\n",
    "    }\n",
    "\n",
    "    public static void main(String[] args) {\n",
    "        int[] vet = new int[TAMANHO_MAXIMO]; // Cria um vetor de inteiros com tamanho definido\n",
    "\n",
    "        // Inicializa o vetor, onde vet[i] = i + 1\n",
    "        for (int i = 0; i < TAMANHO_MAXIMO; i++) {\n",
    "            vet[i] = i + 1;\n",
    "        }\n",
    "\n",
    "        // Define a chave de busca como um valor que não está no vetor\n",
    "        int chave = TAMANHO_MAXIMO + 1;\n",
    "        \n",
    "        // Chama a função de busca linear\n",
    "        int indice = buscaLinear(vet, chave);\n",
    "        \n",
    "        // Verifica o resultado da busca\n",
    "        if (indice > 0) {\n",
    "            System.out.println(\"chave de busca: \" + chave +  \", posição da chave: \" + indice);\n",
    "        }\n",
    "        else {\n",
    "            System.out.println(\"a chave de busca não está no vetor\");\n",
    "        }\n",
    "    }\n",
    "}"
   ]
  }
 ],
 "metadata": {
  "kernelspec": {
   "display_name": "Python 3",
   "language": "python",
   "name": "python3"
  },
  "language_info": {
   "codemirror_mode": {
    "name": "ipython",
    "version": 3
   },
   "file_extension": ".py",
   "mimetype": "text/x-python",
   "name": "python",
   "nbconvert_exporter": "python",
   "pygments_lexer": "ipython3",
   "version": "3.8.10"
  }
 },
 "nbformat": 4,
 "nbformat_minor": 5
}
