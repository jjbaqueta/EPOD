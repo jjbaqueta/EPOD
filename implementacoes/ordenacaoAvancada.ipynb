{
 "cells": [
  {
   "cell_type": "markdown",
   "id": "a58c62f6",
   "metadata": {},
   "source": [
    "<h1 style=\"color: #c0392b;\">Ordenação Avançada</h1>\n",
    "<h2>Merge Sort</h2>."
   ]
  },
  {
   "cell_type": "markdown",
   "id": "2a817dec",
   "metadata": {},
   "source": [
    "<small>\n",
    "<p><strong>IMPORTANTE</strong>: O comando '%%file' é usado no Python para criar arquivos .java no diretório onde este notebook está salvo. Os arquivos criados são nomeados conforme o identificador fornecido após o comando '%%file'.</p>\n",
    "</small>"
   ]
  },
  {
   "cell_type": "markdown",
   "id": "893e75cd",
   "metadata": {},
   "source": [
    "<h3>O problema</h3>\n",
    "\n",
    "<p>Ordenar os elementos de um vetor em ordem crescente.</p>"
   ]
  },
  {
   "cell_type": "markdown",
   "id": "6156b873",
   "metadata": {},
   "source": [
    "Exemplo de entrada e saída:\n",
    "\n",
    "    Entrada: [4, 5, 89, 20, 43, 12, 2, 7, 80, 12]\n",
    "    Saída:   [2, 4, 5, 7, 12, 12, 20, 43, 80, 89]"
   ]
  },
  {
   "cell_type": "markdown",
   "id": "77010e08",
   "metadata": {},
   "source": [
    "<h4 style=\"color: #2d3436;\"><strong>Código 1</strong>: Implementação do Merge Sort.</h4>"
   ]
  },
  {
   "cell_type": "code",
   "execution_count": 1,
   "id": "8cd2625c",
   "metadata": {},
   "outputs": [
    {
     "name": "stdout",
     "output_type": "stream",
     "text": [
      "Writing MergeSort.java\n"
     ]
    }
   ],
   "source": [
    "%%file MergeSort.java\n",
    "\n",
    "import java.util.Arrays;\n",
    "import java.util.Random;\n",
    "\n",
    "public class MergeSort {\n",
    "    \n",
    "    // Define um valor constante para o tamanho máximo do vetor\n",
    "    private static final int TAMANHO_MAXIMO = 10;\n",
    "\n",
    "    // Função responsável por intercalar (mesclar) duas partes ordenadas do vetor\n",
    "    private static void intercalar(int[] vet, int[] aux, int inicio, int meio, int fim) {\n",
    "        int i = inicio, j = meio + 1, k;\n",
    "\n",
    "        for (k = inicio; k <= fim; k++) {\n",
    "            aux[k] = vet[k];\n",
    "        }\n",
    "        for (k = inicio; k <= fim; k++) {\n",
    "            if (i > meio) {\n",
    "                vet[k] = aux[j++];\n",
    "            }\n",
    "            else if (j > fim) {\n",
    "                vet[k] = aux[i++];\n",
    "            }\n",
    "            else if (aux[j] <= aux[i]) {\n",
    "                vet[k] = aux[j++];\n",
    "            }\n",
    "            else {\n",
    "                vet[k] = aux[i++];\n",
    "            }\n",
    "        }\n",
    "    }\n",
    "\n",
    "    // Função recursiva que divide o vetor em subproblemas até atingir casos base\n",
    "    private static void dividir(int[] vet, int[] aux, int inicio, int fim) {\n",
    "        if (fim <= inicio) {\n",
    "            return;\n",
    "        }\n",
    "        int meio = inicio + (fim - inicio) / 2;\n",
    "        dividir(vet, aux, inicio, meio);\n",
    "        dividir(vet, aux, meio + 1, fim);\n",
    "        intercalar(vet, aux, inicio, meio, fim);\n",
    "    }\n",
    "\n",
    "    /**\n",
    "    * Função que implementa o algoritmo Merge Sort.\n",
    "    * \n",
    "    * @param vet - vetor de inteiros\n",
    "    * @param aux - vetor auxiliar usado no processo de intercalação\n",
    "    * @param inicio - índice da primeira posição do vetor vet.\n",
    "    * @param r - índice da última posição do vetor vet\n",
    "    */\n",
    "    public static void mergeSort(int[] vet, int[] aux, int inicio, int fim) {\n",
    "        dividir(vet, aux, inicio, fim);\n",
    "    }\n",
    "\n",
    "    public static void main(String[] args) {\n",
    "        Random rand = new Random();\n",
    "        int[] vet = new int[TAMANHO_MAXIMO]; // Cria um vetor de inteiros com tamanho definido\n",
    "        int[] aux = new int[TAMANHO_MAXIMO]; // Cria uma cópia do vetor de entrada\n",
    "        \n",
    "        // Preenche o vetor com valores aleatórios entre 0 (inclusive) e TAMANHO_MAXIMO-1\n",
    "        for (int i = 0; i < TAMANHO_MAXIMO; i++) {\n",
    "            vet[i] = rand.nextInt(TAMANHO_MAXIMO);\n",
    "        }\n",
    "        \n",
    "        System.out.println(\"Vetor não ordenado: \" + Arrays.toString(vet));\n",
    "        \n",
    "        // Chama a função para ordenar o vetor\n",
    "        mergeSort(vet, aux, 0, TAMANHO_MAXIMO - 1);\n",
    "        \n",
    "        System.out.println(\"Vetor ordenado: \" + Arrays.toString(vet));\n",
    "    }\n",
    "}"
   ]
  }
 ],
 "metadata": {
  "kernelspec": {
   "display_name": "Python 3",
   "language": "python",
   "name": "python3"
  },
  "language_info": {
   "codemirror_mode": {
    "name": "ipython",
    "version": 3
   },
   "file_extension": ".py",
   "mimetype": "text/x-python",
   "name": "python",
   "nbconvert_exporter": "python",
   "pygments_lexer": "ipython3",
   "version": "3.8.10"
  }
 },
 "nbformat": 4,
 "nbformat_minor": 5
}
