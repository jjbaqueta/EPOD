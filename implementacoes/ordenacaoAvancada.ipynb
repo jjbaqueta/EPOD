{
 "cells": [
  {
   "cell_type": "markdown",
   "id": "a58c62f6",
   "metadata": {},
   "source": [
    "# Ordenação Avançada\n",
    "\n",
    "### Merge Sort."
   ]
  },
  {
   "cell_type": "markdown",
   "id": "2a817dec",
   "metadata": {},
   "source": [
    "<small><strong>IMPORTANTE</strong>: <p>O comando '%%file' é usado no Python para criar os arquivos .java no diretório local onde o notebook está salvo, nomeando os arquivos conforme o identificador após o '%%file'.</p></small>"
   ]
  },
  {
   "cell_type": "markdown",
   "id": "893e75cd",
   "metadata": {},
   "source": [
    "**Problema**:<p>Ordenar os elementos de um vetor em ordem crescente.</p>"
   ]
  },
  {
   "cell_type": "markdown",
   "id": "6156b873",
   "metadata": {},
   "source": [
    "Exemplo de entrada e saída:\n",
    "\n",
    "    Entrada: [4, 5, 89, 20, 43, 12, 2, 7, 80, 12]\n",
    "    Saída:   [2, 4, 5, 7, 12, 12, 20, 43, 80, 89]"
   ]
  },
  {
   "cell_type": "code",
   "execution_count": 1,
   "id": "8cd2625c",
   "metadata": {},
   "outputs": [
    {
     "name": "stdout",
     "output_type": "stream",
     "text": [
      "Writing MergeSort.java\n"
     ]
    }
   ],
   "source": [
    "%%file MergeSort.java\n",
    "\n",
    "import java.util.Arrays;\n",
    "import java.util.Random;\n",
    "\n",
    "public class MergeSort {\n",
    "\tprivate static final int TAMANHO_MAXIMO = 10;\n",
    " \n",
    "\tprivate static void intercalar(int[] vet, int[] aux, int inicio, int meio, int fim) {\n",
    "\t\tint i = inicio, j = meio + 1, k;\n",
    "\n",
    "\t\tfor (k = inicio; k <= fim; k++) {\n",
    "\t\t\taux[k] = vet[k];\n",
    "\t\t}\n",
    "\t\tfor (k = inicio; k <= fim; k++) {\n",
    "\t\t\tif (i > meio) {\n",
    "\t\t\t\tvet[k] = aux[j++];\n",
    "\t\t\t}\n",
    "\t\t\telse if (j > fim) {\n",
    "\t\t\t\tvet[k] = aux[i++];\n",
    "\t\t\t}\n",
    "\t\t\telse if (aux[j] <= aux[i]) {\n",
    "\t\t\t\tvet[k] = aux[j++];\n",
    "\t\t\t}\n",
    "\t\t\telse {\n",
    "\t\t\t\tvet[k] = aux[i++];\n",
    "\t\t\t}\n",
    "\t\t}\n",
    "\t}\n",
    "\t\n",
    "\tprivate static void dividir(int[] vet, int[] aux, int inicio, int fim) {\n",
    "\t\tif (fim <= inicio) {\n",
    "\t\t\treturn;\n",
    "\t\t}\n",
    "\t\tint meio = inicio + (fim - inicio) / 2;\n",
    "\t\tdividir(vet, aux, inicio, meio);\n",
    "\t\tdividir(vet, aux, meio + 1, fim);\n",
    "\t\tintercalar(vet, aux, inicio, meio, fim);\n",
    "\t}\n",
    "\n",
    "\t/**\n",
    "\t* Função que implementa o algoritmo Merge Sort.\n",
    "\t* \n",
    "\t* @param vet - vetor de inteiros\n",
    "\t* @param aux - vetor auxiliar usado no processo de intercalação\n",
    "\t* @param inicio - índice da primeira posição do vetor vet.\n",
    "\t* @param r - índice da última posição do vetor vet\n",
    "\t*/\n",
    "\tpublic static void mergeSort(int[] vet, int[] aux, int inicio, int fim) {\n",
    "\t\tdividir(vet, aux, inicio, fim);\n",
    "\t}\n",
    "\n",
    "\tpublic static void main(String[] args) {\n",
    "\t\tint[] vet = new int[TAMANHO_MAXIMO];\n",
    "\t\tint[] aux = new int[TAMANHO_MAXIMO];\n",
    "\n",
    "\t\tRandom rand = new Random();\n",
    "\t\tfor (int i = 0; i < TAMANHO_MAXIMO; i++) {\n",
    "\t\t\tvet[i] = rand.nextInt(TAMANHO_MAXIMO);\t\n",
    "\t\t}\n",
    "\t\tSystem.out.println(\"vetor não ordenado: \" + Arrays.toString(vet));\t\t\n",
    "\t\tmergeSort(vet, aux, 0, TAMANHO_MAXIMO - 1);\n",
    "\t\tSystem.out.println(\"vetor ordenado: \" + Arrays.toString(vet));\n",
    "\t}\n",
    "}"
   ]
  }
 ],
 "metadata": {
  "kernelspec": {
   "display_name": "Python 3",
   "language": "python",
   "name": "python3"
  },
  "language_info": {
   "codemirror_mode": {
    "name": "ipython",
    "version": 3
   },
   "file_extension": ".py",
   "mimetype": "text/x-python",
   "name": "python",
   "nbconvert_exporter": "python",
   "pygments_lexer": "ipython3",
   "version": "3.8.10"
  }
 },
 "nbformat": 4,
 "nbformat_minor": 5
}
