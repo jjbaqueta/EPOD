{
 "cells": [
  {
   "cell_type": "markdown",
   "id": "a58c62f6",
   "metadata": {},
   "source": [
    "# Implementação de Filas e Pilhas\n",
    "\n",
    "Essa implementação utiliza o ArrayList e o LinkedList do Java."
   ]
  },
  {
   "cell_type": "markdown",
   "id": "2a817dec",
   "metadata": {},
   "source": [
    "*IMPORTANTE*: Lembre-se, o comando '%%file' é utilizado pelo Python para criar os arquivos .java em sua máquina local (no diretório onde este notebook está salvo). Os arquivos criados são nomeados de acordo com o identificador que aparece após o comando '%%file'."
   ]
  },
  {
   "cell_type": "markdown",
   "id": "893e75cd",
   "metadata": {},
   "source": [
    "### Pilha\n",
    "\n",
    "Implementação com <strong>ArrayList</strong>: \n",
    "* As operações de push e pop correspondem a adicionar e remover elementos do final da lista. O acesso ao final da lista é eficiente (O(1))."
   ]
  },
  {
   "cell_type": "code",
   "execution_count": 1,
   "id": "8cd2625c",
   "metadata": {},
   "outputs": [
    {
     "name": "stdout",
     "output_type": "stream",
     "text": [
      "Writing Main.java\n"
     ]
    }
   ],
   "source": [
    "%%file Main.java\n",
    "\n",
    "import java.util.ArrayList;\n",
    "import java.util.Arrays;\n",
    "\n",
    "public class Main {\n",
    "\tpublic static void main(String[] args) {\n",
    "\t\tArrayList<Integer> pilha = new ArrayList<Integer>();\n",
    "\t\tSystem.out.println(pilha);\n",
    "\n",
    "\t\t// push 1\n",
    "  \t\tpilha.add(1);\n",
    "    \tSystem.out.println(pilha);\n",
    "\t\t\n",
    "\t\t// push 2\n",
    "  \t\tpilha.add(2);\n",
    "    \tSystem.out.println(pilha);\n",
    "  \t\t\n",
    "  \t\t// push 10\n",
    "    \tpilha.add(10);\n",
    "\t\tSystem.out.println(pilha);\n",
    "  \n",
    "  \t\t// push 50\n",
    "  \t\tpilha.add(50);\n",
    "\t\tSystem.out.println(pilha);\n",
    "\n",
    "\t\t// pop\n",
    "\t\tint valorTopo = pilha.remove(pilha.size() - 1);\n",
    "\t\tSystem.out.println(\"valor removido: \" + valorTopo);\n",
    "\t\tSystem.out.println(pilha);\n",
    "  \n",
    "  \t\t// pop\n",
    "  \t\tvalorTopo = pilha.remove(pilha.size() - 1);\n",
    "\t\tSystem.out.println(\"valor removido: \" + valorTopo);\n",
    "\t\tSystem.out.println(pilha);\n",
    "\t}\n",
    "}"
   ]
  },
  {
   "cell_type": "markdown",
   "id": "f9681ed7",
   "metadata": {},
   "source": [
    "Saída do programa:\n",
    "\n",
    "    []\n",
    "    [1]\n",
    "    [1, 2]\n",
    "    [1, 2, 10]\n",
    "    [1, 2, 10, 50]\n",
    "    valor removido: 50\n",
    "    [1, 2, 10]\n",
    "    valor removido: 10\n",
    "    [1, 2]"
   ]
  },
  {
   "cell_type": "markdown",
   "id": "4879da2a",
   "metadata": {},
   "source": [
    "Implementação com <strong>LinkedList</strong>: \n",
    "* A operação push adiciona elementos no final (ou no início, se desejado) e a operação pop remove elementos do final (ou do início). Em ambos o caso o acesso ao final (ou início) da lista é eficiente (O(1))."
   ]
  },
  {
   "cell_type": "code",
   "execution_count": 5,
   "id": "2544bfc0",
   "metadata": {},
   "outputs": [
    {
     "name": "stdout",
     "output_type": "stream",
     "text": [
      "Overwriting Main.java\n"
     ]
    }
   ],
   "source": [
    "%%file Main.java\n",
    "\n",
    "import java.util.Arrays;\n",
    "import java.util.LinkedList;\n",
    "\n",
    "public class Main {\n",
    "\tpublic static void main(String[] args) {\n",
    "\t\tLinkedList<Integer> pilha = new LinkedList<Integer>();\n",
    "\t\tSystem.out.println(pilha);\n",
    "\n",
    "\t\t// push 1\n",
    "  \t\tpilha.addLast(1);\n",
    "    \tSystem.out.println(pilha);\n",
    "\t\t\n",
    "\t\t// push 2\n",
    "  \t\tpilha.addLast(2);\n",
    "    \tSystem.out.println(pilha);\n",
    "    \t\n",
    "    \t// push 10\n",
    "    \tpilha.addLast(10);\n",
    "\t\tSystem.out.println(pilha);\n",
    "  \n",
    "  \t\t// push 50\n",
    "  \t\tpilha.addLast(50);\n",
    "\t\tSystem.out.println(pilha);\n",
    "\n",
    "\t\t// pop\n",
    "\t\tint valorTopo = pilha.removeLast();\n",
    "\t\tSystem.out.println(\"valor removido: \" + valorTopo);\n",
    "\t\tSystem.out.println(pilha);\n",
    "  \n",
    "\t\t// pop\n",
    "  \t\tvalorTopo = pilha.removeLast();\n",
    "\t\tSystem.out.println(\"valor removido: \" + valorTopo);\n",
    "\t\tSystem.out.println(pilha);\n",
    "\t}\n",
    "}"
   ]
  },
  {
   "cell_type": "markdown",
   "id": "49ab39ec",
   "metadata": {},
   "source": [
    "Saída do programa:\n",
    "\n",
    "    []\n",
    "    [1]\n",
    "    [1, 2]\n",
    "    [1, 2, 10]\n",
    "    [1, 2, 10, 50]\n",
    "    valor removido: 50\n",
    "    [1, 2, 10]\n",
    "    valor removido: 10\n",
    "    [1, 2]"
   ]
  },
  {
   "cell_type": "markdown",
   "id": "e5da0432",
   "metadata": {},
   "source": [
    "### Fila\n",
    "\n",
    "Implementação com <strong>ArrayList</strong>: \n",
    "* A operação enqueue adiciona elementos no final da lista (O(1)), enquanto a operação dequeue remove elementos do início. Lembre-se de que a remoção do início pode ser ineficiente, pois envolve o deslocamento dos elementos (O(n))."
   ]
  },
  {
   "cell_type": "code",
   "execution_count": 3,
   "id": "2073f5f1",
   "metadata": {},
   "outputs": [
    {
     "name": "stdout",
     "output_type": "stream",
     "text": [
      "Writing Main.java\n"
     ]
    }
   ],
   "source": [
    "%%file Main.java\n",
    "\n",
    "import java.util.ArrayList;\n",
    "import java.util.Arrays;\n",
    "\n",
    "public class Main {\n",
    "\tpublic static void main(String[] args) {\n",
    "\t\tArrayList<Integer> fila = new ArrayList<Integer>();\n",
    "\t\tSystem.out.println(fila);\n",
    "\n",
    "\t\t// enqueue 1\n",
    "  \t\tfila.add(1);\n",
    "    \tSystem.out.println(fila);\n",
    "\t\t\n",
    "\t\t// enqueue 2\n",
    "  \t\tfila.add(2);\n",
    "    \tSystem.out.println(fila);\n",
    "  \t\t\n",
    "  \t\t// enqueue 10\n",
    "    \tfila.add(10);\n",
    "\t\tSystem.out.println(fila);\n",
    "  \n",
    "\t\t// enqueue 50\n",
    "  \t\tfila.add(50);\n",
    "\t\tSystem.out.println(fila);\n",
    "\n",
    "\t\t// dequeue\n",
    "\t\tint valorInicio = fila.remove(0);\n",
    "\t\tSystem.out.println(\"valor removido: \" + valorInicio);\n",
    "\t\tSystem.out.println(fila);\n",
    "  \n",
    "\t\t// dequeue\n",
    "  \t\tvalorInicio = fila.remove(0);\n",
    "\t\tSystem.out.println(\"valor removido: \" + valorInicio);\n",
    "\t\tSystem.out.println(fila);\n",
    "\t}\n",
    "}"
   ]
  },
  {
   "cell_type": "markdown",
   "id": "193d0db8",
   "metadata": {},
   "source": [
    "Saída do programa:\n",
    "\n",
    "    []\n",
    "    [1]\n",
    "    [1, 2]\n",
    "    [1, 2, 10]\n",
    "    [1, 2, 10, 50]\n",
    "    valor removido: 1\n",
    "    [2, 10, 50]\n",
    "    valor removido: 2\n",
    "    [10, 50]\n"
   ]
  },
  {
   "cell_type": "markdown",
   "id": "6aea5877",
   "metadata": {},
   "source": [
    "Implementação com <strong>LinkedList</strong>: \n",
    "* A operação enqueue adiciona elementos ao final da fila, e a operação dequeue remove elementos do início. Ambas as operações são eficientes, com complexidade O(1)."
   ]
  },
  {
   "cell_type": "code",
   "execution_count": 4,
   "id": "b899a388",
   "metadata": {},
   "outputs": [
    {
     "name": "stdout",
     "output_type": "stream",
     "text": [
      "Overwriting Main.java\n"
     ]
    }
   ],
   "source": [
    "%%file Main.java\n",
    "\n",
    "import java.util.Arrays;\n",
    "import java.util.LinkedList;\n",
    "\n",
    "public class Main { \n",
    "\tpublic static void main(String[] args) {\n",
    "\t\tLinkedList<Integer> fila = new LinkedList<Integer>();\n",
    "\t\tSystem.out.println(fila);\n",
    "\n",
    "\t\t// enqueue 1\n",
    "  \t\tfila.addLast(1);\n",
    "    \tSystem.out.println(fila);\n",
    "\t\t\n",
    "\t\t// enqueue 2\n",
    "  \t\tfila.addLast(2);\n",
    "    \tSystem.out.println(fila);\n",
    "  \t\t\n",
    "  \t\t// enqueue 10\n",
    "    \tfila.addLast(10);\n",
    "\t\tSystem.out.println(fila);\n",
    "  \n",
    "\t\t// enqueue 50\n",
    "  \t\tfila.addLast(50);\n",
    "\t\tSystem.out.println(fila);\n",
    "\n",
    "\t\t// dequeue\n",
    "\t\tint valorInicio = fila.removeFirst();\n",
    "\t\tSystem.out.println(\"valor removido: \" + valorInicio);\n",
    "\t\tSystem.out.println(fila);\n",
    "  \n",
    "\t\t// dequeue\n",
    "  \t\tvalorInicio = fila.removeFirst();\n",
    "\t\tSystem.out.println(\"valor removido: \" + valorInicio);\n",
    "\t\tSystem.out.println(fila);\n",
    "\t}\n",
    "}"
   ]
  },
  {
   "cell_type": "markdown",
   "id": "858e469d",
   "metadata": {},
   "source": [
    "Saída do programa:\n",
    "\n",
    "    []\n",
    "    [1]\n",
    "    [1, 2]\n",
    "    [1, 2, 10]\n",
    "    [1, 2, 10, 50]\n",
    "    valor removido: 1\n",
    "    [2, 10, 50]\n",
    "    valor removido: 2\n",
    "    [10, 50]"
   ]
  }
 ],
 "metadata": {
  "kernelspec": {
   "display_name": "Python 3",
   "language": "python",
   "name": "python3"
  },
  "language_info": {
   "codemirror_mode": {
    "name": "ipython",
    "version": 3
   },
   "file_extension": ".py",
   "mimetype": "text/x-python",
   "name": "python",
   "nbconvert_exporter": "python",
   "pygments_lexer": "ipython3",
   "version": "3.8.10"
  }
 },
 "nbformat": 4,
 "nbformat_minor": 5
}
