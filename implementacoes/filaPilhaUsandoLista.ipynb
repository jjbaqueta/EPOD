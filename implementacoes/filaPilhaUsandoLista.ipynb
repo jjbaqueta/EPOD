{
 "cells": [
  {
   "cell_type": "markdown",
   "id": "a58c62f6",
   "metadata": {},
   "source": [
    "<h1 style=\"color: #c0392b;\">Implementação de Filas e Pilhas</h1>\n",
    "<h2>Essa implementação utiliza o <i>ArrayList</i> e o <i>LinkedList</i> do Java.</h2>."
   ]
  },
  {
   "cell_type": "markdown",
   "id": "2a817dec",
   "metadata": {},
   "source": [
    "<small>\n",
    "<p><strong>IMPORTANTE</strong>: O comando '%%file' é usado no Python para criar arquivos .java no diretório onde este notebook está salvo. Os arquivos criados são nomeados conforme o identificador fornecido após o comando '%%file'.</p>\n",
    "</small>"
   ]
  },
  {
   "cell_type": "markdown",
   "id": "893e75cd",
   "metadata": {},
   "source": [
    "<h3>Pilha</h3>\n",
    "\n",
    "<p>Implementação com <strong>ArrayList</strong>:</p>\n",
    "<ul>\n",
    "    <li>As operações de <i>push</i> e <i>pop</i> correspondem a adicionar e remover elementos do final da lista;</li>\n",
    "    <li>O acesso ao final da lista é eficiente (<strong>O(1)</strong>).</li>\n",
    "</ul>"
   ]
  },
  {
   "cell_type": "markdown",
   "id": "2dd2c07d",
   "metadata": {},
   "source": [
    "<h4 style=\"color: #2d3436;\"><strong>Código 1</strong>: Implementação de uma pilha com ArrayList.</h4>"
   ]
  },
  {
   "cell_type": "code",
   "execution_count": 1,
   "id": "8cd2625c",
   "metadata": {},
   "outputs": [
    {
     "name": "stdout",
     "output_type": "stream",
     "text": [
      "Writing Main.java\n"
     ]
    }
   ],
   "source": [
    "%%file Main.java\n",
    "\n",
    "import java.util.ArrayList;\n",
    "import java.util.Arrays;\n",
    "\n",
    "public class Main {\n",
    "    public static void main(String[] args) {\n",
    "        ArrayList<Integer> pilha = new ArrayList<Integer>();\n",
    "        System.out.println(pilha);\n",
    "\n",
    "        // push 1\n",
    "        pilha.add(1);\n",
    "        System.out.println(pilha);\n",
    "\n",
    "        // push 2\n",
    "        pilha.add(2);\n",
    "        System.out.println(pilha);\n",
    "\n",
    "        // push 10\n",
    "        pilha.add(10);\n",
    "        System.out.println(pilha);\n",
    "\n",
    "        // push 50\n",
    "        pilha.add(50);\n",
    "        System.out.println(pilha);\n",
    "\n",
    "        // pop\n",
    "        int valorTopo = pilha.remove(pilha.size() - 1);\n",
    "        System.out.println(\"valor removido: \" + valorTopo);\n",
    "        System.out.println(pilha);\n",
    "\n",
    "        // pop\n",
    "        valorTopo = pilha.remove(pilha.size() - 1);\n",
    "        System.out.println(\"valor removido: \" + valorTopo);\n",
    "        System.out.println(pilha);\n",
    "    }\n",
    "}"
   ]
  },
  {
   "cell_type": "markdown",
   "id": "f9681ed7",
   "metadata": {},
   "source": [
    "Saída do programa:\n",
    "\n",
    "    []\n",
    "    [1]\n",
    "    [1, 2]\n",
    "    [1, 2, 10]\n",
    "    [1, 2, 10, 50]\n",
    "    valor removido: 50\n",
    "    [1, 2, 10]\n",
    "    valor removido: 10\n",
    "    [1, 2]"
   ]
  },
  {
   "cell_type": "markdown",
   "id": "4879da2a",
   "metadata": {},
   "source": [
    "<p>Implementação com <strong>LinkedList</strong>:</p>\n",
    "<ul>\n",
    "    <li>A operação <i>push</i> adiciona elementos no final;</li>\n",
    "    <li>A a operação <i>pop</i> remove elementos do final;</li>\n",
    "    <li>O acesso ao final da lista é eficiente (<strong>O(1)</strong>).</li>\n",
    "</ul>"
   ]
  },
  {
   "cell_type": "markdown",
   "id": "4e66e79a",
   "metadata": {},
   "source": [
    "<h4 style=\"color: #2d3436;\"><strong>Código 2</strong>: Implementação de uma pilha com LinkedList.</h4>"
   ]
  },
  {
   "cell_type": "code",
   "execution_count": 5,
   "id": "2544bfc0",
   "metadata": {},
   "outputs": [
    {
     "name": "stdout",
     "output_type": "stream",
     "text": [
      "Overwriting Main.java\n"
     ]
    }
   ],
   "source": [
    "%%file Main.java\n",
    "\n",
    "import java.util.Arrays;\n",
    "import java.util.LinkedList;\n",
    "\n",
    "public class Main {\n",
    "    public static void main(String[] args) {\n",
    "        LinkedList<Integer> pilha = new LinkedList<Integer>();\n",
    "        System.out.println(pilha);\n",
    "\n",
    "        // push 1\n",
    "        pilha.addLast(1);\n",
    "        System.out.println(pilha);\n",
    "\n",
    "        // push 2\n",
    "        pilha.addLast(2);\n",
    "        System.out.println(pilha);\n",
    "\n",
    "        // push 10\n",
    "        pilha.addLast(10);\n",
    "        System.out.println(pilha);\n",
    "\n",
    "        // push 50\n",
    "        pilha.addLast(50);\n",
    "        System.out.println(pilha);\n",
    "\n",
    "        // pop\n",
    "        int valorTopo = pilha.removeLast();\n",
    "        System.out.println(\"valor removido: \" + valorTopo);\n",
    "        System.out.println(pilha);\n",
    "\n",
    "        // pop\n",
    "        valorTopo = pilha.removeLast();\n",
    "        System.out.println(\"valor removido: \" + valorTopo);\n",
    "        System.out.println(pilha);\n",
    "    }\n",
    "}"
   ]
  },
  {
   "cell_type": "markdown",
   "id": "49ab39ec",
   "metadata": {},
   "source": [
    "Saída do programa:\n",
    "\n",
    "    []\n",
    "    [1]\n",
    "    [1, 2]\n",
    "    [1, 2, 10]\n",
    "    [1, 2, 10, 50]\n",
    "    valor removido: 50\n",
    "    [1, 2, 10]\n",
    "    valor removido: 10\n",
    "    [1, 2]"
   ]
  },
  {
   "cell_type": "markdown",
   "id": "e5da0432",
   "metadata": {},
   "source": [
    "<h3>Fila</h3>\n",
    "\n",
    "<p>Implementação com <strong>ArrayList</strong>:</p>\n",
    "<ul>\n",
    "    <li>A operação <i>enqueue</i> adiciona elementos no final da lista (<strong>O(1)</strong>);</li>\n",
    "    <li>a operação <i>dequeue</i> remove elementos do início da lista. Esse tipo de remoção é ineficiente em um <i>ArrayList</i>, pois envolve o deslocamento dos elementos (<strong>O(n)</strong>).</li>\n",
    "</ul>"
   ]
  },
  {
   "cell_type": "markdown",
   "id": "b6b68f31",
   "metadata": {},
   "source": [
    "<h4 style=\"color: #2d3436;\"><strong>Código 3</strong>: Implementação de uma fila com ArrayList.</h4>"
   ]
  },
  {
   "cell_type": "code",
   "execution_count": 3,
   "id": "2073f5f1",
   "metadata": {},
   "outputs": [
    {
     "name": "stdout",
     "output_type": "stream",
     "text": [
      "Writing Main.java\n"
     ]
    }
   ],
   "source": [
    "%%file Main.java\n",
    "\n",
    "import java.util.ArrayList;\n",
    "import java.util.Arrays;\n",
    "\n",
    "public class Main {\n",
    "    public static void main(String[] args) {\n",
    "        ArrayList<Integer> fila = new ArrayList<Integer>();\n",
    "        System.out.println(fila);\n",
    "\n",
    "        // enqueue 1\n",
    "        fila.add(1);\n",
    "        System.out.println(fila);\n",
    "\n",
    "        // enqueue 2\n",
    "        fila.add(2);\n",
    "        System.out.println(fila);\n",
    "\n",
    "        // enqueue 10\n",
    "        fila.add(10);\n",
    "        System.out.println(fila);\n",
    "\n",
    "        // enqueue 50\n",
    "        fila.add(50);\n",
    "        System.out.println(fila);\n",
    "\n",
    "        // dequeue\n",
    "        int valorInicio = fila.remove(0);\n",
    "        System.out.println(\"valor removido: \" + valorInicio);\n",
    "        System.out.println(fila);\n",
    "\n",
    "        // dequeue\n",
    "        valorInicio = fila.remove(0);\n",
    "        System.out.println(\"valor removido: \" + valorInicio);\n",
    "        System.out.println(fila);\n",
    "    }\n",
    "}"
   ]
  },
  {
   "cell_type": "markdown",
   "id": "193d0db8",
   "metadata": {},
   "source": [
    "Saída do programa:\n",
    "\n",
    "    []\n",
    "    [1]\n",
    "    [1, 2]\n",
    "    [1, 2, 10]\n",
    "    [1, 2, 10, 50]\n",
    "    valor removido: 1\n",
    "    [2, 10, 50]\n",
    "    valor removido: 2\n",
    "    [10, 50]\n"
   ]
  },
  {
   "cell_type": "markdown",
   "id": "6aea5877",
   "metadata": {},
   "source": [
    "<p>Implementação com <strong>LinkedList</strong>:</p>\n",
    "<ul>\n",
    "    <li>A operação <i>enqueue</i> adiciona elementos ao final da fila;</li>\n",
    "    <li>A operação <i>dequeue</i> remove elementos do início;</li>\n",
    "    <li>Ambas as operações são eficientes (<strong>O(1)</strong>).</li>\n",
    "</ul>"
   ]
  },
  {
   "cell_type": "markdown",
   "id": "7930eba8",
   "metadata": {},
   "source": [
    "<h4 style=\"color: #2d3436;\"><strong>Código 4</strong>: Implementação de uma fila com LinkedList.</h4>"
   ]
  },
  {
   "cell_type": "code",
   "execution_count": 4,
   "id": "b899a388",
   "metadata": {},
   "outputs": [
    {
     "name": "stdout",
     "output_type": "stream",
     "text": [
      "Overwriting Main.java\n"
     ]
    }
   ],
   "source": [
    "%%file Main.java\n",
    "\n",
    "import java.util.Arrays;\n",
    "import java.util.LinkedList;\n",
    "\n",
    "public class Main { \n",
    "    public static void main(String[] args) {\n",
    "        LinkedList<Integer> fila = new LinkedList<Integer>();\n",
    "        System.out.println(fila);\n",
    "\n",
    "        // enqueue 1\n",
    "        fila.addLast(1);\n",
    "        System.out.println(fila);\n",
    "\n",
    "        // enqueue 2\n",
    "        fila.addLast(2);\n",
    "        System.out.println(fila);\n",
    "\n",
    "        // enqueue 10\n",
    "        fila.addLast(10);\n",
    "        System.out.println(fila);\n",
    "\n",
    "        // enqueue 50\n",
    "        fila.addLast(50);\n",
    "        System.out.println(fila);\n",
    "\n",
    "        // dequeue\n",
    "        int valorInicio = fila.removeFirst();\n",
    "        System.out.println(\"valor removido: \" + valorInicio);\n",
    "        System.out.println(fila);\n",
    "\n",
    "        // dequeue\n",
    "        valorInicio = fila.removeFirst();\n",
    "        System.out.println(\"valor removido: \" + valorInicio);\n",
    "        System.out.println(fila);\n",
    "    }\n",
    "}"
   ]
  },
  {
   "cell_type": "markdown",
   "id": "858e469d",
   "metadata": {},
   "source": [
    "Saída do programa:\n",
    "\n",
    "    []\n",
    "    [1]\n",
    "    [1, 2]\n",
    "    [1, 2, 10]\n",
    "    [1, 2, 10, 50]\n",
    "    valor removido: 1\n",
    "    [2, 10, 50]\n",
    "    valor removido: 2\n",
    "    [10, 50]"
   ]
  }
 ],
 "metadata": {
  "kernelspec": {
   "display_name": "Python 3",
   "language": "python",
   "name": "python3"
  },
  "language_info": {
   "codemirror_mode": {
    "name": "ipython",
    "version": 3
   },
   "file_extension": ".py",
   "mimetype": "text/x-python",
   "name": "python",
   "nbconvert_exporter": "python",
   "pygments_lexer": "ipython3",
   "version": "3.8.10"
  }
 },
 "nbformat": 4,
 "nbformat_minor": 5
}
