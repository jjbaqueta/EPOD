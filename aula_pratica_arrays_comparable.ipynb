{
 "cells": [
  {
   "cell_type": "markdown",
   "id": "a58c62f6",
   "metadata": {},
   "source": [
    "# Aula prática: Classe Arrays e Interfaces Comparable e Compare\n",
    "\n",
    "Este notebook contém os códigos que foram apresentados durante a aula."
   ]
  },
  {
   "cell_type": "markdown",
   "id": "2a817dec",
   "metadata": {},
   "source": [
    "*IMPORTANTE*: Lembre-se, o comando '%%file' é utilizado pelo Python para criar os arquivos .java em sua máquina local (no diretório onde este notebook está salvo). Os arquivos criados são nomeados de acordo com o identificador que aparece após o comando '%%file'."
   ]
  },
  {
   "cell_type": "markdown",
   "id": "fa717b8d",
   "metadata": {},
   "source": [
    "#### Parte 1: ordenação de tipo primitivo\n",
    "\n",
    "Uso do método Arrays.sort para ordenar um array de inteiros (int: tipo primitivo)."
   ]
  },
  {
   "cell_type": "code",
   "execution_count": 1,
   "id": "8cd2625c",
   "metadata": {},
   "outputs": [
    {
     "name": "stdout",
     "output_type": "stream",
     "text": [
      "Writing Main.java\n"
     ]
    }
   ],
   "source": [
    "%%file Main.java\n",
    "\n",
    "import java.util.Arrays;\n",
    "\n",
    "public class Main {\n",
    "\n",
    "\tpublic static void main(String[] args) {\n",
    "\t\t\n",
    "\t\tint[] numeros = new int[10];\n",
    "\t\t\n",
    "\t\tfor (int i = 0; i < numeros.length; i++) {\n",
    "\t\t\tnumeros[i] = numeros.length - i;\n",
    "\t\t}\n",
    "\t\t\n",
    "\t\tSystem.out.println(\"Array original:\");\n",
    "\t\tSystem.out.println(Arrays.toString(numeros));\n",
    "\t\t\n",
    "\t\tArrays.sort(numeros, 4, 8);\n",
    "\t\t\n",
    "\t\tSystem.out.println(\"Array parcialmente ordenado:\");\n",
    "\t\tSystem.out.println(Arrays.toString(numeros));\n",
    "\t\t\n",
    "\t\tArrays.sort(numeros);\n",
    "\t\t\t\t\n",
    "\t\tSystem.out.println(\"Array ordenado:\");\n",
    "\t\tSystem.out.println(Arrays.toString(numeros));\n",
    "\t}\n",
    "}"
   ]
  },
  {
   "cell_type": "markdown",
   "id": "e4b14e02",
   "metadata": {},
   "source": [
    "#### Parte 2: ordenação de objetos\n",
    "\n",
    "Ordenando um array de objetos, no caso um array onde cada posição armazena um objeto do tipo Conta. A seguir são especificadas a classe Main, onde o método de ordenação é chamado, a classe Conta, a partir da qual podemos instanciar objetos do tipo Conta, e a classe CompararTitular que implementa um critério alternativo de comparação para objetos do tipo Conta, neste caso, a comparação é realizada pelo nome do titular da conta."
   ]
  },
  {
   "cell_type": "code",
   "execution_count": 2,
   "id": "ac4698ea",
   "metadata": {},
   "outputs": [
    {
     "name": "stdout",
     "output_type": "stream",
     "text": [
      "Overwriting Main.java\n"
     ]
    }
   ],
   "source": [
    "%%file Main.java\n",
    "\n",
    "import java.util.Arrays;\n",
    "\n",
    "public class Main {\n",
    "\n",
    "\tpublic static void main(String[] args) {\n",
    "\t\t\n",
    "\t\tConta[] contas = new Conta[5];\n",
    "\t\t\n",
    "\t\tcontas[0] = new Conta(1, \"Pedro\", 2500.0);\n",
    "\t\tcontas[1] = new Conta(2, \"Ana\", 20000.0);\n",
    "\t\tcontas[2] = new Conta(3, \"Pedro\", 1500.0);\n",
    "\t\tcontas[3] = new Conta(4, \"Pedro\", 1000.0);\n",
    "\t\tcontas[4] = new Conta(5, \"Maria\", 1000.0);\n",
    "\t\t\n",
    "\t\tArrays.sort(contas);\n",
    "\n",
    "\t\tSystem.out.println(\"Array ordenado por número da conta:\");\n",
    "\t\tSystem.out.println(Arrays.toString(contas));\n",
    "\n",
    "\t\tArrays.sort(contas, new CompararTitular());\n",
    "\t\t\n",
    "\t\tSystem.out.println(\"Array ordenado pelo nome do titular da conta:\");\n",
    "\t\tSystem.out.println(Arrays.toString(contas));\n",
    "\t}\n",
    "}"
   ]
  },
  {
   "cell_type": "code",
   "execution_count": 3,
   "id": "9521e011",
   "metadata": {},
   "outputs": [
    {
     "name": "stdout",
     "output_type": "stream",
     "text": [
      "Writing Conta.java\n"
     ]
    }
   ],
   "source": [
    "%%file Conta.java\n",
    "\n",
    "public class Conta implements Comparable<Conta>{\n",
    "\tprivate Integer numero;\n",
    "\tprivate String nome;\n",
    "\tprivate Double valor;\n",
    "\t\n",
    "\tpublic Conta(Integer numero, String nome, Double valor) {\n",
    "\t\tthis.numero = numero;\n",
    "\t\tthis.nome = nome;\n",
    "\t\tthis.valor = valor;\n",
    "\t}\n",
    "\t\n",
    "\tpublic Integer getNumero() {\n",
    "\t\treturn numero;\n",
    "\t}\n",
    "\n",
    "\tpublic String getNome() {\n",
    "\t\treturn nome;\n",
    "\t}\n",
    "\n",
    "\tpublic Double getValor() {\n",
    "\t\treturn valor;\n",
    "\t}\n",
    "\n",
    "\t@Override\n",
    "\tpublic String toString() {\n",
    "\t\treturn \"Conta: numero = \" + numero + \", nome = \" + nome + \", valor = \" + valor + \"\\n\";\n",
    "\t}\n",
    "\n",
    "\t@Override\n",
    "\tpublic int compareTo(Conta outraConta) {\n",
    "\t\tif (this.numero < outraConta.numero) {\n",
    "\t\t\treturn -1;\n",
    "\t\t}\n",
    "\t\tif (this.numero > outraConta.numero) {\n",
    "\t\t\treturn 1;\n",
    "\t\t}\n",
    "\t\treturn 0;\n",
    "\t}\n",
    "}"
   ]
  },
  {
   "cell_type": "code",
   "execution_count": 4,
   "id": "ff50453d",
   "metadata": {},
   "outputs": [
    {
     "name": "stdout",
     "output_type": "stream",
     "text": [
      "Writing CompararTitular.java\n"
     ]
    }
   ],
   "source": [
    "%%file CompararTitular.java\n",
    "\n",
    "import java.util.Comparator;\n",
    "\n",
    "public class CompararTitular implements Comparator<Conta>{\n",
    "\n",
    "\t@Override\n",
    "\tpublic int compare(Conta conta1, Conta conta2) {\n",
    "\t\tint resultado = conta1.getNome().compareTo(conta2.getNome()); \n",
    "\t\t\n",
    "\t\t// Lógica utilizada na ordenação por nome de titular decrescente.\n",
    "\t\tif (resultado > 0) {\n",
    "\t\t\treturn -1;\n",
    "\t\t}\n",
    "\t\tif (resultado < 0) {\n",
    "\t\t\treturn 1;\n",
    "\t\t}\n",
    "\t\treturn 0;\n",
    "\t}\n",
    "}"
   ]
  },
  {
   "cell_type": "markdown",
   "id": "e463e5ab",
   "metadata": {},
   "source": [
    "Para compilar os três arquivos descritos acima diretamente no terminal (Main.java, Conta.java e CompararTitular.java), utilize os seguintes comandos:\n",
    "-   Compilação: javac Main.java Conta.java CompararTitular.java\n",
    "-   Execução: Main"
   ]
  }
 ],
 "metadata": {
  "kernelspec": {
   "display_name": "Python 3",
   "language": "python",
   "name": "python3"
  },
  "language_info": {
   "codemirror_mode": {
    "name": "ipython",
    "version": 3
   },
   "file_extension": ".py",
   "mimetype": "text/x-python",
   "name": "python",
   "nbconvert_exporter": "python",
   "pygments_lexer": "ipython3",
   "version": "3.8.10"
  }
 },
 "nbformat": 4,
 "nbformat_minor": 5
}
