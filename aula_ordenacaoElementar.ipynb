{
 "cells": [
  {
   "cell_type": "markdown",
   "id": "a58c62f6",
   "metadata": {},
   "source": [
    "# Aula sobre ordenação elementar\n",
    "\n",
    "Implementação dos algoritmos Insertion Sort e Selection Sort."
   ]
  },
  {
   "cell_type": "markdown",
   "id": "2a817dec",
   "metadata": {},
   "source": [
    "*IMPORTANTE*: Lembre-se, o comando '%%file' é utilizado pelo Python para criar os arquivos .java em sua máquina local (no diretório onde este notebook está salvo). Os arquivos criados são nomeados de acordo com o identificador que aparece após o comando '%%file'."
   ]
  },
  {
   "cell_type": "markdown",
   "id": "893e75cd",
   "metadata": {},
   "source": [
    "**Problema**: ordenar os elementos de um vetor."
   ]
  },
  {
   "cell_type": "markdown",
   "id": "6156b873",
   "metadata": {},
   "source": [
    "Exemplo de entrada e saída:\n",
    "\n",
    "    Entrada: [4, 5, 89, 20, 43, 12, 2, 7, 80, 12]\n",
    "    Saída:   [2, 4, 5, 7, 12, 12, 20, 43, 80, 89]"
   ]
  },
  {
   "cell_type": "code",
   "execution_count": 1,
   "id": "8cd2625c",
   "metadata": {},
   "outputs": [
    {
     "name": "stdout",
     "output_type": "stream",
     "text": [
      "Writing InsertionSort.java\n"
     ]
    }
   ],
   "source": [
    "%%file InsertionSort.java\n",
    "\n",
    "import java.util.Arrays;\n",
    "import java.util.Random;\n",
    "\n",
    "public class InsertionSort {\n",
    "\n",
    "\tprivate static final int TAMANHO_MAXIMO = 10;\n",
    "\t\n",
    "\t/**\n",
    "\t * Função que implementa o algoritmo Insertion Sort.\n",
    "\t * \n",
    "\t * @param vet - vetor de inteiros\n",
    "\t */\n",
    "\tpublic static void insertionSort(int[] vet) {\n",
    "        for (int i = 1; i < vet.length; ++i) {\n",
    "            int chave = vet[i];\n",
    "            int j = i - 1;\n",
    "\n",
    "            // Move os elementos de vet[0..i-1] que são maiores que a chave para frente\n",
    "            while (j >= 0 && vet[j] > chave) {\n",
    "                vet[j + 1] = vet[j];\n",
    "                j = j - 1;\n",
    "            }\n",
    "            vet[j + 1] = chave;\n",
    "        }\n",
    "    }\n",
    "\t\n",
    "\tpublic static void main(String[] args) {\n",
    "\t\tint[] vet = new int[TAMANHO_MAXIMO];\n",
    "    \t\n",
    "    \tRandom rand = new Random();\n",
    "    \tfor (int i = 0; i < TAMANHO_MAXIMO; i++) {\n",
    "    \t\tvet[i] = rand.nextInt(TAMANHO_MAXIMO);\n",
    "    \t}\n",
    "    \tSystem.out.println(\"Vertor não ordenado:\");\n",
    "    \tSystem.out.println(Arrays.toString(vet));\n",
    "    \t\n",
    "    \tinsertionSort(vet);\n",
    "    \t\n",
    "    \tSystem.out.println(\"Array ordenado:\");\n",
    "    \tSystem.out.println(Arrays.toString(vet));\n",
    "\t}\n",
    "}"
   ]
  },
  {
   "cell_type": "code",
   "execution_count": 2,
   "id": "690e6324",
   "metadata": {},
   "outputs": [
    {
     "name": "stdout",
     "output_type": "stream",
     "text": [
      "Writing SelectionSort.java\n"
     ]
    }
   ],
   "source": [
    "%%file SelectionSort.java\n",
    "\n",
    "import java.util.Arrays;\n",
    "import java.util.Random;\n",
    "\n",
    "public class SelectionSort {\n",
    "\n",
    "\tprivate static final int TAMANHO_MAXIMO = 10;\n",
    "\t\n",
    "\t/**\n",
    "\t * Função que implementa o algoritmo Selection Sort.\n",
    "\t * \n",
    "\t * @param vet - vetor de inteiros\n",
    "\t */\n",
    "\tpublic static void selectionSort(int[] vet) {\n",
    "        for (int i = 0; i < vet.length - 1; i++) {\n",
    "            // Encontra o menor elemento da parte não ordenada\n",
    "            int indice = i;\n",
    "            for (int j = i + 1; j < vet.length; j++) {\n",
    "                if (vet[j] < vet[indice]) {\n",
    "                \tindice = j;\n",
    "                }\n",
    "            }\n",
    "            // Troca o menor elemento com o elemento i da parte ordenada\n",
    "            if (vet[i] > vet[indice]) {\n",
    "            \tint aux = vet[indice];\n",
    "            \tvet[indice] = vet[i];\n",
    "            \tvet[i] = aux;            \t\n",
    "            }\n",
    "        }\n",
    "    }\n",
    "\t\n",
    "\tpublic static void main(String[] args) {\n",
    "\t\tint[] vet = new int[TAMANHO_MAXIMO];\n",
    "    \t\n",
    "    \tRandom rand = new Random();\n",
    "    \tfor (int i = 0; i < TAMANHO_MAXIMO; i++) {\n",
    "    \t\tvet[i] = rand.nextInt(TAMANHO_MAXIMO);\n",
    "    \t}\n",
    "    \tSystem.out.println(\"Vertor não ordenado:\");\n",
    "    \tSystem.out.println(Arrays.toString(vet));\n",
    "    \t\n",
    "    \tselectionSort(vet);\n",
    "    \t\n",
    "    \tSystem.out.println(\"Array ordenado:\");\n",
    "    \tSystem.out.println(Arrays.toString(vet));\n",
    "\t}\n",
    "}"
   ]
  }
 ],
 "metadata": {
  "kernelspec": {
   "display_name": "Python 3",
   "language": "python",
   "name": "python3"
  },
  "language_info": {
   "codemirror_mode": {
    "name": "ipython",
    "version": 3
   },
   "file_extension": ".py",
   "mimetype": "text/x-python",
   "name": "python",
   "nbconvert_exporter": "python",
   "pygments_lexer": "ipython3",
   "version": "3.8.10"
  }
 },
 "nbformat": 4,
 "nbformat_minor": 5
}
