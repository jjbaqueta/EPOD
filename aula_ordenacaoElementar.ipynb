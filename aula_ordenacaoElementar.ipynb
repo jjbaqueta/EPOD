{
 "cells": [
  {
   "cell_type": "markdown",
   "id": "a58c62f6",
   "metadata": {},
   "source": [
    "# Ordenação Elementar\n",
    "\n",
    "### Insertion Sort e Selection Sort."
   ]
  },
  {
   "cell_type": "markdown",
   "id": "2a817dec",
   "metadata": {},
   "source": [
    "<small><strong>IMPORTANTE</strong>: <p>O comando '%%file' é usado no Python para criar os arquivos .java no diretório local onde o notebook está salvo, nomeando os arquivos conforme o identificador após o '%%file'.</p></small>"
   ]
  },
  {
   "cell_type": "markdown",
   "id": "893e75cd",
   "metadata": {},
   "source": [
    "**Problema**:<p>Ordenar os elementos de um vetor em ordem crescente.</p>"
   ]
  },
  {
   "cell_type": "markdown",
   "id": "6156b873",
   "metadata": {},
   "source": [
    "Exemplo de entrada e saída:\n",
    "\n",
    "    Entrada: [4, 5, 89, 20, 43, 12, 2, 7, 80, 12]\n",
    "    Saída:   [2, 4, 5, 7, 12, 12, 20, 43, 80, 89]"
   ]
  },
  {
   "cell_type": "markdown",
   "id": "b698f31e",
   "metadata": {},
   "source": [
    "#### Implementação do Insertion Sort:"
   ]
  },
  {
   "cell_type": "code",
   "execution_count": 1,
   "id": "8cd2625c",
   "metadata": {},
   "outputs": [
    {
     "name": "stdout",
     "output_type": "stream",
     "text": [
      "Writing InsertionSort.java\n"
     ]
    }
   ],
   "source": [
    "%%file InsertionSort.java\n",
    "\n",
    "import java.util.Arrays;\n",
    "import java.util.Random;\n",
    "\n",
    "public class InsertionSort {\n",
    "\tprivate static final int TAMANHO_MAXIMO = 10;\n",
    "\t\n",
    "\t/**\n",
    "\t * Função que implementa o algoritmo Insertion Sort.\n",
    "\t * \n",
    "\t * @param vet - vetor de inteiros\n",
    "\t */\n",
    "\tpublic static void insertionSort(int[] vet) {\n",
    "\t\tfor (int i = 1; i < vet.length; ++i) {\n",
    "\t\t\tint chave = vet[i];\n",
    "\t\t\tint j = i - 1;\n",
    "\n",
    "\t\t\t// Move os elementos de vet[0 .. i - 1] que são maiores que a chave para frente\n",
    "\t\t\twhile (j >= 0 && vet[j] > chave) {\n",
    "\t\t\t\tvet[j + 1] = vet[j];\n",
    "\t\t\t\tj = j - 1;\n",
    "\t\t\t}\n",
    "\t\t\tvet[j + 1] = chave;\n",
    "\t\t}\n",
    "\t}\n",
    "\t\n",
    "\tpublic static void main(String[] args) {\n",
    "\t\tint[] vet = new int[TAMANHO_MAXIMO];\n",
    "\t\tRandom rand = new Random();\n",
    "  \n",
    "\t\tfor (int i = 0; i < TAMANHO_MAXIMO; i++) {\n",
    "\t\t\tvet[i] = rand.nextInt(TAMANHO_MAXIMO);\n",
    "\t\t}\n",
    "\n",
    "\t\tSystem.out.println(\"Vertor não ordenado:\");\n",
    "\t\tSystem.out.println(Arrays.toString(vet));\n",
    "\n",
    "\t\tinsertionSort(vet);\n",
    "\n",
    "\t\tSystem.out.println(\"Array ordenado:\");\n",
    "\t\tSystem.out.println(Arrays.toString(vet));\n",
    "\t}\n",
    "}"
   ]
  },
  {
   "cell_type": "markdown",
   "id": "a50557df",
   "metadata": {},
   "source": [
    "#### Implementação do Selection Sort:"
   ]
  },
  {
   "cell_type": "code",
   "execution_count": 2,
   "id": "690e6324",
   "metadata": {},
   "outputs": [
    {
     "name": "stdout",
     "output_type": "stream",
     "text": [
      "Writing SelectionSort.java\n"
     ]
    }
   ],
   "source": [
    "%%file SelectionSort.java\n",
    "\n",
    "import java.util.Arrays;\n",
    "import java.util.Random;\n",
    "\n",
    "public class SelectionSort {\n",
    "\tprivate static final int TAMANHO_MAXIMO = 10;\n",
    "\n",
    "\t/**\n",
    "\t* Função que implementa o algoritmo Selection Sort.\n",
    "\t* \n",
    "\t* @param vet - vetor de inteiros\n",
    "\t*/\n",
    "\tpublic static void selectionSort(int[] vet) {\n",
    "\t\tfor (int i = 0; i < vet.length - 1; i++) {\n",
    "\t\t\t// Encontra o menor elemento da parte não ordenada\n",
    "\t\t\tint indice = i;\n",
    "\t\t\tfor (int j = i + 1; j < vet.length; j++) {\n",
    "\t\t\t\tif (vet[j] < vet[indice]) {\n",
    "\t\t\t\t\tindice = j;\n",
    "\t\t\t\t}\n",
    "\t\t\t}\n",
    "\t\t\t// Troca o menor elemento com o elemento i da parte ordenada\n",
    "\t\t\tif (vet[i] > vet[indice]) {\n",
    "\t\t\t\tint aux = vet[indice];\n",
    "\t\t\t\tvet[indice] = vet[i];\n",
    "\t\t\t\tvet[i] = aux;            \t\n",
    "\t\t\t}\n",
    "\t\t}\n",
    "\t}\n",
    "\t\n",
    "\tpublic static void main(String[] args) {\n",
    "\t\tint[] vet = new int[TAMANHO_MAXIMO];\n",
    "\t\tRandom rand = new Random();\n",
    "  \n",
    "\t\tfor (int i = 0; i < TAMANHO_MAXIMO; i++) {\n",
    "\t\t\tvet[i] = rand.nextInt(TAMANHO_MAXIMO);\n",
    "\t\t}\n",
    "\n",
    "\t\tSystem.out.println(\"Vertor não ordenado:\");\n",
    "\t\tSystem.out.println(Arrays.toString(vet));\n",
    "\n",
    "\t\tselectionSort(vet);\n",
    "\n",
    "\t\tSystem.out.println(\"Array ordenado:\");\n",
    "\t\tSystem.out.println(Arrays.toString(vet));\n",
    "\t}\n",
    "}"
   ]
  }
 ],
 "metadata": {
  "kernelspec": {
   "display_name": "Python 3",
   "language": "python",
   "name": "python3"
  },
  "language_info": {
   "codemirror_mode": {
    "name": "ipython",
    "version": 3
   },
   "file_extension": ".py",
   "mimetype": "text/x-python",
   "name": "python",
   "nbconvert_exporter": "python",
   "pygments_lexer": "ipython3",
   "version": "3.8.10"
  }
 },
 "nbformat": 4,
 "nbformat_minor": 5
}
