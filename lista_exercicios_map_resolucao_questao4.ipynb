{
 "cells": [
  {
   "cell_type": "markdown",
   "id": "a58c62f6",
   "metadata": {},
   "source": [
    "## Questão 4\n",
    "#### Resolução\n",
    "\n",
    "*IMPORTANTE*: o comando '%%file' é utilizado pelo Python para criar os arquivos .java em sua máquina local (no diretório onde este notebook está salvo)."
   ]
  },
  {
   "cell_type": "markdown",
   "id": "a12f7940",
   "metadata": {},
   "source": [
    "- Classe \"Questao4\", implementa a função main:"
   ]
  },
  {
   "cell_type": "code",
   "execution_count": 1,
   "id": "7830271d",
   "metadata": {},
   "outputs": [
    {
     "name": "stdout",
     "output_type": "stream",
     "text": [
      "Overwriting Questao3.java\n"
     ]
    }
   ],
   "source": [
    "%%file Questao4.java\n",
    "\n",
    "import java.io.BufferedReader;\n",
    "import java.io.File;\n",
    "import java.io.FileNotFoundException;\n",
    "import java.io.FileReader;\n",
    "import java.io.IOException;\n",
    "import java.util.HashMap;\n",
    "import java.util.Map;\n",
    "import java.util.TreeMap;\n",
    "\n",
    "public class Questao4 {\n",
    "\n",
    "\tpublic static void main(String[] args) {\n",
    "\t\tString linha = \"\";\n",
    "\t\tString separador = \",\";\n",
    "\t\tBufferedReader bufferReader = null;\n",
    "\t\tboolean primeiraLinha = true;\n",
    "\n",
    "\t\tMap<String, Map<String, Integer>> candidatos = new HashMap<String, Map<String, Integer>>();\n",
    "\n",
    "\t\ttry {\n",
    "\t\t\tbufferReader = new BufferedReader(new FileReader(new File(\"src/votos_cidades.csv\")));\n",
    "\t\t\twhile ((linha = bufferReader.readLine()) != null) {\n",
    "\t\t\t\tif (primeiraLinha) {\n",
    "\t\t\t\t\tprimeiraLinha = false;\n",
    "\t\t\t\t\tcontinue;\n",
    "\t\t\t\t}\n",
    "\t\t\t\tString[] campos = linha.split(separador);\n",
    "\t\t\t\t\n",
    "\t\t\t\tString candidato = campos[0];\n",
    "\t\t\t\tString cidade = campos[1];\n",
    "\t\t\t\tint votosRecebidos = Integer.parseInt(campos[2]);\n",
    "\t\t\t\t\n",
    "\t\t\t\tif (candidatos.containsKey(candidato)) {\n",
    "\t\t\t\t\tif (candidatos.get(candidato).containsKey(cidade)) {\n",
    "\t\t\t\t\t\tcandidatos.get(candidato).put(cidade, candidatos.get(candidato).get(cidade) + votosRecebidos);\n",
    "\t\t\t\t\t}\n",
    "\t\t\t\t\telse {\n",
    "\t\t\t\t\t\tcandidatos.get(candidato).put(cidade, votosRecebidos);\n",
    "\t\t\t\t\t}\n",
    "\t\t\t\t}\n",
    "\t\t\t\telse {\n",
    "\t\t\t\t\tcandidatos.put(candidato, new TreeMap<String, Integer>());\n",
    "\t\t\t\t\tcandidatos.get(candidato).put(cidade, votosRecebidos);\n",
    "\t\t\t\t}\n",
    "\t\t\t}\n",
    "\t\t\tSystem.out.println(\"Relatório da votação:\");\n",
    "\t        for (Map.Entry<String, Map<String, Integer>> entradaMap : candidatos.entrySet()) {\n",
    "\t        \tSystem.out.println(\"* \" + entradaMap.getKey() + \":\");\n",
    "\t        \tfor (Map.Entry<String, Integer> entradaTree : entradaMap.getValue().entrySet()) {\n",
    "\t        \t\tSystem.out.println(\" - \" + entradaTree.getKey() + \": recebeu \" + entradaTree.getValue() + \" votos\");\t        \t\t\n",
    "\t        \t}\n",
    "\t        }\n",
    "\t\t} \n",
    "\t\tcatch (FileNotFoundException e) {\n",
    "\t\t\te.printStackTrace();\n",
    "\t\t} \n",
    "\t\tcatch (IOException e) {\n",
    "\t\t\te.printStackTrace();\n",
    "\t\t} \n",
    "\t\tfinally {\n",
    "\t\t\tif (bufferReader != null) {\n",
    "\t\t\t\ttry {\n",
    "\t\t\t\t\tbufferReader.close();\n",
    "\t\t\t\t} \n",
    "\t\t\t\tcatch (IOException e) {\n",
    "\t\t\t\t\te.printStackTrace();\n",
    "\t\t\t\t}\n",
    "\t\t\t}\n",
    "\t\t}\n",
    "\t}\n",
    "}"
   ]
  },
  {
   "cell_type": "markdown",
   "id": "cf105569",
   "metadata": {},
   "source": [
    "- Arquivo de entrada:"
   ]
  },
  {
   "cell_type": "code",
   "execution_count": 1,
   "id": "0e8e78ea",
   "metadata": {},
   "outputs": [
    {
     "name": "stdout",
     "output_type": "stream",
     "text": [
      "Writing votos_cidades.csv\n"
     ]
    }
   ],
   "source": [
    "%%file votos_cidades.csv\n",
    "Candidato,Cidade,Votos\n",
    "Bob,Miami,1200\n",
    "Charlie,Miami,2100\n",
    "Alice,Nova Iorque,1500\n",
    "Charlie,Chicago,2500\n",
    "Bob,Los Angeles,2300\n",
    "Alice,Chicago,1800\n",
    "Bob,Nova Iorque,1200\n",
    "Alice,Nova Iorque,2500\n",
    "Charlie,Los Angeles,1700\n",
    "Alice,Los Angeles,900\n",
    "Charlie,Nova Iorque,2200\n",
    "Bob,Nova Iorque,1000\n",
    "Bob,Chicago,2400\n",
    "Charlie,Chicago,1500\n",
    "Bob,Los Angeles,1300\n",
    "Alice,Miami,1300\n",
    "Alice,Miami,1800\n",
    "Bob,Miami,1700\n",
    "Charlie,Miami,1200\n",
    "Charlie,Nova Iorque,1400\n",
    "Alice,Los Angeles,300\n",
    "Bob,Chicago,400\n",
    "Alice,Chicago,1200\n",
    "Charlie,Los Angeles,3300"
   ]
  }
 ],
 "metadata": {
  "kernelspec": {
   "display_name": "Python 3",
   "language": "python",
   "name": "python3"
  },
  "language_info": {
   "codemirror_mode": {
    "name": "ipython",
    "version": 3
   },
   "file_extension": ".py",
   "mimetype": "text/x-python",
   "name": "python",
   "nbconvert_exporter": "python",
   "pygments_lexer": "ipython3",
   "version": "3.8.10"
  }
 },
 "nbformat": 4,
 "nbformat_minor": 5
}
