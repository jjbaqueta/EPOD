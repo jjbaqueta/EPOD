{
 "cells": [
  {
   "cell_type": "markdown",
   "id": "a58c62f6",
   "metadata": {},
   "source": [
    "# Implementação de Filas e Pilhas\n",
    "\n",
    "Essa implementação faz uso do ArrayList e LinkedList do Java. "
   ]
  },
  {
   "cell_type": "markdown",
   "id": "2a817dec",
   "metadata": {},
   "source": [
    "*IMPORTANTE*: Lembre-se, o comando '%%file' é utilizado pelo Python para criar os arquivos .java em sua máquina local (no diretório onde este notebook está salvo). Os arquivos criados são nomeados de acordo com o identificador que aparece após o comando '%%file'."
   ]
  },
  {
   "cell_type": "markdown",
   "id": "893e75cd",
   "metadata": {},
   "source": [
    "### Pilha\n",
    "\n",
    "ArrayList: as operações push e pop correspondem a adicionar e remover elementos do final da lista. O acesso ao final da lista é eficiente (O(1))."
   ]
  },
  {
   "cell_type": "code",
   "execution_count": null,
   "id": "8cd2625c",
   "metadata": {},
   "outputs": [],
   "source": [
    "%%file Main.java\n",
    "\n",
    "import java.util.ArrayList;\n",
    "import java.util.Arrays;\n",
    "\n",
    "public class Main {\n",
    "\tpublic static void exibirPilha (ArrayList<Integer> pilha) {\n",
    "\t\tSystem.out.println(\"pilha: \" + Arrays.toString(pilha.toArray()));\n",
    "\t}\n",
    " \n",
    "\tpublic static void main(String[] args) {\n",
    "\t\tArrayList<Integer> pilha = new ArrayList<Integer>();\n",
    "\t\texibirPilha(pilha);\n",
    "\n",
    "  \t\tpilha.add(1);\t// push 1\n",
    "    \t\texibirPilha(pilha);\n",
    "\t\t\n",
    "  \t\tpilha.add(2);\t// push 2\n",
    "    \t\texibirPilha(pilha);\n",
    "  \t\t\n",
    "    \tpilha.add(10);\t// push 10\n",
    "\t\texibirPilha(pilha);\n",
    "  \n",
    "  \t\tpilha.add(50);\t// push 50\n",
    "\t\texibirPilha(pilha);\n",
    "\n",
    "\t\tint valorTopo = pilha.remove(pilha.size() - 1);\t// pop\n",
    "\t\tSystem.out.println(\"valor removido: \" + valorTopo);\n",
    "\t\texibirPilha(pilha);\n",
    "  \n",
    "  \t\tvalorTopo = pilha.remove(pilha.size() - 1);\t// pop\n",
    "\t\tSystem.out.println(\"valor removido: \" + valorTopo);\n",
    "\t\texibirPilha(pilha);\n",
    "\t}\n",
    "}"
   ]
  },
  {
   "cell_type": "markdown",
   "id": "f9681ed7",
   "metadata": {},
   "source": [
    "Saída do programa:\n",
    "\n",
    "    pilha: []\n",
    "    pilha: [1]\n",
    "    pilha: [1, 2]\n",
    "    pilha: [1, 2, 10]\n",
    "    pilha: [1, 2, 10, 50]\n",
    "    valor removido: 50\n",
    "    pilha: [1, 2, 10]\n",
    "    valor removido: 10\n",
    "    pilha: [1, 2]"
   ]
  },
  {
   "cell_type": "markdown",
   "id": "4879da2a",
   "metadata": {},
   "source": [
    "LinkedList: também pode ser usado para implementar uma pilha. A operação push adiciona elementos no início (ou no final, se desejado) e a operação pop remove elementos do início (ou do final). Em ambos o caso o acesso ao início (ou final) da lista é eficiente (O(1))."
   ]
  },
  {
   "cell_type": "code",
   "execution_count": null,
   "id": "2544bfc0",
   "metadata": {},
   "outputs": [],
   "source": [
    "%%file Main.java\n",
    "\n",
    "import java.util.Arrays;\n",
    "import java.util.LinkedList;\n",
    "\n",
    "public class Main {\n",
    "\t\n",
    "\tpublic static void exibirPilha (LinkedList<Integer> pilha) {\n",
    "\t\tSystem.out.println(\"pilha: \" + Arrays.toString(pilha.toArray()));\n",
    "\t}\n",
    "\t\n",
    "\tpublic static void main(String[] args) {\n",
    "\t\tLinkedList<Integer> pilha = new LinkedList<Integer>();\n",
    "\t\texibirPilha(pilha);\n",
    "\n",
    "  \t\tpilha.addFirst(1);\t// push 1\n",
    "    \texibirPilha(pilha);\n",
    "\t\t\n",
    "  \t\tpilha.addFirst(2);\t// push 2\n",
    "    \texibirPilha(pilha);\n",
    "  \t\t\n",
    "    \tpilha.addFirst(10);\t// push 10\n",
    "\t\texibirPilha(pilha);\n",
    "  \n",
    "  \t\tpilha.addFirst(50);\t// push 50\n",
    "\t\texibirPilha(pilha);\n",
    "\n",
    "\t\tint valorTopo = pilha.removeFirst();\t// pop\n",
    "\t\tSystem.out.println(\"valor removido: \" + valorTopo);\n",
    "\t\texibirPilha(pilha);\n",
    "  \n",
    "  \t\tvalorTopo = pilha.removeFirst();\t// pop\n",
    "\t\tSystem.out.println(\"valor removido: \" + valorTopo);\n",
    "\t\texibirPilha(pilha);\n",
    "\n",
    "\t}\n",
    "}"
   ]
  },
  {
   "cell_type": "markdown",
   "id": "49ab39ec",
   "metadata": {},
   "source": [
    "Saída do programa:\n",
    "\n",
    "    pilha: []\n",
    "    pilha: [1]\n",
    "    pilha: [1, 2]\n",
    "    pilha: [1, 2, 10]\n",
    "    pilha: [1, 2, 10, 50]\n",
    "    valor removido: 50\n",
    "    pilha: [1, 2, 10]\n",
    "    valor removido: 10\n",
    "    pilha: [1, 2]"
   ]
  },
  {
   "cell_type": "markdown",
   "id": "e5da0432",
   "metadata": {},
   "source": [
    "### Fila\n",
    "\n",
    "ArrayList: a operação enqueue adiciona elementos no final da lista (O(1)) e a operação dequeue remove elementos do início. No entanto, a remoção do início pode ser ineficiente, pois envolve o deslocamento dos elementos (O(n))."
   ]
  },
  {
   "cell_type": "code",
   "execution_count": null,
   "id": "2073f5f1",
   "metadata": {},
   "outputs": [],
   "source": [
    "%%file Main.java\n",
    "\n",
    "import java.util.ArrayList;\n",
    "import java.util.Arrays;\n",
    "\n",
    "public class Main {\n",
    "\tpublic static void exibirFila (ArrayList<Integer> fila) {\n",
    "\t\tSystem.out.println(\"fila: \" + Arrays.toString(fila.toArray()));\n",
    "\t}\n",
    " \n",
    "\tpublic static void main(String[] args) {\n",
    "\t\tArrayList<Integer> fila = new ArrayList<Integer>();\n",
    "\t\texibirFila(fila);\n",
    "\n",
    "  \t\tfila.add(1);\t// enqueue 1\n",
    "    \texibirFila(fila);\n",
    "\t\t\n",
    "  \t\tfila.add(2);\t// enqueue 2\n",
    "    \texibirFila(fila);\n",
    "  \t\t\n",
    "    \tfila.add(10);\t// enqueue 10\n",
    "\t\texibirFila(fila);\n",
    "  \n",
    "  \t\tfila.add(50);\t// enqueue 50\n",
    "\t\texibirFila(fila);\n",
    "\n",
    "\t\tint valorInicio = fila.remove(0);\t// dequeue\n",
    "\t\tSystem.out.println(\"valor removido: \" + valorInicio);\n",
    "\t\texibirFila(fila);\n",
    "  \n",
    "  \t\tvalorInicio = fila.remove(0);\t// dequeue\n",
    "\t\tSystem.out.println(\"valor removido: \" + valorInicio);\n",
    "\t\texibirFila(fila);\n",
    "\t}\n",
    "}"
   ]
  },
  {
   "cell_type": "markdown",
   "id": "193d0db8",
   "metadata": {},
   "source": [
    "Saída do programa:\n",
    "\n",
    "    fila: []\n",
    "    fila: [1]\n",
    "    fila: [1, 2]\n",
    "    fila: [1, 2, 10]\n",
    "    fila: [1, 2, 10, 50]\n",
    "    valor removido: 1\n",
    "    fila: [2, 10, 50]\n",
    "    valor removido: 2\n",
    "    fila: [10, 50]"
   ]
  },
  {
   "cell_type": "markdown",
   "id": "6aea5877",
   "metadata": {},
   "source": [
    "LinkedList: é mais eficiente para implementar uma fila. A operação enqueue adiciona elementos ao final e a operação dequeue remove elementos do início. Ambas as operações são eficientes (O(1))."
   ]
  },
  {
   "cell_type": "code",
   "execution_count": null,
   "id": "b899a388",
   "metadata": {},
   "outputs": [],
   "source": [
    "%%file Main.java\n",
    "\n",
    "import java.util.Arrays;\n",
    "import java.util.LinkedList;\n",
    "\n",
    "public class Main {\n",
    "\tpublic static void exibirFila (LinkedList<Integer> fila) {\n",
    "\t\tSystem.out.println(\"fila: \" + Arrays.toString(fila.toArray()));\n",
    "\t}\n",
    " \n",
    "\tpublic static void main(String[] args) {\n",
    "\t\tLinkedList<Integer> fila = new LinkedList<Integer>();\n",
    "\t\texibirFila(fila);\n",
    "\n",
    "  \t\tfila.addLast(1);\t// enqueue 1\n",
    "    \texibirFila(fila);\n",
    "\t\t\n",
    "  \t\tfila.addLast(2);\t// enqueue 2\n",
    "    \texibirFila(fila);\n",
    "  \t\t\n",
    "    \tfila.addLast(10);\t// enqueue 10\n",
    "\t\texibirFila(fila);\n",
    "  \n",
    "  \t\tfila.addLast(50);\t// enqueue 50\n",
    "\t\texibirFila(fila);\n",
    "\n",
    "\t\tint valorInicio = fila.removeFirst();\t// dequeue\n",
    "\t\tSystem.out.println(\"valor removido: \" + valorInicio);\n",
    "\t\texibirFila(fila);\n",
    "  \n",
    "  \t\tvalorInicio = fila.removeFirst();\t// dequeue\n",
    "\t\tSystem.out.println(\"valor removido: \" + valorInicio);\n",
    "\t\texibirFila(fila);\n",
    "\t}\n",
    "}"
   ]
  },
  {
   "cell_type": "markdown",
   "id": "858e469d",
   "metadata": {},
   "source": [
    "Saída do programa:\n",
    "\n",
    "    fila: []\n",
    "    fila: [1]\n",
    "    fila: [1, 2]\n",
    "    fila: [1, 2, 10]\n",
    "    fila: [1, 2, 10, 50]\n",
    "    valor removido: 1\n",
    "    fila: [2, 10, 50]\n",
    "    valor removido: 2\n",
    "    fila: [10, 50]"
   ]
  }
 ],
 "metadata": {
  "kernelspec": {
   "display_name": "Python 3",
   "language": "python",
   "name": "python3"
  },
  "language_info": {
   "codemirror_mode": {
    "name": "ipython",
    "version": 3
   },
   "file_extension": ".py",
   "mimetype": "text/x-python",
   "name": "python",
   "nbconvert_exporter": "python",
   "pygments_lexer": "ipython3",
   "version": "3.8.10"
  }
 },
 "nbformat": 4,
 "nbformat_minor": 5
}
