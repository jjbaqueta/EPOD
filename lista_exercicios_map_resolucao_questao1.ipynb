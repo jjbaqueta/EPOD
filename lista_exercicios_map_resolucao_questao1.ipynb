{
 "cells": [
  {
   "cell_type": "markdown",
   "id": "a58c62f6",
   "metadata": {},
   "source": [
    "## Questão 1\n",
    "#### Resolução\n",
    "\n",
    "*IMPORTANTE*: o comando '%%file' é utilizado pelo Python para criar os arquivos .java em sua máquina local (no diretório onde este notebook está salvo)."
   ]
  },
  {
   "cell_type": "code",
   "execution_count": 2,
   "id": "7830271d",
   "metadata": {},
   "outputs": [
    {
     "name": "stdout",
     "output_type": "stream",
     "text": [
      "Writing Questao1.java\n"
     ]
    }
   ],
   "source": [
    "%%file Questao1.java\n",
    "\n",
    "import java.util.HashSet;\n",
    "import java.util.Set;\n",
    "\n",
    "public class Questao1 {\n",
    "\n",
    "\tpublic static void main(String[] args) {\n",
    "\t\tSet<String> eventoA = new HashSet<String>();\n",
    "\t\teventoA.add(\"Ana\");\n",
    "\t\teventoA.add(\"Bia\");\n",
    "\t\teventoA.add(\"Carlos\");\n",
    "\t\teventoA.add(\"Daniel\");\n",
    "\t\t\n",
    "\t\tSet<String> eventoB = new HashSet<String>();\n",
    "\t\teventoB.add(\"Bia\");\n",
    "\t\teventoB.add(\"Carlos\");\n",
    "\t\teventoB.add(\"Eduardo\");\n",
    "\t\teventoB.add(\"Fernanda\");\n",
    "\t\t\n",
    "\t\tSet<String> participantes = new HashSet<>(eventoA);\n",
    "\t\tparticipantes.addAll(eventoB);\n",
    "\t    System.out.println(\"Participantes de pelo menos um dos eventos (união): \" + participantes);\n",
    "\t    \n",
    "\t    participantes = new HashSet<>(eventoA);\n",
    "\t    participantes.retainAll(eventoB);\n",
    "        System.out.println(\"Participantes em ambos os eventos (intersecção): \" + participantes);\n",
    "        \n",
    "        participantes = new HashSet<>(eventoA);\n",
    "        participantes.removeAll(eventoB);\n",
    "        System.out.println(\"Participantes exclusivos do evento A (diferença): \" + participantes);\n",
    "\t}\n",
    "}"
   ]
  }
 ],
 "metadata": {
  "kernelspec": {
   "display_name": "Python 3",
   "language": "python",
   "name": "python3"
  },
  "language_info": {
   "codemirror_mode": {
    "name": "ipython",
    "version": 3
   },
   "file_extension": ".py",
   "mimetype": "text/x-python",
   "name": "python",
   "nbconvert_exporter": "python",
   "pygments_lexer": "ipython3",
   "version": "3.8.10"
  }
 },
 "nbformat": 4,
 "nbformat_minor": 5
}
