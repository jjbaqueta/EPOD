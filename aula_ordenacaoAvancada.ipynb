{
 "cells": [
  {
   "cell_type": "markdown",
   "id": "a58c62f6",
   "metadata": {},
   "source": [
    "# Aula sobre ordenação avançada\n",
    "\n",
    "Implementação do algoritmo Merge Sort."
   ]
  },
  {
   "cell_type": "markdown",
   "id": "2a817dec",
   "metadata": {},
   "source": [
    "*IMPORTANTE*: Lembre-se, o comando '%%file' é utilizado pelo Python para criar os arquivos .java em sua máquina local (no diretório onde este notebook está salvo). Os arquivos criados são nomeados de acordo com o identificador que aparece após o comando '%%file'."
   ]
  },
  {
   "cell_type": "markdown",
   "id": "893e75cd",
   "metadata": {},
   "source": [
    "**Problema**: ordenar os elementos de um vetor."
   ]
  },
  {
   "cell_type": "markdown",
   "id": "6156b873",
   "metadata": {},
   "source": [
    "Exemplo de entrada e saída:\n",
    "\n",
    "    Entrada: [4, 5, 89, 20, 43, 12, 2, 7, 80, 12]\n",
    "    Saída:   [2, 4, 5, 7, 12, 12, 20, 43, 80, 89]"
   ]
  },
  {
   "cell_type": "code",
   "execution_count": 1,
   "id": "8cd2625c",
   "metadata": {},
   "outputs": [
    {
     "name": "stdout",
     "output_type": "stream",
     "text": [
      "Writing MergeSort.java\n"
     ]
    }
   ],
   "source": [
    "%%file MergeSort.java\n",
    "\n",
    "import java.util.Arrays;\n",
    "import java.util.Random;\n",
    "\n",
    "public class MergeSort {\n",
    "\n",
    "\tprivate static final int TAMANHO_MAXIMO = 10;\n",
    "\t\n",
    "\tprivate static void intercalar(int[] vet, int[] aux, int p, int q, int r) {\n",
    "\t\tint i = p, j = q + 1, k;\n",
    "\t\t\n",
    "\t\tfor (k = p; k <= r; k++) {\n",
    "\t\t\taux[k] = vet[k];\n",
    "\t\t}\n",
    "\t\tfor (k = p; k <= r; k++) {\n",
    "\t\t\tif (i > q) {\n",
    "\t\t\t\tvet[k] = aux[j++];\n",
    "\t\t\t}\n",
    "\t\t\telse if (j > r) {\n",
    "\t\t\t\tvet[k] = aux[i++];\n",
    "\t\t\t}\n",
    "\t\t\telse if (aux[j] <= aux[i]) {\n",
    "\t\t\t\tvet[k] = aux[j++];\n",
    "\t\t\t}\n",
    "\t\t\telse {\n",
    "\t\t\t\tvet[k] = aux[i++];\n",
    "\t\t\t}\n",
    "\t\t}\n",
    "\t}\n",
    "\t\n",
    "\tprivate static void dividir(int[] vet, int[] aux, int p, int r) {\n",
    "\t\tif (r <= p) {\n",
    "\t\t\treturn;\n",
    "\t\t}\n",
    "\t\tint q = p + (r - p) / 2;\n",
    "\t\tdividir(vet, aux, p, q);\n",
    "\t\tdividir(vet, aux, q + 1, r);\n",
    "\t\tintercalar(vet, aux, p, q, r);\n",
    "\t}\n",
    "\t\n",
    "\t/**\n",
    "\t * Função que implementa o algoritmo Merge Sort.\n",
    "\t * \n",
    "\t * @param vet - vetor de inteiros\n",
    "\t * @param aux - vetor auxiliar usado no processo de intercalação\n",
    "\t * @param p - índice da primeira posição do vetor vet.\n",
    "\t * @param r - índice da última posição do vetor vet\n",
    "\t */\n",
    "\tpublic static void mergeSort(int[] vet, int[] aux, int p, int r) {\n",
    "\t\tdividir(vet, aux, p, r);\n",
    "\t}\n",
    "\n",
    "\tpublic static void main(String[] args) {\n",
    "\t\tint[] vet = new int[TAMANHO_MAXIMO];\n",
    "\t\tint[] aux = new int[TAMANHO_MAXIMO];\n",
    "\t\t\n",
    "\t\tRandom rand = new Random();\n",
    "    \tfor (int i = 0; i < TAMANHO_MAXIMO; i++) {\n",
    "    \t\tvet[i] = rand.nextInt(TAMANHO_MAXIMO);\t\n",
    "    \t}\n",
    "\t\tSystem.out.println(\"vetor não ordenado: \" + Arrays.toString(vet));\t\t\n",
    "\t\tmergeSort(vet, aux, 0, TAMANHO_MAXIMO - 1);\n",
    "\t\tSystem.out.println(\"vetor ordenado: \" + Arrays.toString(vet));\n",
    "\t}\n",
    "}"
   ]
  }
 ],
 "metadata": {
  "kernelspec": {
   "display_name": "Python 3",
   "language": "python",
   "name": "python3"
  },
  "language_info": {
   "codemirror_mode": {
    "name": "ipython",
    "version": 3
   },
   "file_extension": ".py",
   "mimetype": "text/x-python",
   "name": "python",
   "nbconvert_exporter": "python",
   "pygments_lexer": "ipython3",
   "version": "3.8.10"
  }
 },
 "nbformat": 4,
 "nbformat_minor": 5
}
