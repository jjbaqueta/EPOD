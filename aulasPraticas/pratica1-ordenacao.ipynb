{
 "cells": [
  {
   "cell_type": "markdown",
   "id": "a58c62f6",
   "metadata": {},
   "source": [
    "<h1 style=\"color: #c0392b;\">Aula Prática - Algoritmos de Ordenação</h1>\n",
    "<h2>Interface Comparable e Funções Lambda</h2>."
   ]
  },
  {
   "cell_type": "markdown",
   "id": "2a817dec",
   "metadata": {},
   "source": [
    "<small>\n",
    "<p><strong>IMPORTANTE</strong>: O comando '%%file' é usado no Python para criar arquivos .java no diretório onde este notebook está salvo. Os arquivos criados são nomeados conforme o identificador fornecido após o comando '%%file'.</p>\n",
    "</small>"
   ]
  },
  {
   "cell_type": "markdown",
   "id": "893e75cd",
   "metadata": {},
   "source": [
    "<h3>Tipos primitivos</h3>\n",
    "\n",
    "<p>Tipos primitivos são os tipos de dados mais básicos em Java. Eles não são objetos e não têm métodos ou propriedades.</p>\n",
    "\n",
    "<p>Exemplos:</p>\n",
    "<ul style=\"list-style-type: square; margin-left: 20px;\">\n",
    "    <li><strong style=\"color: #c0392b;\">char</strong>: caracteres</li>\n",
    "    <li><strong style=\"color: #c0392b;\">int</strong>: números inteiros</li>\n",
    "    <li><strong style=\"color: #c0392b;\">double</strong>: números reais</li>\n",
    "    <li><strong style=\"color: #c0392b;\">boolean</strong>: valores verdadeiros ou falsos</li>\n",
    "</ul>\n",
    "\n",
    "<p>Em Java, um vetor composto por dados de tipo primitivo, como o vetor de números inteiros apresentado no código abaixo (Código 1), pode ser ordenado usando o método <a href=\"https://docs.oracle.com/en/java/javase/11/docs/api/java.base/java/util/Arrays.html#sort(int%5B%5D)\">sort</a> da classe <a href=\"https://docs.oracle.com/en/java/javase/11/docs/api/java.base/java/util/Arrays.html\">Arrays</a>.</p>\n",
    "\n",
    "<p>Por padrão, esse método ordena os elementos do vetor em ordem crescente utilizando uma implementação do algoritmo <a href=\"https://pt.wikipedia.org/wiki/Quicksort\">Quicksort</a>."
   ]
  },
  {
   "cell_type": "markdown",
   "id": "478df461",
   "metadata": {},
   "source": [
    "<h4 style=\"color: #2d3436;\"><strong>Código 1</strong>: Ordenando um vetor de inteiros.</h4>"
   ]
  },
  {
   "cell_type": "code",
   "execution_count": 9,
   "id": "8cd2625c",
   "metadata": {},
   "outputs": [
    {
     "name": "stdout",
     "output_type": "stream",
     "text": [
      "Writing OrdenacaoInts.java\n"
     ]
    }
   ],
   "source": [
    "%%file OrdenacaoInts.java\n",
    "\n",
    "import java.util.Arrays;\n",
    "import java.util.Random;\n",
    "\n",
    "public class OrdenacaoInts {\n",
    "\tprivate static final int TAMANHO = 10;\n",
    "\n",
    "\tpublic static void main(String[] args) {\n",
    "\t\tint[] numeros = new int[TAMANHO];\n",
    "\n",
    "\t\t// Inicializando o vetor com números aleatórios no intervalo de 0 a TAMANHO-1.\n",
    "\t\tRandom rand = new Random();\n",
    "\t\tfor (int i = 0; i < TAMANHO; i++) {\n",
    "\t\t\tnumeros[i] = rand.nextInt(TAMANHO);\n",
    "\t\t}\n",
    "\t\tSystem.out.println(\"Vetor não ordenado:\");\n",
    "\t\tSystem.out.println(Arrays.toString(numeros));\n",
    "\n",
    "\t\t// Ordenando os números em ordem crescente.\n",
    "\t\tArrays.sort(numeros);\n",
    "\n",
    "\t\tSystem.out.println(\"Vetor ordenado:\");\n",
    "\t\tSystem.out.println(Arrays.toString(numeros));\n",
    "\t}\n",
    "}"
   ]
  },
  {
   "cell_type": "markdown",
   "id": "36753b87",
   "metadata": {},
   "source": [
    "<h3>Objetos</h3>\n",
    "\n",
    "<p>Objetos são instâncias de classes. Eles podem ter propriedades (atributos) e métodos (comportamentos). Para criar um objeto, é necessário uma classe que define suas propriedades e comportamentos, como apresentado abaixo pela classe Aluno (Código 2).</p>"
   ]
  },
  {
   "cell_type": "markdown",
   "id": "08a3c4ae",
   "metadata": {},
   "source": [
    "<h4 style=\"color: #2d3436;\"><strong>Código 2</strong>: Implementação da classe Aluno.</h4>"
   ]
  },
  {
   "cell_type": "code",
   "execution_count": 6,
   "id": "690e6324",
   "metadata": {},
   "outputs": [
    {
     "name": "stdout",
     "output_type": "stream",
     "text": [
      "Overwriting Aluno.java\n"
     ]
    }
   ],
   "source": [
    "%%file Aluno.java\n",
    "\n",
    "import java.util.Arrays;\n",
    "import java.util.Random;\n",
    "\n",
    "public class Aluno implements Comparable<Aluno> {\n",
    "    private String nome;\n",
    "    private Integer ra; // Registro Acadêmico\n",
    "    private Double cr;  // Coeficiente de Rendimento\n",
    "\n",
    "    public Aluno (String nome, Integer ra, Double cr) {\n",
    "        this.nome = nome;\n",
    "        this.ra = ra;\n",
    "        this.cr = cr;\n",
    "    }\n",
    "\n",
    "    public String getNome(){\n",
    "        return nome;\n",
    "    }\n",
    "\n",
    "    public int getRA(){\n",
    "        return ra;\n",
    "    }\n",
    "\n",
    "    public double getCR(){\n",
    "        return cr;\n",
    "    }\n",
    "\n",
    "    @Override\n",
    "    public String toString() {\n",
    "        return nome + \",\" + ra + \",\" + cr;\n",
    "    }\n",
    "\n",
    "    @Override\n",
    "    public int compareTo(Aluno outro) {\n",
    "        return this.ra.compareTo(outro.ra);\n",
    "    }\n",
    "\n",
    "    public static void main(String[] args) {\n",
    "        Aluno aluno1 = new Aluno(\"Ana\", 150924, 8.5);\n",
    "        Aluno aluno2 = new Aluno(\"João\", 150923, 9.0);\n",
    "        Aluno aluno3 = new Aluno(\"Maria\", 150922, 9.5);\n",
    "\n",
    "        System.out.println(aluno1.compareTo(aluno2));\n",
    "        System.out.println(aluno3.compareTo(aluno2));\n",
    "        System.out.println(aluno1.compareTo(aluno1));\n",
    "    }\n",
    "}"
   ]
  },
  {
   "cell_type": "markdown",
   "id": "9f0aef10",
   "metadata": {},
   "source": [
    "<h3>Interface Comparable</h3>\n",
    "\n",
    "<p>A interface <a href=\"https://docs.oracle.com/en/java/javase/11/docs/api/java.base/java/lang/Comparable.html\">Comparable</a> é usada para comparar objetos em Java. Ela deve ser implementada pela classe do objeto que você deseja ordenar, definindo a ordem natural de comparação dos objetos.</p>\n",
    "    \n",
    "<p>A interface Comparable possui um único método (compareTo):</p>\n",
    "\n",
    "<pre>\n",
    "<code>\n",
    "/**\n",
    " * Interface para comparar objetos.\n",
    " * \n",
    " * @param &lt;T&gt o tipo do objeto a ser comparado.\n",
    " * @return um número negativo se o objeto atual for menor que o comparado (objeto o),\n",
    " *         zero se o objeto atual e o comparado forem iguais, \n",
    " *         ou um número positivo se o objeto atual for maior que o comparado.\n",
    " */\n",
    "public interface Comparable&lt;T&gt; { {\n",
    "    int compareTo(T o);\n",
    "}\n",
    "</code>\n",
    "</pre>"
   ]
  },
  {
   "cell_type": "markdown",
   "id": "cb1e93a6",
   "metadata": {},
   "source": [
    "<p>Ao implementar o método compareTo na classe Aluno (Código 2), definimos como os objetos do tipo Aluno serão comparados. Nesse caso, os alunos são comparados com base no atributo 'ra'.</p> \n",
    "    \n",
    "<p>Podemos utilizar o método sort da classe Arrays para ordenar um vetor de alunos (Código 3). Por padrão, os objetos serão ordenados em ordem crescente (o aluno com o maior 'ra' vem primeiro). A ordenação de objetos é realizada por meio de uma implementação do algoritmo de ordenação <a href=\"https://en.wikipedia.org/wiki/Merge_sort\">Merge Sort</a>.</p>"
   ]
  },
  {
   "cell_type": "markdown",
   "id": "e7d87e51",
   "metadata": {},
   "source": [
    "<h4 style=\"color: #2d3436;\"><strong>Código 3</strong>: Ordenando um vetor de objetos.</h4>"
   ]
  },
  {
   "cell_type": "code",
   "execution_count": 1,
   "id": "8226ba2c",
   "metadata": {},
   "outputs": [
    {
     "name": "stdout",
     "output_type": "stream",
     "text": [
      "Writing OrdenacaoAlunos.java\n"
     ]
    }
   ],
   "source": [
    "%%file OrdenacaoAlunos.java\n",
    "\n",
    "import java.util.Arrays;\n",
    "\n",
    "public class OrdenacaoAlunos {\t\n",
    "    public static void main(String[] args) {\n",
    "        Aluno[] alunos = new Aluno[5];\n",
    "\n",
    "        alunos[0] = new Aluno(\"Ana\", 150924, 8.5);\n",
    "        alunos[1] = new Aluno(\"João\", 150923, 9.0);\n",
    "        alunos[2] = new Aluno(\"Maria\", 150922, 9.5);\n",
    "        alunos[3] = new Aluno(\"Pedro\", 150921, 6.5);\n",
    "        alunos[4] = new Aluno(\"Lucas\", 150920, 4.5);\n",
    "\n",
    "        // Ordenando os alunos em ordem crescente, os alunos são comparados com base no 'ra'\n",
    "        Arrays.sort(alunos);\n",
    "        System.out.println(Arrays.toString(alunos));\n",
    "    }\n",
    "}"
   ]
  },
  {
   "cell_type": "markdown",
   "id": "b4638d07",
   "metadata": {},
   "source": [
    "<h3>Função Lambda</h3>\n",
    "\n",
    "<p>Uma função lambda é uma maneira de escrever funções anônimas em Java.</p>\n",
    "    \n",
    "<pre>\n",
    "<code>\n",
    "/**\n",
    " * Estrutura básica de uma função lambda.\n",
    " * \n",
    " * parâmetros: argumentos da função.\n",
    " * expressão: o que a função retorna.\n",
    " */\n",
    "(parâmetros) -> expressão\n",
    "</code>\n",
    "</pre>\n",
    "\n",
    "<h4>O uso de {} (chaves)</h4>\n",
    "\n",
    "<p>Em Java, o uso de {} (chaves) em uma função lambda depende do corpo da função (expressão).</p>\n",
    "\n",
    "<p><strong>Sem chaves {}</strong>: Quando o corpo da função lambda tem apenas uma expressão simples que retorna um valor ou executa uma única operação, você não precisa usar chaves. Nesse caso, o valor de retorno é implícito:</p>\n",
    "\n",
    "<pre>\n",
    "<code>\n",
    "(a, b) -> a + b  // Sem chaves, pois é uma única expressão (retorna a + b)\n",
    "</code>\n",
    "</pre>\n",
    "\n",
    "<p><strong>Com chaves {}</strong>: Quando o corpo da função lambda contém mais de uma instrução, você deve usar as chaves {} para delimitar o bloco de código. Além disso, se a função lambda retornar um valor, você precisará usar a palavra-chave return explicitamente:</p>\n",
    "\n",
    "<pre>\n",
    "<code>\n",
    "(a, b) -> {\n",
    "    int sum = a + b;\n",
    "    return sum;  // Com chaves e return, pois há mais de uma instrução (retorna sum)\n",
    "}\n",
    "</code>\n",
    "</pre>\n",
    "\n",
    "<p>O código 4 exibe como ordenar um vetor de alunos de forma crescente e decrescente utilizando funções lambda.</p>"
   ]
  },
  {
   "cell_type": "markdown",
   "id": "d8e20ac7",
   "metadata": {},
   "source": [
    "<h4 style=\"color: #2d3436;\"><strong>Código 4</strong>: Utilizando funções lambda para ordenar um vetor de alunos.</h4>"
   ]
  },
  {
   "cell_type": "code",
   "execution_count": 8,
   "id": "66bf1134",
   "metadata": {},
   "outputs": [
    {
     "name": "stdout",
     "output_type": "stream",
     "text": [
      "Writing ComparadorLambda.java\n"
     ]
    }
   ],
   "source": [
    "%%file ComparadorLambda.java\n",
    "\n",
    "import java.util.Arrays;\n",
    "\n",
    "public class ComparadorLambda {\t\n",
    "    public static void main(String[] args) {\n",
    "        Aluno[] alunos = new Aluno[5];\n",
    "\n",
    "        alunos[0] = new Aluno(\"Ana\", 150924, 8.5);\n",
    "        alunos[1] = new Aluno(\"João\", 150923, 9.0);\n",
    "        alunos[2] = new Aluno(\"Maria\", 150922, 9.5);\n",
    "        alunos[3] = new Aluno(\"Pedro\", 150921, 6.5);\n",
    "        alunos[4] = new Aluno(\"Lucas\", 150920, 4.5);\n",
    "\n",
    "        // Ordenando os alunos em ordem crescente, os alunos são comparados com base no nome.\n",
    "        Arrays.sort(alunos, (aluno1, aluno2) -> aluno1.getNome().compareTo(aluno2.getNome()));\n",
    "        System.out.println(Arrays.toString(alunos));\n",
    "\n",
    "        // Ordenando os alunos em ordem decrescente por nome.\n",
    "        Arrays.sort(alunos, (aluno1, aluno2) -> aluno2.getNome().compareTo(aluno1.getNome()));\n",
    "        System.out.println(Arrays.toString(alunos));\n",
    "    }\n",
    "}"
   ]
  }
 ],
 "metadata": {
  "kernelspec": {
   "display_name": "Python 3",
   "language": "python",
   "name": "python3"
  },
  "language_info": {
   "codemirror_mode": {
    "name": "ipython",
    "version": 3
   },
   "file_extension": ".py",
   "mimetype": "text/x-python",
   "name": "python",
   "nbconvert_exporter": "python",
   "pygments_lexer": "ipython3",
   "version": "3.8.10"
  }
 },
 "nbformat": 4,
 "nbformat_minor": 5
}
