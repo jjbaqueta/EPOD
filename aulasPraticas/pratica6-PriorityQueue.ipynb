{
 "cells": [
  {
   "cell_type": "markdown",
   "id": "9262b917",
   "metadata": {},
   "source": [
    "<h1 style=\"color: #c0392b;\">Aula Prática - Filas de Prioridade</h1>\n",
    "<h2>Interface Queue e Classe PriorityQueue</h2>"
   ]
  },
  {
   "cell_type": "markdown",
   "id": "0577ab14",
   "metadata": {},
   "source": [
    "<small>\n",
    "<p><strong>IMPORTANTE</strong>: O comando '%%file' é usado no Python para criar arquivos .java no diretório onde este notebook está salvo. Os arquivos criados são nomeados conforme o identificador fornecido após o comando '%%file'.</p>\n",
    "</small>"
   ]
  },
  {
   "cell_type": "markdown",
   "id": "9c4cc708",
   "metadata": {},
   "source": [
    "<h3>Interface Queue</h3>\n",
    "\n",
    "\n",
    "<p>Uma <a href=\"https://docs.oracle.com/en/java/javase/11/docs/api/java.base/java/util/Queue.html\">Queue (Fila)</a> é uma interface em Java que representa uma coleção de elementos projetada para processamento em uma ordem específica. Geralmente, as filas seguem o princípio <strong>FIFO (First-In, First-Out)</strong>, onde o primeiro elemento a ser adicionado é também o primeiro a ser removido, semelhante a uma fila de atendimento do nosso cotidiano, como em bancos, padarias, entre outros lugares./p>\n",
    "\n",
    "<p>No entanto, existem implementações especiais, como a <strong>fila de prioridades</strong>, que ordenam os elementos com base em sua prioridade, em vez da ordem de chegada.</p>"
   ]
  },
  {
   "cell_type": "markdown",
   "id": "aa5db4eb",
   "metadata": {},
   "source": [
    "<h3>Classe PriorityQueue</h3>\n",
    "\n",
    "<p>Em Java, um fila de prioridades é implementada por meio da classe <a href=\"https://docs.oracle.com/en/java/javase/11/docs/api/java.base/java/util/PriorityQueue.html\">PriorityQueue</a>, que por padrão é um <strong>min-heap</strong>, o que significa que o elemento de <strong>menor</strong> valor (a cabeça da fila) tem a maior prioridade e é o primeiro a ser removido.</p>\n",
    "\n",
    "<p>A forma como os elementos são organizados depende da <strong>ordem natural</strong> (quando a classe do elemento implementa a interface <strong>Comparable</strong>) ou de uma <strong>ordem personalizada</strong>, definida por meio de um <strong>Comparator</strong>.</p>\n",
    "\n",
    "<p>Alguns métodos importantes de uma PriorityQueue:</p>\n",
    "\n",
    "<ul>\n",
    "    <li>add(E e): Adiciona um elemento à fila.</li>\n",
    "    <li>poll(): Remove e retorna o elemento de maior prioridade (a cabeça da fila).</li>\n",
    "    <li>peek(): Retorna o elemento de maior prioridade sem removê-lo.</li>\n",
    "    <li>contains(Object o): retorna true se o conjunto contiver o objeto especificado.</li>\n",
    "    <li>isEmpty(): retorna true se o conjunto estiver vazio (sem elementos).</li>\n",
    "</ul>"
   ]
  },
  {
   "cell_type": "markdown",
   "id": "e5a1d2e4",
   "metadata": {},
   "source": [
    "<a id='codigo1'></a>\n",
    "<h4 style=\"color: #2d3436;\"><strong>Código 1</strong>: Fila de prioridade (min-heap de valores inteiros).</h4>"
   ]
  },
  {
   "cell_type": "code",
   "execution_count": 1,
   "id": "8a274ebb",
   "metadata": {},
   "outputs": [
    {
     "name": "stdout",
     "output_type": "stream",
     "text": [
      "Writing FilaMinima.java\n"
     ]
    }
   ],
   "source": [
    "%%file FilaMinima.java\n",
    "\n",
    "import java.util.PriorityQueue;\n",
    "import java.util.Queue;\n",
    "\n",
    "public class FilaMinima {\n",
    "    public static void main(String[] args) {\n",
    "        \n",
    "        // Por padrão, PriorityQueue é um min-heap\n",
    "        Queue<Integer> filaPrioridade = new PriorityQueue<>();\n",
    "        \n",
    "        filaPrioridade.add(30);\n",
    "        filaPrioridade.add(10);\n",
    "        filaPrioridade.add(20);\n",
    "        filaPrioridade.add(1);\n",
    "        filaPrioridade.add(5);\n",
    "\n",
    "        System.out.println(\"heap: \" + filaPrioridade);\n",
    "        \n",
    "        System.out.println(\"Ordem de remoção (min-heap):\");\n",
    "        while (!filaPrioridade.isEmpty()) {\n",
    "            System.out.println(filaPrioridade.poll());\n",
    "        }\n",
    "    }\n",
    "}"
   ]
  },
  {
   "cell_type": "markdown",
   "id": "0c7a7f38",
   "metadata": {},
   "source": [
    "<p>Para criar um max-heap, podemos utilizar o framework <strong>Collections</strong> e fornecer um <strong>Comparator</strong> ao construtor da fila com a ordem reversa (<strong>Collections.reverseOrder()</strong>). Esse abordagem é exibida no Código 2.</p>"
   ]
  },
  {
   "cell_type": "markdown",
   "id": "bce71784",
   "metadata": {},
   "source": [
    "<a id='codigo2'></a>\n",
    "<h4 style=\"color: #2d3436;\"><strong>Código 2</strong>: Fila de prioridades com ordem reversa (max-heap de valores inteiros).</h4>"
   ]
  },
  {
   "cell_type": "code",
   "execution_count": null,
   "id": "df84783e",
   "metadata": {},
   "outputs": [
    {
     "name": "stdout",
     "output_type": "stream",
     "text": [
      "Writing FilaMaxima.java\n"
     ]
    }
   ],
   "source": [
    "%%file FilaMaxima.java\n",
    "\n",
    "import java.util.PriorityQueue;\n",
    "import java.util.Queue;\n",
    "import java.util.Collections;\n",
    "\n",
    "public class FilaMaxima {\n",
    "    public static void main(String[] args) {\n",
    "        Queue<Integer> filaPrioridade = new PriorityQueue<>(Collections.reverseOrder());\n",
    "        \n",
    "        filaPrioridade.add(30);\n",
    "        filaPrioridade.add(10);\n",
    "        filaPrioridade.add(20);\n",
    "        filaPrioridade.add(1);\n",
    "        filaPrioridade.add(5);\n",
    "\n",
    "        System.out.println(\"heap: \" + filaPrioridade);\n",
    "        \n",
    "        System.out.println(\"Ordem de remoção (max-heap):\");\n",
    "        while (!filaPrioridade.isEmpty()) {\n",
    "            // Agora, o poll() remove o maior valor\n",
    "            System.out.println(filaPrioridade.poll());\n",
    "        }\n",
    "    }\n",
    "}"
   ]
  },
  {
   "cell_type": "markdown",
   "id": "c699612a",
   "metadata": {},
   "source": [
    "<h3>Enumeradores</h3>\n",
    "\n",
    "<p>Quando temos um conjunto fixo de constantes, como os dias da semana (SEGUNDA, TERÇA, QUARTA, ...), as estações do ano (PRIMAVERA, VERÃO, OUTONO, INVERNO) ou as opções de um menu (SALVAR, ABRIR, FECHAR, IMPRIMIR), podemos representar essas informações por meio de um <strong>enumerador</strong>, implementado em Java pela estrutura <strong>Enum</strong>. Essa abordagem é muito melhor do que usar <em>Strings</em> ou números inteiros para representar conjuntos de constantes.</p>\n",
    "\n",
    "<p>Vantagens do uso de Enums:</p>\n",
    "<ul>\n",
    "    <li><strong>Segurança de tipo</strong>: evita erros de digitação, pois o compilador verifica se o valor é válido.</li>\n",
    "    <li><strong>Legibilidade</strong>: o código fica mais claro. Por exemplo, diasSemana.SEGUNDA é mais expressivo do que o número a constante 2 para representar a segunda-feira.</li>\n",
    "    <li><strong>Manutenção</strong>: concentra todas as variações de valores associadas a um conceito em um único lugar.</li>\n",
    "</ul>"
   ]
  },
  {
   "cell_type": "markdown",
   "id": "d67dfc15",
   "metadata": {},
   "source": [
    "<h4 style=\"color: #2d3436;\"><strong>Código 3</strong>: Uso de um <strong>Enum</strong> para representar os dias da semana.</h4>"
   ]
  },
  {
   "cell_type": "code",
   "execution_count": 5,
   "id": "61de2fa6",
   "metadata": {},
   "outputs": [
    {
     "name": "stdout",
     "output_type": "stream",
     "text": [
      "Writing Dias.java\n"
     ]
    }
   ],
   "source": [
    "%%file Dias.java\n",
    "\n",
    "enum DiasSemana {\n",
    "    SEGUNDA_FEIRA, \n",
    "    TERCA_FEIRA,\n",
    "    QUARTA_FEIRA,\n",
    "    QUINTA_FEIRA,\n",
    "    SEXTA_FEIRA,\n",
    "    SABADO,\n",
    "    DOMINGO;\n",
    "}\n",
    "\n",
    "public class Dias {\n",
    "    public static void main(String[] args) {\n",
    "        DiasSemana hoje = DiasSemana.QUARTA_FEIRA;\n",
    "        System.out.println(\"Hoje é: \" + hoje);\n",
    "    }\n",
    "}"
   ]
  },
  {
   "cell_type": "markdown",
   "id": "59707532",
   "metadata": {},
   "source": [
    "<p>Como apresentado no Código 4, podemos associar um valor numérico a cada constante do <strong>Enum</strong> para facilitar a lógica de comparação em determinadas situações. Esse recurso é especialmente útil ao utilizar enumeradores em filas de prioridade, como mostrado na sequência.</p>"
   ]
  },
  {
   "cell_type": "markdown",
   "id": "82251292",
   "metadata": {},
   "source": [
    "<h4 style=\"color: #2d3436;\"><strong>Código 4</strong>: Uso de um <strong>Enum</strong> para representar estados e prioridades.</h4>"
   ]
  },
  {
   "cell_type": "code",
   "execution_count": null,
   "id": "1386165b",
   "metadata": {},
   "outputs": [
    {
     "name": "stdout",
     "output_type": "stream",
     "text": [
      "Overwriting Prioridades.java\n"
     ]
    }
   ],
   "source": [
    "%%file Prioridades.java\n",
    "\n",
    "enum NivelPrioridade {\n",
    "    ALTA(1), \n",
    "    MEDIA(2), \n",
    "    BAIXA(3);\n",
    "\n",
    "    private final Integer valor;\n",
    "\n",
    "    NivelPrioridade(int valor) {\n",
    "        this.valor = valor;\n",
    "    }\n",
    "\n",
    "    public Integer getValor() {\n",
    "        return valor;\n",
    "    }\n",
    "}\n",
    "\n",
    "public class Prioridades {\n",
    "    public static void main(String[] args) {\n",
    "        NivelPrioridade prioridadeTarefa = NivelPrioridade.ALTA;\n",
    "        System.out.println(\"Prioridade da tarefa: \" + prioridadeTarefa + \" (valor: \" + prioridadeTarefa.getValor() + \")\");\n",
    "    }\n",
    "}"
   ]
  },
  {
   "cell_type": "markdown",
   "id": "82c3e519",
   "metadata": {},
   "source": [
    "<p>No Código 5, combinamos o enumerador de prioridades com uma fila de prioridade (<strong>PriorityQueue</strong>). Note que a <strong>PriorityQueue</strong> representa uma fila composta por tarefas, e cada tarefa deve implementar a interface <strong>Comparable</strong> para definir sua ordem natural (como dois objetos do tipo Tarefa são comparados).</p>"
   ]
  },
  {
   "cell_type": "markdown",
   "id": "5bc25b66",
   "metadata": {},
   "source": [
    "<h4 style=\"color: #2d3436;\"><strong>Código 5</strong>: Fila de tarefas.</h4>"
   ]
  },
  {
   "cell_type": "code",
   "execution_count": null,
   "id": "735686db",
   "metadata": {},
   "outputs": [
    {
     "name": "stdout",
     "output_type": "stream",
     "text": [
      "Overwriting Tarefa.java\n"
     ]
    }
   ],
   "source": [
    "%%file Tarefa.java\n",
    "\n",
    "import java.util.PriorityQueue;\n",
    "import java.util.Queue;\n",
    "import java.util.Collections;\n",
    "\n",
    "// 1. Definição do Enum para indicar a prioridade da tarefa\n",
    "enum NivelPrioridade {\n",
    "    ALTA(3), \n",
    "    MEDIA(2), \n",
    "    BAIXA(1);\n",
    "\n",
    "    private final Integer valor;\n",
    "\n",
    "    NivelPrioridade(int valor) {\n",
    "        this.valor = valor;\n",
    "    }\n",
    "\n",
    "    public Integer getValor() {\n",
    "        return valor;\n",
    "    }\n",
    "}\n",
    "\n",
    "// 2. Implementação da classe Tarefa\n",
    "class Tarefa implements Comparable<Tarefa> {\n",
    "    private Integer id;\n",
    "    private String descricao;\n",
    "    private NivelPrioridade prioridade;\n",
    "\n",
    "    public Tarefa(Integer id, String descricao, NivelPrioridade prioridade) {\n",
    "        this.id = id;\n",
    "        this.descricao = descricao;\n",
    "        this.prioridade = prioridade;\n",
    "    }\n",
    "\n",
    "    public Integer getId() {\n",
    "        return this.id;\n",
    "    }\n",
    "\n",
    "    public String getDescricao() {\n",
    "        return this.descricao;\n",
    "    }\n",
    "\n",
    "    public NivelPrioridade getPrioridade() {\n",
    "        return this.prioridade;\n",
    "    }\n",
    "\n",
    "    // Se duas tarefas têm a mesma prioridade, ordena pelo ID\n",
    "    @Override\n",
    "    public int compareTo(Tarefa outra) {\n",
    "        int comparador = this.prioridade.getValor().compareTo(outra.prioridade.getValor());\n",
    "        if (comparador == 0) {\n",
    "            return this.id.compareTo(outra.id);\n",
    "        }\n",
    "        return comparador;\n",
    "    }\n",
    "\n",
    "    @Override\n",
    "    public String toString() {\n",
    "        return descricao + \" (prioridade: \" + prioridade + \", id:\" +  id + \")\";\n",
    "    }\n",
    "    \n",
    "    public static void main(String[] args) {\n",
    "\n",
    "        // max-heap de tarefas (maior prioridade primeiro)\n",
    "        Queue<Tarefa> tarefas = new PriorityQueue<>(Collections.reverseOrder());\n",
    "\n",
    "        tarefas.add(new Tarefa(1, \"Implementar funcionalidade 1\", NivelPrioridade.MEDIA));\n",
    "        tarefas.add(new Tarefa(2, \"Resolver bug crítico\", NivelPrioridade.valueOf(\"ALTA\")));\n",
    "        String entrada = \"Media\";\n",
    "        tarefas.add(new Tarefa(3, \"Revisar documentação\", NivelPrioridade.valueOf(entrada.toUpperCase())));\n",
    "        tarefas.add(new Tarefa(4, \"Implementar funcionalidade 2\", NivelPrioridade.BAIXA));\n",
    "\n",
    "        System.out.println(\"Ordem de execução das tarefas:\");\n",
    "        while (!tarefas.isEmpty()) {\n",
    "            System.out.println(tarefas.poll());\n",
    "        }\n",
    "    }\n",
    "}"
   ]
  }
 ],
 "metadata": {
  "kernelspec": {
   "display_name": "Python 3",
   "language": "python",
   "name": "python3"
  },
  "language_info": {
   "codemirror_mode": {
    "name": "ipython",
    "version": 3
   },
   "file_extension": ".py",
   "mimetype": "text/x-python",
   "name": "python",
   "nbconvert_exporter": "python",
   "pygments_lexer": "ipython3",
   "version": "3.13.5"
  }
 },
 "nbformat": 4,
 "nbformat_minor": 5
}
