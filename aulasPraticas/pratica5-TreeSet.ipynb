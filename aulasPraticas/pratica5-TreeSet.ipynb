{
 "cells": [
  {
   "cell_type": "markdown",
   "id": "9262b917",
   "metadata": {},
   "source": [
    "<h1 style=\"color: #c0392b;\">Aula Prática - Conjuntos</h1>\n",
    "<h2>Interface Set e Classe TreeSet</h2>"
   ]
  },
  {
   "cell_type": "markdown",
   "id": "0577ab14",
   "metadata": {},
   "source": [
    "<small>\n",
    "<p><strong>IMPORTANTE</strong>: O comando '%%file' é usado no Python para criar arquivos .java no diretório onde este notebook está salvo. Os arquivos criados são nomeados conforme o identificador fornecido após o comando '%%file'.</p>\n",
    "</small>"
   ]
  },
  {
   "cell_type": "markdown",
   "id": "9c4cc708",
   "metadata": {},
   "source": [
    "<h3>Interface Set</h3>\n",
    "\n",
    "<p>Um <a href=\"https://docs.oracle.com/en/java/javase/11/docs/api/java.base/java/util/Set.html\">Set (Conjunto)</a> é uma interface em Java que representa uma coleção de elementos não duplicados. Diferente de uma lista, que pode conter elementos repetidos, um conjunto garante que cada elemento seja único.</p>\n",
    "\n",
    "<p></p>\n",
    "\n",
    "<table style=\"text-align: left; background-color: white; margin: 0;\">\n",
    "  <thead>\n",
    "    <tr>\n",
    "      <th style=\"padding: 8px; text-align: left; background-color: #ffffff\"><strong>Aspecto</strong></th>\n",
    "      <th style=\"padding: 8px; text-align: left; background-color: #ffffff\"><strong>Set</strong></th>\n",
    "      <th style=\"padding: 8px; text-align: left; background-color: #ffffff\"><strong>List</strong></th>\n",
    "    </tr>\n",
    "  </thead>\n",
    "  <tbody>\n",
    "    <tr>\n",
    "      <td style=\"padding: 8px; text-align: left; background-color: #ffffff\"><strong>Duplicação de elementos</strong></td>\n",
    "      <td style=\"padding: 8px; text-align: left; background-color: #ffffff\">Não permite elementos duplicados</td>\n",
    "      <td style=\"padding: 8px; text-align: left; background-color: #ffffff\">Permite duplicados</td>\n",
    "    </tr>\n",
    "    <tr>\n",
    "      <td style=\"padding: 8px; text-align: left; background-color: #ffffff\"><strong>Ordem dos elementos</strong></td>\n",
    "      <td style=\"padding: 8px; text-align: left; background-color: #ffffff\">Pode ou não manter a ordem de inserção</td>\n",
    "      <td style=\"padding: 8px; text-align: left; background-color: #ffffff\">Mantém a ordem de inserção</td>\n",
    "    </tr>\n",
    "    <tr>\n",
    "      <td style=\"padding: 8px; text-align: left; background-color: #ffffff\"><strong>Implementações</strong></td>\n",
    "      <td style=\"padding: 8px; text-align: left; background-color: #ffffff\"><a href=\"https://docs.oracle.com/en/java/javase/11/docs/api/java.base/java/util/HashSet.html\">HashSet</a>, <a href=\"https://docs.oracle.com/en/java/javase/11/docs/api/java.base/java/util/LinkedHashSet.html\">LinkedHashSet</a>, <a href=\"https://docs.oracle.com/en/java/javase/11/docs/api/java.base/java/util/TreeSet.html\">TreeSet</a></td>\n",
    "      <td style=\"padding: 8px; text-align: left; background-color: #ffffff\"><a href=\"https://docs.oracle.com/en/java/javase/11/docs/api/java.base/java/util/ArrayList.html\">ArrayList</a>, <a href=\"https://docs.oracle.com/en/java/javase/11/docs/api/java.base/java/util/LinkedList.html\">LinkedList</a></td>\n",
    "    </tr>\n",
    "  </tbody>\n",
    "</table>\n",
    "\n",
    "<p>Quando usar um <strong>Set</strong>:</p>\n",
    "<ul>\n",
    "    <li>Quando a unicidade dos elementos é importante;</li>\n",
    "    <li>Quando a ordem dos elementos não é prioritária;</li>\n",
    "    <li>Exemplos: gerenciar IDs únicos, palavras em um dicionário, elementos em um conjunto matemático.</li>\n",
    "</ul>\n",
    "\n",
    "<p>Alguns métodos utilizados nessa aula:</p>\n",
    "\n",
    "<ul>\n",
    "    <li><a href=\"https://docs.oracle.com/en/java/javase/11/docs/api/java.base/java/util/Set.html#add(E)\">add(E e)</a>: adiciona o elemento especificado (e) ao conjunto se ele ainda não estiver presente;</li>\n",
    "    <li><a href=\"https://docs.oracle.com/en/java/javase/11/docs/api/java.base/java/util/Set.html#addAll(java.util.Collection)\">addAll(Collection&lt;? extends E&gt; c)</a>: adiciona todos os elementos da coleção especificada (c) ao conjunto, se eles ainda não estiverem presentes;</li>\n",
    "    <li><a href=\"https://docs.oracle.com/en/java/javase/11/docs/api/java.base/java/util/Set.html#retainAll(java.util.Collection)\">retainAll(Collection&lt;?&gt; c)</a>: mantém apenas os elementos do conjunto que também estão presentes na coleção especificada (c);</li>\n",
    "    <li><a href=\"https://docs.oracle.com/en/java/javase/11/docs/api/java.base/java/util/Set.html#remove(java.lang.Object)\">remove(Object o)</a>: remove o objeto especificado (o) do conjunto, se ele estiver presente;</li>\n",
    "    <li><a href=\"https://docs.oracle.com/en/java/javase/11/docs/api/java.base/java/util/Set.html#removeAll(java.util.Collection)\">removeAll(Collection&lt;?&gt; c)</a>: remove do conjunto todos os elementos que estão contidos na coleção especificada (c);</li>\n",
    "    <li><a href=\"https://docs.oracle.com/en/java/javase/11/docs/api/java.base/java/util/Set.html#contains(java.lang.Object)\">contains(Object o)</a>: retorna <i>true</i> se o conjunto contiver o objeto especificado (o);</li>    \n",
    "    <li><a href=\"https://docs.oracle.com/en/java/javase/11/docs/api/java.base/java/util/Set.html#isEmpty()\">isEmpty()</a>: retorna <i>true</i> se o conjunto estiver vazio (sem elementos);</li>   \n",
    "</ul> "
   ]
  },
  {
   "cell_type": "markdown",
   "id": "aa5db4eb",
   "metadata": {},
   "source": [
    "<h3>Classe TreeSet</h3>\n",
    "\n",
    "<p>O <a href=\"https://docs.oracle.com/en/java/javase/11/docs/api/java.base/java/util/TreeSet.html\">TreeSet</a> é uma implementação da interface <a href=\"https://docs.oracle.com/en/java/javase/11/docs/api/java.base/java/util/Set.html\">Set</a> baseada em uma árvore rubro-negra (<a href=\"https://pt.wikipedia.org/wiki/%C3%81rvore_rubro-negra\">Red-Black Tree</a>).</p>\n",
    "\n",
    "<p>Principais características:</p>\n",
    "\n",
    "<ul>\n",
    "    <li>Garante que os elementos sejam armazenados em ordem natural ou ordem definida por um comparador;</li>\n",
    "    <li>Operações de busca, inserção e remoção têm tempo O(log n);</li>\n",
    "    <li>Não permite elementos nulos.</li>\n",
    "</ul>\n",
    "\n",
    "<p>O <a href=\"#codigo1\">Código 1</a> apresenta a implementação da interface Set a partir da classe TreeSet. Note que algumas operações de conjuntos matemáticos podem ser implementadas utilizando os métodos disponíveis na interface Set.</p>\n",
    "\n",
    "<p><strong>OBS</strong>: Para objetos complexos, como os objetos instanciados a partir da classe Pessoa (<a href=\"#codigo2\">Código 2)</a>, operações como união, interseção e diferença entre conjuntos são realizadas com base no método <a href=\"https://docs.oracle.com/en/java/javase/11/docs/api/java.base/java/util/AbstractSet.html#equals(java.lang.Object)\">equals()</a>. Portanto, nesse caso, é importante implementar o método equals() e definir como os objetos serão comparados para que tais operações funcionem da maneira correta.</p>"
   ]
  },
  {
   "cell_type": "markdown",
   "id": "e5a1d2e4",
   "metadata": {},
   "source": [
    "<a id='codigo1'></a>\n",
    "<h4 style=\"color: #2d3436;\"><strong>Código 1</strong>: Conjuntos de números inteiros.</h4>"
   ]
  },
  {
   "cell_type": "code",
   "execution_count": 16,
   "id": "8a274ebb",
   "metadata": {},
   "outputs": [
    {
     "name": "stdout",
     "output_type": "stream",
     "text": [
      "Overwriting Conjuntos.java\n"
     ]
    }
   ],
   "source": [
    "%%file Conjuntos.java\n",
    "\n",
    "import java.util.Set;\n",
    "import java.util.TreeSet;\n",
    "\n",
    "public class Conjuntos {\n",
    "    public static void main(String[] args) {\n",
    "        \n",
    "        // CONJUNTO A\n",
    "        Set<Integer> conjuntoA = new TreeSet<Integer>();\n",
    "        conjuntoA.add(10);\n",
    "        conjuntoA.add(5);\n",
    "        conjuntoA.add(20);\n",
    "        conjuntoA.add(15);\n",
    "\n",
    "        // Imprimindo o conjunto A\n",
    "        System.out.println(\"Conjunto A: \" + conjuntoA);\n",
    "        \n",
    "        // CONJUNTO B\n",
    "        Set<Integer> conjuntoB = new TreeSet<Integer>();\n",
    "        conjuntoB.add(20);\n",
    "        conjuntoB.add(5);\n",
    "        conjuntoB.add(25);\n",
    "        conjuntoB.add(35);\n",
    "        \n",
    "        // Imprimindo o conjunto B\n",
    "        System.out.println(\"Conjunto B: \" + conjuntoB);\n",
    "        \n",
    "        // Operações de conjuntos matemáticos\n",
    "        Set<Integer> uniao = new TreeSet<Integer>(conjuntoA);\n",
    "        uniao.addAll(conjuntoB);\n",
    "        \n",
    "        Set<Integer> intersecao = new TreeSet<Integer>(conjuntoA);\n",
    "        intersecao.retainAll(conjuntoB);\n",
    "        \n",
    "        Set<Integer> diferença = new TreeSet<Integer>(conjuntoA);\n",
    "        diferença.removeAll(conjuntoB);\n",
    "        \n",
    "        System.out.println(\"União (A ∪ B): \" + uniao);\n",
    "        System.out.println(\"Interseção (A ∩ B): \" + intersecao);\n",
    "        System.out.println(\"Diferença (A - B): \" + diferença);\n",
    "\n",
    "        // Exibindo o menor e o maior elemento\n",
    "        System.out.println(\"Menor elemento do conjunto A: \" + ((TreeSet<Integer>) conjuntoA).first());\n",
    "        System.out.println(\"Maior elemento do conjunto A: \" + ((TreeSet<Integer>) conjuntoA).last());\n",
    "    }\n",
    "}"
   ]
  },
  {
   "cell_type": "markdown",
   "id": "c699612a",
   "metadata": {},
   "source": [
    "<p>No <a href=\"#codigo2\">Código 2</a>, um Set é utilizado para armazenar objetos do tipo Pessoa. Como o Set é implementado a partir de um TreeSet, é necessário implementar a interface Comparable na classe Pessoa, pois, dessa forma, podemos definir a ordem natural utilizada pelo TreeSet para organizar seus elementos.</p>"
   ]
  },
  {
   "cell_type": "markdown",
   "id": "bce71784",
   "metadata": {},
   "source": [
    "<a id='codigo2'></a>\n",
    "<h4 style=\"color: #2d3436;\"><strong>Código 2</strong>: Conjunto de objetos do tipo Pessoa.</h4>"
   ]
  },
  {
   "cell_type": "code",
   "execution_count": 17,
   "id": "df84783e",
   "metadata": {},
   "outputs": [
    {
     "name": "stdout",
     "output_type": "stream",
     "text": [
      "Writing Pessoa.java\n"
     ]
    }
   ],
   "source": [
    "%%file Pessoa.java\n",
    "\n",
    "import java.util.Set;\n",
    "import java.util.TreeSet;\n",
    "import java.util.List;\n",
    "import java.util.ArrayList;\n",
    "import java.util.Collections;\n",
    "\n",
    "class Pessoa implements Comparable<Pessoa> {\n",
    "    private String nome;\n",
    "    private Integer idade;\n",
    "\n",
    "    public Pessoa(String nome, int idade) {\n",
    "        this.nome = nome;\n",
    "        this.idade = idade;\n",
    "    }\n",
    "    \n",
    "    public String getNome(){\n",
    "        return this.nome;\n",
    "    }\n",
    "    \n",
    "    public Integer getIdade() {\n",
    "        return this.idade;\n",
    "    }\n",
    "    \n",
    "    @Override\n",
    "    public boolean equals(Object obj) {\n",
    "        if (this == obj) return true;\n",
    "        if (obj == null || getClass() != obj.getClass()) return false;\n",
    "        Pessoa pessoa = (Pessoa) obj;\n",
    "        return idade == pessoa.idade && nome.equals(pessoa.nome);\n",
    "    }\n",
    "\n",
    "    // Implementação do método compareTo\n",
    "    @Override\n",
    "    public int compareTo(Pessoa outra) {\n",
    "        return this.idade.compareTo(outra.idade);\n",
    "    }\n",
    "\n",
    "    @Override\n",
    "    public String toString() {\n",
    "        return nome + \" (\" + idade + \" anos)\";\n",
    "    }\n",
    "    \n",
    "    public static void main(String[] args) {\n",
    "        TreeSet<Pessoa> pessoas = new TreeSet<Pessoa>();\n",
    "\n",
    "        // Adicionando objetos ao TreeSet\n",
    "        pessoas.add(new Pessoa(\"Alice\", 30));\n",
    "        pessoas.add(new Pessoa(\"Bob\", 25));\n",
    "        pessoas.add(new Pessoa(\"Charlie\", 35));\n",
    "\n",
    "        // Imprimindo as pessoas ordenadas por idade (ordem natural)\n",
    "        System.out.println(\"Pessoas ordeandas por idade: \" + pessoas);\n",
    "        \n",
    "        /* Imprimindo as pessoas ordenadas por nome:\n",
    "         * \n",
    "         * Como o TreeSet mantém os elementos ordenados com base no compareTo, \n",
    "         * o qual é definido no momento de sua criação, para ordenar as pessoas por nome, \n",
    "         * podemos usar uma lista (List) e o Collections.sort().\n",
    "         */\n",
    "        List<Pessoa> listaPessoas = new ArrayList<Pessoa>(pessoas);\n",
    "        Collections.sort(listaPessoas, (p1, p2) -> p1.getNome().compareTo(p2.getNome()));\n",
    "        System.out.println(\"Pessoas ordenadas por nome: \" + listaPessoas);\n",
    "    }\n",
    "}    "
   ]
  }
 ],
 "metadata": {
  "kernelspec": {
   "display_name": "Python 3",
   "language": "python",
   "name": "python3"
  },
  "language_info": {
   "codemirror_mode": {
    "name": "ipython",
    "version": 3
   },
   "file_extension": ".py",
   "mimetype": "text/x-python",
   "name": "python",
   "nbconvert_exporter": "python",
   "pygments_lexer": "ipython3",
   "version": "3.8.10"
  }
 },
 "nbformat": 4,
 "nbformat_minor": 5
}
