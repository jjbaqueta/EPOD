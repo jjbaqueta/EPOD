{
 "cells": [
  {
   "cell_type": "markdown",
   "id": "9262b917",
   "metadata": {},
   "source": [
    "<h1 style=\"color: #c0392b;\">Aula Prática - Pilhas e Filas em Java</h1>\n",
    "<h2>Classe Stack e Interface Queue</h2>"
   ]
  },
  {
   "cell_type": "markdown",
   "id": "0577ab14",
   "metadata": {},
   "source": [
    "<small>\n",
    "<p><strong>IMPORTANTE</strong>: O comando '%%file' é usado no Python para criar arquivos .java no diretório onde este notebook está salvo. Os arquivos criados são nomeados conforme o identificador fornecido após o comando '%%file'.</p>\n",
    "</small>"
   ]
  },
  {
   "cell_type": "markdown",
   "id": "aa5db4eb",
   "metadata": {},
   "source": [
    "<h3>Classe Stack</h3>\n",
    "\n",
    "<p>A classe <a href=\"https://docs.oracle.com/en/java/javase/11/docs/api/java.base/java/util/Stack.html\">Stack</a> faz parte da biblioteca padrão do Java e implementa o conceito de pilha, onde o último elemento adicionado é o primeiro a ser removido (<strong>LIFO</strong>: Last In, First Out).</p>\n",
    "\n",
    "<p>Principais Métodos da Classe Stack</p>\n",
    "\n",
    "<ul>\n",
    "    <li><a href=\"https://docs.oracle.com/en/java/javase/11/docs/api/java.base/java/util/Stack.html#push(E)\">push(E item)</a>: adiciona um item ao topo da pilha;</li>\n",
    "    <li><a href=\"https://docs.oracle.com/en/java/javase/11/docs/api/java.base/java/util/Stack.html#pop()\">pop()</a>: remove e retorna o item do topo da pilha;</li>\n",
    "    <li><a href=\"https://docs.oracle.com/en/java/javase/11/docs/api/java.base/java/util/Stack.html#peek()\">peek()</a>: retorna o item do topo da pilha sem removê-lo;</li>\n",
    "    <li><a href=\"https://docs.oracle.com/en/java/javase/11/docs/api/java.base/java/util/Vector.html#isEmpty()\">isEmpty()</a>: verifica se a pilha está vazia;</li>\n",
    "</ul>        "
   ]
  },
  {
   "cell_type": "markdown",
   "id": "e5a1d2e4",
   "metadata": {},
   "source": [
    "<a id='codigo1'></a>\n",
    "<h4 style=\"color: #2d3436;\"><strong>Código 1</strong>: Utilizando a classe Stack.</h4>"
   ]
  },
  {
   "cell_type": "code",
   "execution_count": 2,
   "id": "8a274ebb",
   "metadata": {},
   "outputs": [
    {
     "name": "stdout",
     "output_type": "stream",
     "text": [
      "Overwriting Pilha.java\n"
     ]
    }
   ],
   "source": [
    "%%file Pilha.java\n",
    "\n",
    "import java.util.Stack;\n",
    "\n",
    "public class Pilha {\n",
    "    public static void main(String[] args) {\n",
    "        Stack<String> pilha = new Stack<String>();\n",
    "\n",
    "        // Adicionando elementos\n",
    "        pilha.push(\"Primeiro\");\n",
    "        pilha.push(\"Segundo\");\n",
    "        pilha.push(\"Terceiro\");\n",
    "\n",
    "        // Exibindo a pilha\n",
    "        System.out.println(\"Pilha: \" + pilha);\n",
    "\n",
    "        // Verficando o topo sem removê-lo\n",
    "        System.out.println(\"Topo da pilha: \" + pilha.peek());\n",
    "        \n",
    "        // Removendo o elemento no topo da pilha\n",
    "        System.out.println(\"Elemento removido: \" + pilha.pop());\n",
    "        System.out.println(\"Novo topo da pilha: \" + pilha.peek());\n",
    "        \n",
    "        // Verificando se a pilha está vazia\n",
    "        System.out.println(\"A pilha está vazia? \" + pilha.isEmpty());\n",
    "    }\n",
    "}      "
   ]
  },
  {
   "cell_type": "markdown",
   "id": "9c4cc708",
   "metadata": {},
   "source": [
    "<h3>Interface Queue</h3>\n",
    "\n",
    "<p>A interface <a href=\"https://docs.oracle.com/en/java/javase/11/docs/api/java.base/java/util/Queue.html\">Queue</a> representa uma fila, onde o primeiro elemento adicionado é o primeiro a ser removido (<strong>FIFO</strong>: First In, First Out). Em Java, uma das implementações mais comuns da interface <a href=\"https://docs.oracle.com/en/java/javase/11/docs/api/java.base/java/util/Queue.html\">Queue</a> é usando a classe <a href=\"https://docs.oracle.com/en/java/javase/11/docs/api/java.base/java/util/LinkedList.html\">LinkedList</a>.</p>\n",
    "\n",
    "<p>Principais Métodos da interface Queue</p>\n",
    "\n",
    "<ul>\n",
    "    <li><a href=\"https://docs.oracle.com/en/java/javase/11/docs/api/java.base/java/util/Queue.html#add(E)\">add(E item)</a>: adiciona um item ao final da fila (lança exceção se a fila estiver cheia);</li>\n",
    "    <li><a href=\"https://docs.oracle.com/en/java/javase/11/docs/api/java.base/java/util/Queue.html#poll()\">poll()</a>: remove e retorna o item no início da fila (retorna `null` se a fila estiver vazia).</li>\n",
    "    <li><a href=\"https://docs.oracle.com/en/java/javase/11/docs/api/java.base/java/util/Queue.html#peek()\">peek()</a>: retorna o item no início da fila sem removê-lo;</li>\n",
    "    <li><a href=\"https://docs.oracle.com/en/java/javase/11/docs/api/java.base/java/util/Collection.html#isEmpty()\">isEmpty()</a>: verifica se a fila está vazia;</li>\n",
    "</ul> "
   ]
  },
  {
   "cell_type": "markdown",
   "id": "bce71784",
   "metadata": {},
   "source": [
    "<a id='codigo2'></a>\n",
    "<h4 style=\"color: #2d3436;\"><strong>Código 2</strong>: Implementando a interface Queue com a classe LinkedList.</h4>"
   ]
  },
  {
   "cell_type": "code",
   "execution_count": 3,
   "id": "df84783e",
   "metadata": {},
   "outputs": [
    {
     "name": "stdout",
     "output_type": "stream",
     "text": [
      "Writing Fila.java\n"
     ]
    }
   ],
   "source": [
    "%%file Fila.java\n",
    "\n",
    "import java.util.LinkedList;\n",
    "import java.util.Queue;\n",
    "\n",
    "public class Fila {\n",
    "    public static void main(String[] args) {\n",
    "        Queue<String> fila = new LinkedList<String>();\n",
    "\n",
    "        // Adicionando elementos\n",
    "        fila.add(\"Primeiro\");\n",
    "        fila.add(\"Segundo\");\n",
    "        fila.add(\"Terceiro\");\n",
    "        \n",
    "        // Exibindo a fila\n",
    "        System.out.println(\"Fila: \" + fila);\n",
    "\n",
    "        // Verficando o elemento no início sem removê-lo\n",
    "        System.out.println(\"Início da fila: \" + fila.peek());\n",
    "        \n",
    "        // Removendo elementos\n",
    "        System.out.println(\"Elemento removido (fim da fila): \" + fila.poll());\n",
    "        System.out.println(\"Novo início da fila: \" + fila.peek());\n",
    "        \n",
    "        // Verificando se a fila está vazia\n",
    "        System.out.println(\"A fila está vazia? \" + fila.isEmpty());\n",
    "    }\n",
    "}      "
   ]
  }
 ],
 "metadata": {
  "kernelspec": {
   "display_name": "Python 3",
   "language": "python",
   "name": "python3"
  },
  "language_info": {
   "codemirror_mode": {
    "name": "ipython",
    "version": 3
   },
   "file_extension": ".py",
   "mimetype": "text/x-python",
   "name": "python",
   "nbconvert_exporter": "python",
   "pygments_lexer": "ipython3",
   "version": "3.8.10"
  }
 },
 "nbformat": 4,
 "nbformat_minor": 5
}
