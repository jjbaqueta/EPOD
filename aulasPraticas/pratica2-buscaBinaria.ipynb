{
 "cells": [
  {
   "cell_type": "markdown",
   "id": "a58c62f6",
   "metadata": {},
   "source": [
    "<h1 style=\"color: #c0392b;\">Aula Prática - Busca Binária</h1>\n",
    "<h2>Comparação de objetos com o método equals</h2>."
   ]
  },
  {
   "cell_type": "markdown",
   "id": "2a817dec",
   "metadata": {},
   "source": [
    "<small>\n",
    "<p><strong>IMPORTANTE</strong>: O comando '%%file' é usado no Python para criar arquivos .java no diretório onde este notebook está salvo. Os arquivos criados são nomeados conforme o identificador fornecido após o comando '%%file'.</p>\n",
    "</small>"
   ]
  },
  {
   "cell_type": "markdown",
   "id": "893e75cd",
   "metadata": {},
   "source": [
    "<h3>Método Arrays.binarySearch()</h3>\n",
    "\n",
    "<p>O método Arrays.binarySearch() do Java é uma forma eficiente de buscar um valor (chave de busca) em um vetor ordenado. Esse método implementa a busca binária e tem complexidade O(log n). Se o vetor não estiver ordenado, o método não retornará resultados precisos.</p>\n",
    "\n",
    "<p>Segue abaixo um exemplo de chamada do método para um vetor de inteiros (tipo primitivo).<br>O exemplo completo pode ser visto no Código 1:</p>\n",
    "\n",
    "<pre>\n",
    "<code>\n",
    "/**\n",
    " * Busca em um vetor de inteiros utilizando o método <a href=\"https://docs.oracle.com/en/java/javase/11/docs/api/java.base/java/util/Arrays.html#binarySearch(int%5B%5D,int)\">Arrays.binarySearch()</a>\n",
    " * \n",
    " * @param vetor um vetor de inteiros.\n",
    " * @param chave valor a ser buscado no vetor.\n",
    " * @return Se o valor estiver presente, o método retorna seu índice; \n",
    " *         caso contrário, retorna -(inserção) - 1, \n",
    " *         onde inserção é o ponto onde o valor estaria se fosse inserido.\n",
    " */\n",
    "Arrays.binarySearch(int[] vetor, int chave);\n",
    "</code>\n",
    "</pre>"
   ]
  },
  {
   "cell_type": "markdown",
   "id": "478df461",
   "metadata": {},
   "source": [
    "<h4 style=\"color: #2d3436;\"><strong>Código 1</strong>: Busca por uma chave qualquer em um vetor de inteiros.</h4>"
   ]
  },
  {
   "cell_type": "code",
   "execution_count": 8,
   "id": "8cd2625c",
   "metadata": {},
   "outputs": [
    {
     "name": "stdout",
     "output_type": "stream",
     "text": [
      "Overwriting BuscaInts.java\n"
     ]
    }
   ],
   "source": [
    "%%file BuscaInts.java\n",
    "\n",
    "import java.util.Arrays;\n",
    "\n",
    "public class BuscaInts {\n",
    "\tpublic static void main(String[] args) {\n",
    "\t\tint[] numeros = {3, 1, 5, 13, 11, 9, 7};\n",
    "\n",
    "\t\t// Ordenando o vetor de modo ascendente\n",
    "\t\tArrays.sort(numeros);\n",
    "\n",
    "\t\t// Buscando elementos\n",
    "\t\tint indiceEncontrado = Arrays.binarySearch(numeros, 7);\n",
    "\t\tint indiceNaoEncontrado = Arrays.binarySearch(numeros, 8);\n",
    "\n",
    "\t\tSystem.out.println(\"Índice do número 7: \" + indiceEncontrado);  // Índice: 3\n",
    "\t\tSystem.out.println(\"Índice do número 8: \" + indiceNaoEncontrado);  // Índice: -5\n",
    "\t}\n",
    "}"
   ]
  },
  {
   "cell_type": "markdown",
   "id": "36753b87",
   "metadata": {},
   "source": [
    "<h3>Método equals()</h3>\n",
    "\n",
    "<p>O método <a href=\"https://docs.oracle.com/en/java/javase/11/docs/api/java.base/java/lang/Object.html#equals(java.lang.Object)\"> equals()</a> compara se um objeto é igual a outro. A implementação padrão do método equals() na classe <a href=\"https://docs.oracle.com/en/java/javase/11/docs/api/java.base/java/lang/Object.html\">Object</a> compara referências de objetos, tal como o operador '=='.</p>\n",
    "\n",
    "<p>No entanto, podemos personalizar a implementação do método equals() para comparar dois objetos de acordo com um critério qualquer. Portanto, para comparar objetos, devemos utilizar o equals(), enquanto que para comparar tipos primitivos (int, double, float, entre outros) devemos utilizar o operador '=='.</p>\n",
    "\n",
    "<p>Veja um exemplo de comparação entre objetos no Código 2, o qual implementa a classe Produto. Note que o método equals() é alterado para que objetos do tipo Produto possam ser comparados pelo atributo nome. O método main() exibe a comparação entre dois objetos do tipo Produto, utilizando o operador '==' e o método equals().</p>"
   ]
  },
  {
   "cell_type": "markdown",
   "id": "08a3c4ae",
   "metadata": {},
   "source": [
    "<h4 style=\"color: #2d3436;\"><strong>Código 2</strong>: Implementação da classe Produto.</h4>"
   ]
  },
  {
   "cell_type": "code",
   "execution_count": 9,
   "id": "690e6324",
   "metadata": {},
   "outputs": [
    {
     "name": "stdout",
     "output_type": "stream",
     "text": [
      "Overwriting Produto.java\n"
     ]
    }
   ],
   "source": [
    "%%file Produto.java\n",
    "\n",
    "public class Produto implements Comparable<Produto> {\n",
    "    private String nome;\n",
    "    private Double valor;\n",
    "\n",
    "    public Produto (String nome, Double valor) {\n",
    "        this.nome = nome;\n",
    "        this.valor = valor;\n",
    "    }\n",
    "\n",
    "    public String getNome(){\n",
    "        return nome;\n",
    "    }\n",
    "\n",
    "    public double getValor(){\n",
    "        return valor;\n",
    "    }\n",
    "\n",
    "    @Override\n",
    "    public int compareTo(Produto outro) {\n",
    "        return this.nome.compareTo(outro.nome);\n",
    "    }\n",
    "\n",
    "    @Override\n",
    "    public boolean equals(Object obj) {\n",
    "        if (this == obj) return true;\n",
    "        if (obj == null || getClass() != obj.getClass()) return false;\n",
    "        Produto produto = (Produto) obj;\n",
    "        return nome.equals(produto.nome);\n",
    "    }\n",
    "\n",
    "    @Override\n",
    "    public String toString() {\n",
    "        return nome + \",\" + valor + \",\" + valor;\n",
    "    }\n",
    "\n",
    "    public static void main(String[] args) {\n",
    "        Produto p1 = new Produto(\"Celular\", 3500.00);\n",
    "        Produto p2 = new Produto(\"Celular\", 2500.00);\n",
    "\n",
    "        System.out.println(p1 == p2);\n",
    "        System.out.println(p1.equals(p2));\n",
    "    }\n",
    "}"
   ]
  },
  {
   "cell_type": "markdown",
   "id": "9f0aef10",
   "metadata": {},
   "source": [
    "<h3>Busca Binária com Objetos Personalizados</h3>\n",
    "\n",
    "<p>Agora, vamos aplicar a busca binária em um vetor do tipo Produto, usando o método equals() para garantir que produtos com o mesmo nome sejam considerados iguais.</p>\n",
    "    \n",
    "<p>No Código 3, podemos observar a busca por um objeto do tipo Produto. Note que a alteração no método equals() permite que produtos sejam tratados como iguais com base no atributo nome.</p>"
   ]
  },
  {
   "cell_type": "markdown",
   "id": "e7d87e51",
   "metadata": {},
   "source": [
    "<h4 style=\"color: #2d3436;\"><strong>Código 3</strong>: Buscando um objeto do tipo Produto.</h4>"
   ]
  },
  {
   "cell_type": "code",
   "execution_count": 10,
   "id": "8226ba2c",
   "metadata": {},
   "outputs": [
    {
     "name": "stdout",
     "output_type": "stream",
     "text": [
      "Overwriting BuscaProdutos.java\n"
     ]
    }
   ],
   "source": [
    "%%file BuscaProdutos.java\n",
    "\n",
    "import java.util.Arrays;\n",
    "\n",
    "public class BuscaProdutos {\n",
    "    public static void main(String[] args) {\n",
    "        Produto[] produtos = {\n",
    "            new Produto(\"Celular\", 3500.00),\n",
    "            new Produto(\"Notebook\", 8000.00),\n",
    "            new Produto(\"Tablet\", 2599.99)\n",
    "        };\n",
    "\n",
    "        // Ordenando os produtos, utiliza a ordem natural definida na classe Produto\n",
    "        Arrays.sort(produtos);\n",
    "\n",
    "        // Definindo a chave de busca\n",
    "        Produto chave = new Produto(\"Notebook\", null);\n",
    "\n",
    "        // Realizando a busca\n",
    "        int indice = Arrays.binarySearch(produtos, chave);\n",
    "\n",
    "        if (indice >= 0) {\n",
    "            System.out.println(\"Produto encontrado no índice: \" + indice);\n",
    "        } \n",
    "        else {\n",
    "            System.out.println(\"Produto não encontrado.\");\n",
    "        }\n",
    "    }\n",
    "}"
   ]
  }
 ],
 "metadata": {
  "kernelspec": {
   "display_name": "Python 3",
   "language": "python",
   "name": "python3"
  },
  "language_info": {
   "codemirror_mode": {
    "name": "ipython",
    "version": 3
   },
   "file_extension": ".py",
   "mimetype": "text/x-python",
   "name": "python",
   "nbconvert_exporter": "python",
   "pygments_lexer": "ipython3",
   "version": "3.8.10"
  }
 },
 "nbformat": 4,
 "nbformat_minor": 5
}
