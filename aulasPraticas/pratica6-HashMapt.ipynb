{
 "cells": [
  {
   "cell_type": "markdown",
   "id": "9262b917",
   "metadata": {},
   "source": [
    "<h1 style=\"color: #c0392b;\">Aula Prática - Tabela de Espalhamento</h1>\n",
    "<h2>Interface Map e Classes HashMap e TreeMap</h2>"
   ]
  },
  {
   "cell_type": "markdown",
   "id": "0577ab14",
   "metadata": {},
   "source": [
    "<small>\n",
    "<p><strong>IMPORTANTE</strong>: O comando '%%file' é usado no Python para criar arquivos .java no diretório onde este notebook está salvo. Os arquivos criados são nomeados conforme o identificador fornecido após o comando '%%file'.</p>\n",
    "</small>"
   ]
  },
  {
   "cell_type": "markdown",
   "id": "9c4cc708",
   "metadata": {},
   "source": [
    "<h3>Interface Map</h3>\n",
    "\n",
    "<p>A interface <a href=\"https://docs.oracle.com/en/java/javase/11/docs/api/java.base/java/util/Map.html\">Map (Mapa)</a> faz parte da Java Collections Framework e é usada para armazenar pares chave-valor, onde:</p>\n",
    "\n",
    "<ul>\n",
    "    <li>Cada chave é única.</li>\n",
    "    <li>Cada chave está associada a exatamente um valor.</li>\n",
    "    <li>Um valor pode ser recuperado diretamente por sua chave.</li>\n",
    "</ul>\n",
    "\n",
    "<p>Alguns métodos utilizados nessa aula:</p>\n",
    "\n",
    "<ul>\n",
    "    <li><a href=\"https://docs.oracle.com/en/java/javase/11/docs/api/java.base/java/util/Map.html#put(K,V)\">put(K key, V value)</a>: insere um par chave-valor no mapa. Se a chave já existe, substitui o valor anterior.</li>\n",
    "    <li><a href=\"https://docs.oracle.com/en/java/javase/11/docs/api/java.base/java/util/Map.html#putIfAbsent(K,V)\">putIfAbsent(K key, V value)</a>: se a chave não estiver associada a um valor (ou for nula), o par chave-valor é inserido no mapa (retorna <i>NULL</i>); caso contrário, retorna o valor atual associado à chave.</li>\n",
    "    <li><a href=\"https://docs.oracle.com/en/java/javase/11/docs/api/java.base/java/util/Map.html#get(java.lang.Object)\">get(Object key)</a>: retorna o valor associado à chave ou <i>NULL</i> se a chave não existir.</li>\n",
    "    <li><a href=\"https://docs.oracle.com/en/java/javase/11/docs/api/java.base/java/util/Map.html#remove(java.lang.Object)\">remove(Object key)</a>: remove a chave e o valor associado a ela.</li>\n",
    "    <li><a href=\"https://docs.oracle.com/en/java/javase/11/docs/api/java.base/java/util/Map.html#containsKey(java.lang.Object)\">containsKey(Object key)</a>: verifica se o mapa contém uma chave específica.</li>\n",
    "    <li><a href=\"https://docs.oracle.com/en/java/javase/11/docs/api/java.base/java/util/Map.html#containsValue(java.lang.Object)\">containsValue(Object value)</a>: verifica se o mapa contém um valor específico.</li>\n",
    "    <li><a href=\"https://docs.oracle.com/en/java/javase/11/docs/api/java.base/java/util/Map.html#keySet()\">keySet()</a>: retorna um conjunto com todas as chaves do mapa.</li>\n",
    "    <li><a href=\"https://docs.oracle.com/en/java/javase/11/docs/api/java.base/java/util/Map.html#values()\">values()</a>: retorna uma coleção com todos os valores armazenados no mapa.</li>\n",
    "    <li><a href=\"https://docs.oracle.com/en/java/javase/11/docs/api/java.base/java/util/Map.html#entrySet()\">entrySet()</a>: retorna um conjunto com todas as associações chave-valor no mapa.</li>    \n",
    "    <li><a href=\"https://docs.oracle.com/en/java/javase/11/docs/api/java.base/java/util/Map.html#size()\">size()</a>: retorna o número de pares chave-valor no mapa.</li>   \n",
    "    <li><a href=\"https://docs.oracle.com/en/java/javase/11/docs/api/java.base/java/util/Map.html#isEmpty()\">isEmpty()</a>: retorna <i>true</i> se o mapa não contiver mapeamentos de chave-valor.</li>\n",
    "</ul> "
   ]
  },
  {
   "cell_type": "markdown",
   "id": "aa5db4eb",
   "metadata": {},
   "source": [
    "<h3>Implementações da interface Map</h3>\n",
    "\n",
    "<p>Nessa aula, iremos implementar um Map por meio de duas estruturas distintas: o <a href=\"https://docs.oracle.com/en/java/javase/11/docs/api/java.base/java/util/HashMap.html\">HashMap</a> e o <a href=\"https://docs.oracle.com/en/java/javase/11/docs/api/java.base/java/util/TreeMap.html\">TreeMap</a>.</p>\n",
    "\n",
    "<h4>Classe HashMap</h4>\n",
    "\n",
    "<p>Características:</p>\n",
    "<ul>\n",
    "    <li><strong>Armazenamento</strong>: utiliza uma tabela hash.</li>\n",
    "    <li><strong>Complexidade</strong>: em média, as operações de inserção, busca e remoção são realizadas em tempo O(1).</li>\n",
    "    <li><strong>Ordem</strong>: não garante nenhuma ordem específica dos pares chave-valor.</li>\n",
    "    <li><strong>Vantagem</strong>: rápida recuperação de valores a partir das chaves.</li>\n",
    "</ul>\n",
    "\n",
    "<p>O <a href=\"#codigo1\">Código 1</a> apresenta a implementação da interface Map a partir da classe HashMap.</p>\n",
    "\n",
    "<h4>Classe TreeMap</h4>\n",
    "\n",
    "<p>Características:</p>\n",
    "<ul>\n",
    "    <li><strong>Armazenamento</strong>: utiliza uma árvore auto-balanceada (geralmente uma árvore <a href=\"https://pt.wikipedia.org/wiki/%C3%81rvore_rubro-negra\">Red-Black</a>).</li>\n",
    "    <li><strong>Complexidade</strong>: operações de inserção, busca e remoção têm custo O(log n).</li>\n",
    "    <li><strong>Ordem</strong>: mantém as chaves ordenadas pela ordem natural ou de acordo com um comparador personalizado.</li>\n",
    "    <li><strong>Vantagem</strong>: ideal para cenários em que os dados precisam estar ordenados.</li>\n",
    "</ul>\n",
    "\n",
    "<p>O <a href=\"#codigo2\">Código 2</a> apresenta a implementação da interface Map a partir da classe TreeMap.</p>"
   ]
  },
  {
   "cell_type": "markdown",
   "id": "e5a1d2e4",
   "metadata": {},
   "source": [
    "<a id='codigo1'></a>\n",
    "<h4 style=\"color: #2d3436;\"><strong>Código 1</strong>: Implementação da interface Map a partir da classe HashMap.</h4>"
   ]
  },
  {
   "cell_type": "code",
   "execution_count": 2,
   "id": "8a274ebb",
   "metadata": {},
   "outputs": [
    {
     "name": "stdout",
     "output_type": "stream",
     "text": [
      "Overwriting TabelaHash.java\n"
     ]
    }
   ],
   "source": [
    "%%file TabelaHash.java\n",
    "\n",
    "import java.util.Map;\n",
    "import java.util.HashMap;\n",
    "\n",
    "public class TabelaHash {\n",
    "    public static void main(String[] args) {\n",
    "        \n",
    "        // Tabela hash: cada par chave-valor é definido como um Integer (chave) e um String (valor).\n",
    "        Map<Integer, String> tabelaHash = new HashMap<Integer, String>();\n",
    "        tabelaHash.put(120, \"Maria\");\n",
    "        tabelaHash.put(350, \"João\");\n",
    "        tabelaHash.put(233, \"Pedro\");\n",
    "        tabelaHash.put(170, \"Ana\");\n",
    "\n",
    "        // Imprimindo o valor associado à chave 233.\n",
    "        System.out.println(tabelaHash.get(233));\n",
    "        \n",
    "        // Imprimindo o valor associado à chave 300.\n",
    "        System.out.println(tabelaHash.get(300));\n",
    "        \n",
    "        // Imprimindo todos os pares chave-valor.\n",
    "        System.out.println(tabelaHash);\n",
    "    }\n",
    "}"
   ]
  },
  {
   "cell_type": "markdown",
   "id": "bce71784",
   "metadata": {},
   "source": [
    "<a id='codigo2'></a>\n",
    "<h4 style=\"color: #2d3436;\"><strong>Código 2</strong>: Implementação da interface Map a partir da classe TreeMap.</h4>"
   ]
  },
  {
   "cell_type": "code",
   "execution_count": 4,
   "id": "df84783e",
   "metadata": {},
   "outputs": [
    {
     "name": "stdout",
     "output_type": "stream",
     "text": [
      "Overwriting Arvore.java\n"
     ]
    }
   ],
   "source": [
    "%%file Arvore.java\n",
    "\n",
    "import java.util.Map;\n",
    "import java.util.TreeMap;\n",
    "\n",
    "public class Arvore {\n",
    "    public static void main(String[] args) {\n",
    "        \n",
    "        // Árvore: cada par chave-valor é definido como um Integer (chave) e um String (valor).\n",
    "        Map<Integer, String> arvore = new TreeMap<Integer, String>();\n",
    "        arvore.put(120, \"Maria\");\n",
    "        arvore.put(350, \"João\");\n",
    "        arvore.put(233, \"Pedro\");\n",
    "        arvore.put(170, \"Ana\");\n",
    "\n",
    "        // Imprimindo o valor associado à chave 233.\n",
    "        System.out.println(arvore.get(233));\n",
    "        \n",
    "        // Imprimindo o valor associado à chave 300.\n",
    "        System.out.println(arvore.get(300));\n",
    "        \n",
    "        // Imprimindo todos os pares chave-valor (ordenados pelas chave).\n",
    "        System.out.println(arvore);\n",
    "    }\n",
    "}"
   ]
  },
  {
   "cell_type": "markdown",
   "id": "3623f513",
   "metadata": {},
   "source": [
    "<h3>Métodos equals() e hashCode()</h3>\n",
    "\n",
    "<p>Quando a chave utilizada no Map não é uma string ou uma classe de tipo primitivo (classes wrapper: Integer, Double, Long ...), precisamos garantir que o objeto usado como chave implemente corretamente os métodos <a href=\"https://docs.oracle.com/en/java/javase/11/docs/api/java.base/java/util/Map.html#equals(java.lang.Object)\">equals()</a> e <a href=\"https://docs.oracle.com/en/java/javase/11/docs/api/java.base/java/util/Map.html#hashCode()\">hashCode()</a>. Por exemplo, no <a href=\"#codigo3\">Código 3</a>, a classe Conta é utilizada como chave de um HashMap. Nesse caso, o atributo <i>id</i> da conta é utilizado para diferenciar os objetos dessa classe.</p>\n",
    "\n",
    "<h4>Método equals()</h4>\n",
    "\n",
    "<ul>\n",
    "    <li>Determina se duas chaves são iguais.</li>\n",
    "    <li>É usado pelo Map para verificar duplicação de chaves.</li>\n",
    "    <li>Implementação padrão da classe Object, compara referências de objetos.</li>\n",
    "    <li>Devemos sobrescrever este método para definir uma lógica personalizada de comparação.</li>\n",
    "</ul>\n",
    "\n",
    "<h4>Método hashCode()</h4>\n",
    "\n",
    "<ul>\n",
    "    <li>Produz um valor numérico usado para armazenar e buscar objetos em tabelas hash.</li>\n",
    "    <li>Objetos iguais (de acordo com equals) devem ter o mesmo valor de hashCode.</li>\n",
    "    <li>Objetos diferentes podem ter o mesmo valor hash (colisão).</li>\n",
    "</ul>"
   ]
  },
  {
   "cell_type": "markdown",
   "id": "c38c701b",
   "metadata": {},
   "source": [
    "<a id='codigo3'></a>\n",
    "<h4 style=\"color: #2d3436;\"><strong>Código 3</strong>: Implementação de um HashMap para armazenar Contas.</h4>"
   ]
  },
  {
   "cell_type": "code",
   "execution_count": 27,
   "id": "bbac4d1f",
   "metadata": {},
   "outputs": [
    {
     "name": "stdout",
     "output_type": "stream",
     "text": [
      "Overwriting Conta.java\n"
     ]
    }
   ],
   "source": [
    "%%file Conta.java\n",
    "\n",
    "import java.util.Map;\n",
    "import java.util.HashMap;\n",
    "import java.util.Objects;\n",
    "\n",
    "public class Conta {\n",
    "    private Integer id;\n",
    "    private String nomeTitular;\n",
    "    private Double saldo;\n",
    "\n",
    "    public Conta(Integer id, String nomeTitular, Double saldo) {\n",
    "        this.id = id;\n",
    "        this.nomeTitular = nomeTitular;\n",
    "        this.saldo = saldo;\n",
    "    }\n",
    "\n",
    "    public Integer getId() {\n",
    "        return id;\n",
    "    }\n",
    "\n",
    "    public String getNomeTitular() {\n",
    "        return nomeTitular;\n",
    "    }\n",
    "\n",
    "    public Double getSaldo() {\n",
    "        return saldo;\n",
    "    }\n",
    "    \n",
    "    @Override\n",
    "    public boolean equals(Object obj) {\n",
    "        if (this == obj) return true;\n",
    "        if (obj == null || getClass() != obj.getClass()) return false;\n",
    "        Conta conta = (Conta) obj;\n",
    "        return id.equals(conta.id);\n",
    "    }\n",
    "\n",
    "    @Override\n",
    "    public int hashCode() {\n",
    "        return Objects.hash(this.id);\n",
    "    }\n",
    "\n",
    "    @Override\n",
    "    public String toString() {\n",
    "        return id + \", \" + nomeTitular + \", \" + saldo;\n",
    "    }\n",
    "    \n",
    "    public static void main(String[] args) {\n",
    "        Map<Conta, String> contas = new HashMap<>();\n",
    "        Conta conta1 = new Conta(1, \"Maria\", 20000.0);\n",
    "        Conta conta2 = new Conta(1, \"Paula\", 150000.0);\n",
    "        Conta conta3 = new Conta(2, \"Pedro\", 5000.0);\n",
    "        Conta conta4 = new Conta(2, \"Mario\", 50000.0);\n",
    "        \n",
    "        contas.put(conta1, \"Conta da Maria\");\n",
    "        contas.put(conta2, \"Conta da Paula\"); // Substituirá a conta anterior, pois possuem o mesmo ID.\n",
    "        contas.put(conta3, \"Conta do Pedro\");\n",
    "        contas.putIfAbsent(conta4, \"Conta do Mario\"); // A conta anterior associada à chave é mantida.\n",
    "        \n",
    "        // Exibir os pares chave-valor\n",
    "        for (Map.Entry<Conta, String> entrada: contas.entrySet()) {\n",
    "            System.out.println(\"Chave(\" + entrada.getKey() + \")\" + \"; Valor(\" + entrada.getValue() + \")\");\n",
    "        }\n",
    "    }\n",
    "}"
   ]
  },
  {
   "cell_type": "markdown",
   "id": "5200ca0b",
   "metadata": {},
   "source": [
    "<h4>Tratamento de Colisões</h4>\n",
    "\n",
    "<p>Uma colisão ocorre quando duas ou mais chaves diferentes geram o mesmo valor de hashCode. No Java 8, árvores balanceadas são utilizadas para reduzir o impacto de colisões. Assim, chaves que colidem podem ser armazenadas na mesma posição de forma eficiente.</p>\n",
    "\n",
    "<p>O efeito das colisões entre chaves pode ser observado ao executar o <a href=\"#codigo4\">Código 4</a>, que compara a eficiência do uso de diferentes implementações de hashCode em mapas, demonstrando como colisões constantes (como no caso da classe InteiroB) podem impactar o desempenho.</p>"
   ]
  },
  {
   "cell_type": "markdown",
   "id": "d02d73b7",
   "metadata": {},
   "source": [
    "<a id='codigo4'></a>\n",
    "<h4 style=\"color: #2d3436;\"><strong>Código 4</strong>: Comparação de desempenho levando em consideração a colisão entre chaves.</h4>"
   ]
  },
  {
   "cell_type": "code",
   "execution_count": 24,
   "id": "78642b20",
   "metadata": {},
   "outputs": [
    {
     "name": "stdout",
     "output_type": "stream",
     "text": [
      "Overwriting Main.java\n"
     ]
    }
   ],
   "source": [
    "%%file Main.java\n",
    "\n",
    "import java.util.Map;\n",
    "import java.util.HashMap;\n",
    "import java.util.Objects;\n",
    "\n",
    "public class Main {\n",
    "    \n",
    "    // Definindo o tamanho do mapa (10000 elementos)\n",
    "    private static final int TAMANHO = 10000;\n",
    "\n",
    "    // Classe abstrata Inteiro, que será estendida pelas outras classes\n",
    "    private static abstract class Inteiro {\n",
    "        protected Integer valor;\n",
    "\n",
    "        public Inteiro(int valor) {\n",
    "            this.valor = valor;\n",
    "        }\n",
    "        \n",
    "        @Override\n",
    "        public boolean equals(Object obj) {\n",
    "            if (this == obj) return true;\n",
    "            if (obj == null || getClass() != obj.getClass()) return false;\n",
    "            Inteiro inteiro = (Inteiro) obj;\n",
    "            return valor.equals(inteiro.valor);\n",
    "        }\n",
    "\n",
    "        @Override\n",
    "        public String toString() {\n",
    "            return valor.toString();\n",
    "        }\n",
    "    }\n",
    "\n",
    "    // Classe InteiroA estende a classe Inteiro e define um método hashCode personalizado\n",
    "    private static class InteiroA extends Inteiro {\n",
    "        public InteiroA(int valor){\n",
    "            super(valor);\n",
    "        }\n",
    "        \n",
    "        @Override\n",
    "        public int hashCode() {\n",
    "            return Objects.hash(valor);\n",
    "        }\n",
    "    }\n",
    "\n",
    "    // Classe InteiroB estende a classe Inteiro, mas define um hashCode fixo (todas as chaves colidem)\n",
    "    private static class InteiroB extends Inteiro {\n",
    "        public InteiroB(int valor){\n",
    "            super(valor);\n",
    "        }\n",
    "        \n",
    "        @Override\n",
    "        public int hashCode() {\n",
    "            return 1;\n",
    "        }\n",
    "    }\n",
    "    \n",
    "    public static void main(String[] args) {\n",
    "        // Criação de dois mapas, um para InteiroA e outro para InteiroB\n",
    "        Map<InteiroA, Integer> inteirosA = new HashMap<>();\n",
    "        Map<InteiroB, Integer> inteirosB = new HashMap<>();\n",
    "        \n",
    "        // Preenche os mapas com elementos\n",
    "        for (int i = 0; i < TAMANHO; i++) {\n",
    "            inteirosA.put(new InteiroA(i), i);\n",
    "            inteirosB.put(new InteiroB(i), i);\n",
    "        }\n",
    "        \n",
    "        // Medição do tempo de execução para o mapa InteiroA\n",
    "        long inicio = System.currentTimeMillis();\n",
    "        for (int i = 0; i < TAMANHO; i++) {\n",
    "            inteirosA.containsKey(new InteiroA(i));\n",
    "        }\n",
    "        long tempoExecucao = System.currentTimeMillis() - inicio;\n",
    "        System.out.println(\"Tempo de execução (inteirosA): \" + tempoExecucao + \" milissegundos\");\n",
    "        \n",
    "        // Medição do tempo de execução para o mapa InteiroB\n",
    "        inicio = System.currentTimeMillis();\n",
    "        for (int i = 0; i < TAMANHO; i++) {\n",
    "            inteirosB.containsKey(new InteiroB(i));\n",
    "        }\n",
    "        tempoExecucao = System.currentTimeMillis() - inicio;\n",
    "        System.out.println(\"Tempo de execução (inteirosB): \" + tempoExecucao + \" milissegundos\");\n",
    "    }   \n",
    "}"
   ]
  }
 ],
 "metadata": {
  "kernelspec": {
   "display_name": "Python 3",
   "language": "python",
   "name": "python3"
  },
  "language_info": {
   "codemirror_mode": {
    "name": "ipython",
    "version": 3
   },
   "file_extension": ".py",
   "mimetype": "text/x-python",
   "name": "python",
   "nbconvert_exporter": "python",
   "pygments_lexer": "ipython3",
   "version": "3.8.10"
  }
 },
 "nbformat": 4,
 "nbformat_minor": 5
}
