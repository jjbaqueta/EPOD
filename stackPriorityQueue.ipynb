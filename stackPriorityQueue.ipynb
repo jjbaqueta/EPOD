{
 "cells": [
  {
   "cell_type": "markdown",
   "id": "a58c62f6",
   "metadata": {},
   "source": [
    "# Utilização da Classe Stack e da Interface Queue\n",
    "\n",
    "Esta implementação demonstra como utilizar algumas das operações básicas definidas na classe Stack e na interface Queue do Java."
   ]
  },
  {
   "cell_type": "markdown",
   "id": "2a817dec",
   "metadata": {},
   "source": [
    "*IMPORTANTE*: Lembre-se, o comando '%%file' é utilizado pelo Python para criar os arquivos .java em sua máquina local (no diretório onde este notebook está salvo). Os arquivos criados são nomeados de acordo com o identificador que aparece após o comando '%%file'."
   ]
  },
  {
   "cell_type": "markdown",
   "id": "893e75cd",
   "metadata": {},
   "source": [
    "### Classe Item\n",
    "\n",
    "Classe base que representa um elemento manipulado pelas estruturas de dados (pilha, fila e fila de prioridade)."
   ]
  },
  {
   "cell_type": "code",
   "execution_count": null,
   "id": "8cd2625c",
   "metadata": {},
   "outputs": [],
   "source": [
    "%%file Item.java\n",
    "\n",
    "public class Item implements Comparable<Item> {\n",
    "    int id;\n",
    "    String nome;\n",
    "\n",
    "    public Item(int id, String nome) {\n",
    "        this.id = id;\n",
    "        this.nome = nome;\n",
    "    }\n",
    "\n",
    "    @Override\n",
    "        public int compareTo(Item outroItem) {\n",
    "        return Double.compare(this.id, outroItem.id);\n",
    "    }\n",
    "\n",
    "    @Override\n",
    "        public String toString() {\n",
    "        return \"Item{id=\" + id + \", nome='\" + nome + \"}\";\n",
    "    }\n",
    "}"
   ]
  },
  {
   "cell_type": "markdown",
   "id": "f9681ed7",
   "metadata": {},
   "source": [
    "### Classe Comparador\n",
    "\n",
    "Classe utilizada para comparar um objeto do tipo Item com base no atributo nome."
   ]
  },
  {
   "cell_type": "code",
   "execution_count": null,
   "id": "2544bfc0",
   "metadata": {},
   "outputs": [],
   "source": [
    "%%file ItemComparadorNome.java\n",
    "\n",
    "import java.util.Comparator;\n",
    "\n",
    "public class ItemComparadorNome implements Comparator<Item>{\n",
    "\n",
    "\t@Override\n",
    "\tpublic int compare(Item item1, Item item2) {\n",
    "\t\treturn item1.nome.compareTo(item2.nome);\n",
    "\t}\n",
    "}"
   ]
  },
  {
   "cell_type": "markdown",
   "id": "49ab39ec",
   "metadata": {},
   "source": [
    "### Classe Main\n",
    "\n",
    "Classe principal, onde as estruturas de dados são instanciadas e utilizadas."
   ]
  },
  {
   "cell_type": "code",
   "execution_count": null,
   "id": "2073f5f1",
   "metadata": {},
   "outputs": [],
   "source": [
    "%%file Main.java\n",
    "\n",
    "import java.util.LinkedList;\n",
    "import java.util.PriorityQueue;\n",
    "import java.util.Queue;\n",
    "import java.util.Stack;\n",
    "\n",
    "public class Main {\n",
    "\tpublic static void main(String[] args) {\n",
    "\t\t\n",
    "  \t\t// STACK e QUEUE\n",
    "\t\tStack<Item> stack = new Stack<Item>();\n",
    "\t\tQueue<Item> queue = new LinkedList<Item>();\n",
    "\n",
    "\t\t// Adicionando itens à pilha\n",
    "\t\tstack.add(new Item(1, \"Maça\"));\n",
    "\t\tstack.add(new Item(2, \"Banana\"));\n",
    "\t\tstack.add(new Item(3, \"Laranja\"));\n",
    "\t\tstack.add(new Item(4, \"Uva\"));\n",
    "\n",
    "\t\t// Exibindo os itens da pilha\n",
    "\t\tSystem.out.println(\"topo: \" + stack.peek());\n",
    "\t\tSystem.out.println(\"pilha: \"+ stack.toString());\n",
    "\n",
    "\t\t// Adicionando os itens da pilha na fila\n",
    "\t\twhile (!stack.isEmpty()) {\n",
    "\t\t\tItem item = stack.pop();\n",
    "\t\t\tqueue.add(item);\n",
    "\t\t}\n",
    "\t\t// Exibindo os itens da fila\n",
    "\t\tSystem.out.println(\"\\nFila - inicio: \" + queue.peek());\n",
    "\t\tSystem.out.println(\"Fila: \"+ queue.toString());\n",
    "\n",
    "\t\t// PRIORITY QUEUE (default: fila de prioridade mínima)\n",
    "\t\tItemComparadorNome comparador = new ItemComparadorNome();\n",
    "\t\tQueue<Item> priorityQueue = new PriorityQueue<Item>(comparador); // fila de prioridade mínima \n",
    "\t\t//Queue<Item> priorityQueue = new PriorityQueue<Item>(comparador.reversed()); // fila de prioridade máxima\n",
    "\n",
    "\t\t// Adicionando os itens da fila na fila de prioridade\n",
    "\t\twhile (!queue.isEmpty()) {\n",
    "\t\t\tItem item = queue.poll();\n",
    "\t\t\tpriorityQueue.add(item);\n",
    "\t\t}\n",
    "\t\t// Exibindo os itens da fila de prioridade\n",
    "\t\tSystem.out.println(\"\\nFila de prioridade - inicio: \" + priorityQueue.peek());\n",
    "\t\tSystem.out.println(\"Fila de prioridade: \"+ priorityQueue.toString());\t\t\n",
    "\t}\n",
    "}"
   ]
  },
  {
   "cell_type": "markdown",
   "id": "5a1a27ba",
   "metadata": {},
   "source": [
    "### Saída do Programa:\n",
    "\n",
    "    topo: Item{id=4, nome='Uva}\n",
    "    pilha: [Item{id=1, nome='Maça}, Item{id=2, nome='Banana}, Item{id=3, nome='Laranja}, Item{id=4, nome='Uva}]\n",
    "\n",
    "    Fila - inicio: Item{id=4, nome='Uva}\n",
    "    Fila: [Item{id=4, nome='Uva}, Item{id=3, nome='Laranja}, Item{id=2, nome='Banana}, Item{id=1, nome='Maça}]\n",
    "\n",
    "    Fila de prioridade - inicio: Item{id=2, nome='Banana}\n",
    "    Fila de prioridade: [Item{id=2, nome='Banana}, Item{id=1, nome='Maça}, Item{id=3, nome='Laranja}, Item{id=4, nome='Uva}]\n"
   ]
  }
 ],
 "metadata": {
  "kernelspec": {
   "display_name": "Python 3",
   "language": "python",
   "name": "python3"
  },
  "language_info": {
   "codemirror_mode": {
    "name": "ipython",
    "version": 3
   },
   "file_extension": ".py",
   "mimetype": "text/x-python",
   "name": "python",
   "nbconvert_exporter": "python",
   "pygments_lexer": "ipython3",
   "version": "3.8.10"
  }
 },
 "nbformat": 4,
 "nbformat_minor": 5
}
