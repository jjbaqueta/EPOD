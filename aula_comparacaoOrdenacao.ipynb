{
 "cells": [
  {
   "cell_type": "markdown",
   "id": "a58c62f6",
   "metadata": {},
   "source": [
    "# Comparação entre Algoritmos de Ordenação\n",
    "\n",
    "Algoritmos comparados: Insertion Sort, Selection Sort e Merge Sort"
   ]
  },
  {
   "cell_type": "markdown",
   "id": "2a817dec",
   "metadata": {},
   "source": [
    "*IMPORTANTE*: Lembre-se, o comando '%%file' é utilizado pelo Python para criar os arquivos .java em sua máquina local (no diretório onde este notebook está salvo). Os arquivos criados são nomeados de acordo com o identificador que aparece após o comando '%%file'."
   ]
  },
  {
   "cell_type": "markdown",
   "id": "893e75cd",
   "metadata": {},
   "source": [
    "Todos os algoritmos implementados aqui têm como objetivo ordenar os elementos de um vetor. Em particular, o vetor de entrada é composto por uma sequência de números inteiros, tal como apresentado abaixo:  "
   ]
  },
  {
   "cell_type": "markdown",
   "id": "6156b873",
   "metadata": {},
   "source": [
    "Exemplo de entrada e saída:\n",
    "\n",
    "    Entrada: [4, 5, 89, 20, 43, 12, 2, 7, 80, 12]\n",
    "    Saída:   [2, 4, 5, 7, 12, 12, 20, 43, 80, 89]"
   ]
  },
  {
   "cell_type": "code",
   "execution_count": 2,
   "id": "8cd2625c",
   "metadata": {},
   "outputs": [
    {
     "name": "stdout",
     "output_type": "stream",
     "text": [
      "Overwriting Main.java\n"
     ]
    }
   ],
   "source": [
    "%%file Main.java\n",
    "\n",
    "public class Main {\n",
    "\n",
    "\tprivate static final int TAMANHO_MAXIMO = 1000000;\n",
    "\t\t\n",
    "\t/**\n",
    "\t * Função que implementa o algoritmo Insertion Sort.\n",
    "\t * \n",
    "\t * @param vet - vetor de inteiros\n",
    "\t */\n",
    "\tpublic static void insertionSort(int[] vet) {\n",
    "        for (int i = 1; i < vet.length; ++i) {\n",
    "            int chave = vet[i];\n",
    "            int j = i - 1;\n",
    "\n",
    "            // Move os elementos de vet[0..i-1] que são maiores que a chave para frente\n",
    "            while (j >= 0 && vet[j] > chave) {\n",
    "                vet[j + 1] = vet[j];\n",
    "                j = j - 1;\n",
    "            }\n",
    "            vet[j + 1] = chave;\n",
    "        }\n",
    "    }\n",
    "\t\n",
    "\t/**\n",
    "\t * Função que implementa o algoritmo Selection Sort.\n",
    "\t * \n",
    "\t * @param vet - vetor de inteiros\n",
    "\t */\n",
    "\tpublic static void selectionSort(int[] vet) {\n",
    "        for (int i = 0; i < vet.length - 1; i++) {\n",
    "            // Encontra o menor elemento da parte não ordenada\n",
    "            int indice = i;\n",
    "            for (int j = i + 1; j < vet.length; j++) {\n",
    "                if (vet[j] < vet[indice]) {\n",
    "                \tindice = j;\n",
    "                }\n",
    "            }\n",
    "            // Troca o menor elemento com o elemento i da parte ordenada\n",
    "            if (vet[i] > vet[indice]) {\n",
    "            \tint aux = vet[indice];\n",
    "            \tvet[indice] = vet[i];\n",
    "            \tvet[i] = aux;            \t\n",
    "            }\n",
    "        }\n",
    "    }\n",
    "\t\n",
    "\tprivate static void intercalar(int[] vet, int[] aux, int p, int q, int r) {\n",
    "\t\tint i = p, j = q + 1, k;\n",
    "\t\t\n",
    "\t\tfor (k = p; k <= r; k++) {\n",
    "\t\t\taux[k] = vet[k];\n",
    "\t\t}\n",
    "\t\tfor (k = p; k <= r; k++) {\n",
    "\t\t\tif (i > q) {\n",
    "\t\t\t\tvet[k] = aux[j++];\n",
    "\t\t\t}\n",
    "\t\t\telse if (j > r) {\n",
    "\t\t\t\tvet[k] = aux[i++];\n",
    "\t\t\t}\n",
    "\t\t\telse if (aux[j] <= aux[i]) {\n",
    "\t\t\t\tvet[k] = aux[j++];\n",
    "\t\t\t}\n",
    "\t\t\telse {\n",
    "\t\t\t\tvet[k] = aux[i++];\n",
    "\t\t\t}\n",
    "\t\t}\n",
    "\t}\n",
    "\t\n",
    "\tprivate static void dividir(int[] vet, int[] aux, int p, int r) {\n",
    "\t\tif (r <= p) {\n",
    "\t\t\treturn;\n",
    "\t\t}\n",
    "\t\tint q = p + (r - p) / 2;\n",
    "\t\tdividir(vet, aux, p, q);\n",
    "\t\tdividir(vet, aux, q + 1, r);\n",
    "\t\tintercalar(vet, aux, p, q, r);\n",
    "\t}\n",
    "\t\n",
    "\t/**\n",
    "\t * Função que implementa o algoritmo Merge Sort.\n",
    "\t * \n",
    "\t * @param vet - vetor de inteiros\n",
    "\t * @param aux - vetor auxiliar usado no processo de intercalação\n",
    "\t * @param p - índice da primeira posição do vetor vet.\n",
    "\t * @param r - índice da última posição do vetor vet\n",
    "\t */\n",
    "\tpublic static void mergeSort(int[] vet, int[] aux, int p, int r) {\n",
    "\t\tdividir(vet, aux, p, r);\n",
    "\t}\n",
    "\t\n",
    "\tpublic static void main(String[] args) {\n",
    "\t\tint[] vet = new int[TAMANHO_MAXIMO];\n",
    "\t\tint[] aux = new int[TAMANHO_MAXIMO];\n",
    "    \t\n",
    "    \tRandom rand = new Random();\n",
    "    \tfor (int i = 0; i < TAMANHO_MAXIMO; i++) {\n",
    "    \t\tvet[i] = rand.nextInt(TAMANHO_MAXIMO);\n",
    "    \t}\n",
    "    \t\n",
    "    \tlong inicio = System.currentTimeMillis();\n",
    "    \tmergeSort(vet.clone(), aux, 0, TAMANHO_MAXIMO - 1);\n",
    "    \tlong duracao = System.currentTimeMillis() - inicio;\n",
    "    \tSystem.out.println(\"tempo de execução (ms) - merge sort: \" + duracao);\n",
    "    \t\n",
    "    \tinicio = System.currentTimeMillis();\n",
    "    \tinsertionSort(vet.clone());\n",
    "    \tduracao = System.currentTimeMillis() - inicio;\n",
    "    \tSystem.out.println(\"tempo de execução (ms) - insertion sort: \" + duracao);\n",
    "    \t\n",
    "    \tinicio = System.currentTimeMillis();\n",
    "    \tselectionSort(vet.clone());\n",
    "    \tduracao = System.currentTimeMillis() - inicio;\n",
    "    \tSystem.out.println(\"tempo de execução (ms) - selection sort: \" + duracao);\n",
    "\t}\n",
    "}"
   ]
  },
  {
   "cell_type": "markdown",
   "id": "0ec9c8a5",
   "metadata": {},
   "source": [
    "### Resultados:\n",
    "\n",
    "IMPORTANTE: O tempo de execução de um algoritmo pode ser influenciado por diversos fatores, incluindo a arquitetura do computador, a eficiência da implementação e a carga de trabalho do sistema operacional. Portanto, é comum observar variações no tempo de execução dos algoritmo em diferentes máquinas.",
    "\n",
    "Ao comparar os algoritmos implementados acima, levando em consideração a complexidade computacional, podemos notar a superioridade do Merge Sort com relação aos demais algoritmos. O Merge Sort possui complexidade de O(n log n), onde 'n' é o número de elementos a serem ordenados. Essa complexidade é significativamente melhor do que a complexidade quadrática dos algoritmos Insertion Sort e Selection Sort (O(n^2)). Tal diferença pode ser notada no tempo gasto pelos algoritmos para ordenar um vetor de um milhão de posições inicializado aleatoriamente, tal como definido no código."
   ]
  }
 ],
 "metadata": {
  "kernelspec": {
   "display_name": "Python 3",
   "language": "python",
   "name": "python3"
  },
  "language_info": {
   "codemirror_mode": {
    "name": "ipython",
    "version": 3
   },
   "file_extension": ".py",
   "mimetype": "text/x-python",
   "name": "python",
   "nbconvert_exporter": "python",
   "pygments_lexer": "ipython3",
   "version": "3.8.10"
  }
 },
 "nbformat": 4,
 "nbformat_minor": 5
}
