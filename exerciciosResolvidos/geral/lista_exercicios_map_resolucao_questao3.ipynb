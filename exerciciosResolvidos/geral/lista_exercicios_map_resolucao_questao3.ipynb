{
 "cells": [
  {
   "cell_type": "markdown",
   "id": "a58c62f6",
   "metadata": {},
   "source": [
    "## Questão 3\n",
    "#### Resolução\n",
    "\n",
    "*IMPORTANTE*: o comando '%%file' é utilizado pelo Python para criar os arquivos .java em sua máquina local (no diretório onde este notebook está salvo)."
   ]
  },
  {
   "cell_type": "markdown",
   "id": "2760abe2",
   "metadata": {},
   "source": [
    "- Classe \"Questao3\", implementa a função main:"
   ]
  },
  {
   "cell_type": "code",
   "execution_count": 1,
   "id": "7830271d",
   "metadata": {},
   "outputs": [
    {
     "name": "stdout",
     "output_type": "stream",
     "text": [
      "Writing Questao3.java\n"
     ]
    }
   ],
   "source": [
    "%%file Questao3.java\n",
    "\n",
    "import java.io.BufferedReader;\n",
    "import java.io.File;\n",
    "import java.io.FileNotFoundException;\n",
    "import java.io.FileReader;\n",
    "import java.io.IOException;\n",
    "import java.util.HashMap;\n",
    "import java.util.Map;\n",
    "\n",
    "public class Questao3 {\n",
    "\n",
    "\tpublic static void main(String[] args) {\n",
    "\t\tString linha = \"\";\n",
    "\t\tString separador = \",\";\n",
    "\t\tBufferedReader bufferReader = null;\n",
    "\t\tboolean primeiraLinha = true;\n",
    "\n",
    "\t\tMap<String, Integer> candidatos = new HashMap<String, Integer>();\n",
    "\n",
    "\t\ttry {\n",
    "\t\t\tbufferReader = new BufferedReader(new FileReader(new File(\"src/votos_geral.csv\")));\n",
    "\t\t\twhile ((linha = bufferReader.readLine()) != null) {\n",
    "\t\t\t\tif (primeiraLinha) {\n",
    "\t\t\t\t\tprimeiraLinha = false;\n",
    "\t\t\t\t\tcontinue;\n",
    "\t\t\t\t}\n",
    "\t\t\t\tString[] campos = linha.split(separador);\n",
    "\t\t\t\t\n",
    "\t\t\t\tString candidato = campos[0];\n",
    "\t\t\t\tint votosRecebidos = Integer.parseInt(campos[1]);\n",
    "\t\t\t\t\n",
    "\t\t\t\tif (candidatos.containsKey(candidato)) {\n",
    "\t\t\t\t\tcandidatos.put(candidato, candidatos.get(candidato) + votosRecebidos);\n",
    "\t\t\t\t}\n",
    "\t\t\t\telse {\n",
    "\t\t\t\t\tcandidatos.put(candidato, votosRecebidos);\n",
    "\t\t\t\t}\n",
    "\t\t\t}\n",
    "\t\t\tSystem.out.println(\"Relatório da votação:\");\n",
    "\t        for (Map.Entry<String, Integer> entrada : candidatos.entrySet()) {\n",
    "\t            System.out.println(\"* \" + entrada.getKey() + \" recebeu \" + entrada.getValue() + \" votos\");\n",
    "\t        }\n",
    "\t\t} \n",
    "\t\tcatch (FileNotFoundException e) {\n",
    "\t\t\te.printStackTrace();\n",
    "\t\t} \n",
    "\t\tcatch (IOException e) {\n",
    "\t\t\te.printStackTrace();\n",
    "\t\t} \n",
    "\t\tfinally {\n",
    "\t\t\tif (bufferReader != null) {\n",
    "\t\t\t\ttry {\n",
    "\t\t\t\t\tbufferReader.close();\n",
    "\t\t\t\t} \n",
    "\t\t\t\tcatch (IOException e) {\n",
    "\t\t\t\t\te.printStackTrace();\n",
    "\t\t\t\t}\n",
    "\t\t\t}\n",
    "\t\t}\n",
    "\t}\n",
    "}"
   ]
  },
  {
   "cell_type": "markdown",
   "id": "475db99d",
   "metadata": {},
   "source": [
    "- Arquivo de entrada:"
   ]
  },
  {
   "cell_type": "code",
   "execution_count": 1,
   "id": "386d6e38",
   "metadata": {},
   "outputs": [
    {
     "name": "stdout",
     "output_type": "stream",
     "text": [
      "Overwriting votos_geral.csv\n"
     ]
    }
   ],
   "source": [
    "%%file votos_geral.csv\n",
    "Candidato,Votos\n",
    "Alice,1500\n",
    "Bob,2300\n",
    "Alice,1800\n",
    "Bob,1200\n",
    "Charlie,1700\n",
    "Alice,900\n",
    "Bob,2400\n",
    "Charlie,1500\n",
    "Alice,1300\n",
    "Bob,1700\n",
    "Charlie,1200"
   ]
  }
 ],
 "metadata": {
  "kernelspec": {
   "display_name": "Python 3",
   "language": "python",
   "name": "python3"
  },
  "language_info": {
   "codemirror_mode": {
    "name": "ipython",
    "version": 3
   },
   "file_extension": ".py",
   "mimetype": "text/x-python",
   "name": "python",
   "nbconvert_exporter": "python",
   "pygments_lexer": "ipython3",
   "version": "3.8.10"
  }
 },
 "nbformat": 4,
 "nbformat_minor": 5
}
