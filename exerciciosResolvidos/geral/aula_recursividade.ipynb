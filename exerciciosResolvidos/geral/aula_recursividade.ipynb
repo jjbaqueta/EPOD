{
 "cells": [
  {
   "cell_type": "markdown",
   "id": "a58c62f6",
   "metadata": {},
   "source": [
    "# Aula sobre recursividade"
   ]
  },
  {
   "cell_type": "markdown",
   "id": "2a817dec",
   "metadata": {},
   "source": [
    "*IMPORTANTE*: Lembre-se, o comando '%%file' é utilizado pelo Python para criar os arquivos .java em sua máquina local (no diretório onde este notebook está salvo). Os arquivos criados são nomeados de acordo com o identificador que aparece após o comando '%%file'."
   ]
  },
  {
   "cell_type": "markdown",
   "id": "893e75cd",
   "metadata": {},
   "source": [
    "**Problema**: encontrar o índice do menor elemento em um vetor."
   ]
  },
  {
   "cell_type": "markdown",
   "id": "6156b873",
   "metadata": {},
   "source": [
    "Exemplo de entrada e saída:\n",
    "\n",
    "    Entrada: vetor de entrada: [4, 5, 89, 20, 43, 12, 2, 7, 80, 12]\n",
    "    Saída:   mItr (versão iterativa): 6, mRec (versão recursiva): 6"
   ]
  },
  {
   "cell_type": "code",
   "execution_count": 1,
   "id": "8cd2625c",
   "metadata": {},
   "outputs": [
    {
     "name": "stdout",
     "output_type": "stream",
     "text": [
      "Writing aulaRecursao.java\n"
     ]
    }
   ],
   "source": [
    "%%file aulaRecursao.java\n",
    "\n",
    "public class Main {\n",
    "\n",
    "\tpublic static int encontrarMinVetRec(int[] v, int a, int b) {\n",
    "\t\tif (a == b) {\n",
    "\t\t\treturn a;\n",
    "\t\t}\n",
    "\t\t\n",
    "\t\tint m = encontrarMinVetRec(v, a, b - 1);\n",
    "\t\t\n",
    "\t\tif (v[b] < v[m]) {\n",
    "\t\t\treturn b;\n",
    "\t\t}\n",
    "\t\treturn m;\n",
    "\t}\n",
    "\t\n",
    "\tpublic static int encontrarMinVetItr(int[] v, int a, int b) {\n",
    "\t\tint i = a, m = a;\n",
    "\t\t\n",
    "\t\twhile (i <= b) {\n",
    "\t\t\ti++;\n",
    "\t\t\t\n",
    "\t\t\tif (v[i] < v[m]) {\n",
    "\t\t\t\tm = i;\n",
    "\t\t\t}\n",
    "\t\t}\n",
    "\t\treturn m;\n",
    "\t}\n",
    "\t\n",
    "\tpublic static void main(String[] args) {\n",
    "\t\tint[] vet = {4, 5, 89, 20, 43, 12, 2, 7, 80, 12};\n",
    "\t\tint mRec = encontrarMinVetRec(vet, 0, 9);\n",
    "\t\tint mItr = encontrarMinVetRec(vet, 0, 9);\n",
    "\t\t\n",
    "\t\tSystem.out.println(\"mItr: \" + mItr);\n",
    "\t\tSystem.out.println(\"mRec: \" + mRec);\n",
    "\t}\n",
    "}"
   ]
  }
 ],
 "metadata": {
  "kernelspec": {
   "display_name": "Python 3",
   "language": "python",
   "name": "python3"
  },
  "language_info": {
   "codemirror_mode": {
    "name": "ipython",
    "version": 3
   },
   "file_extension": ".py",
   "mimetype": "text/x-python",
   "name": "python",
   "nbconvert_exporter": "python",
   "pygments_lexer": "ipython3",
   "version": "3.8.10"
  }
 },
 "nbformat": 4,
 "nbformat_minor": 5
}
