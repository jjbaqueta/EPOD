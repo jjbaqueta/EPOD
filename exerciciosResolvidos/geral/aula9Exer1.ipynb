{
 "cells": [
  {
   "cell_type": "markdown",
   "id": "a58c62f6",
   "metadata": {},
   "source": [
    "# Exercício 1\n",
    "\n",
    "Descrição do exercício:\n",
    "\n",
    "O arquivo (acoes.csv) descreve uma sequência de ações realizadas por um usuário durante a utilização de um editor de texto. Carregue cada ação em uma pilha. Uma ação descrita no arquivo é definida por dois atributos: status da ação e descrição da ação. O status 'Feito' indica uma ação que foi realizada pelo usuário e, portanto, deve ser inserida na pilha. Já o status 'Desfeito' indica que o usuário desfez a última ação executada (remoção da pilha). Cada ação removida da pilha deve ser salva em uma fila. Ao final, exiba a sequência de ações desfeitas realizadas pelo usuário na ordem em que elas ocorreram."
   ]
  },
  {
   "cell_type": "markdown",
   "id": "2a817dec",
   "metadata": {},
   "source": [
    "*IMPORTANTE*: Lembre-se, o comando '%%file' é utilizado pelo Python para criar os arquivos .java em sua máquina local (no diretório onde este notebook está salvo). Os arquivos criados são nomeados de acordo com o identificador que aparece após o comando '%%file'."
   ]
  },
  {
   "cell_type": "markdown",
   "id": "893e75cd",
   "metadata": {},
   "source": [
    "### Arquivo de entrada: acoes.csv"
   ]
  },
  {
   "cell_type": "code",
   "execution_count": null,
   "id": "dec86de7",
   "metadata": {},
   "outputs": [],
   "source": [
    "%%file acoes.csv\n",
    "Operação,status da ação,descrição\n",
    "Feito,alteração de fonte para Arial\n",
    "Feito,inserção de texto \"Novo texto!\"\n",
    "Feito,alteração de cor de fundo para azul\n",
    "Desfeito,-\n",
    "Feito,inserção de imagem \"logotipo.png\"\n",
    "Feito,negrito aplicado ao texto selecionado\n",
    "Desfeito,-\n",
    "Feito,alteração de tamanho da fonte para 14pt\n",
    "Feito,inserção de lista numerada\n",
    "Desfeito,-\n",
    "Feito,recorte de parágrafo\n",
    "Feito,colagem de parágrafo\n",
    "Feito,inserção de hiperlink \"www.exemplo.com\"\n",
    "Feito,alinhamento de texto à direita\n",
    "Desfeito,-\n",
    "Feito,busca e substituição de \"exemplo\" por \"demonstração\"\n",
    "Feito,inserção de cabeçalho \"Relatório de Progresso\"\n",
    "Feito,inserção de rodapé com numeração de páginas\n",
    "Desfeito,-\n",
    "Feito,aplicação de itálico ao texto \"importante\"\n",
    "Feito,inserção de tabela 3x3\n",
    "Desfeito,-\n",
    "Feito,alteração de espaçamento entre linhas para 1.5\n",
    "Feito,inserção de gráfico \"vendas_2023.png\"\n",
    "Desfeito,-\n",
    "Feito, ajuste de margens do documento"
   ]
  },
  {
   "cell_type": "markdown",
   "id": "a68bb72a",
   "metadata": {},
   "source": [
    "### Classe Main\n",
    "\n",
    "Nesse exercício, cada ação é representada por uma String, que é armazenada diretamente em uma pilha."
   ]
  },
  {
   "cell_type": "code",
   "execution_count": null,
   "id": "2073f5f1",
   "metadata": {},
   "outputs": [],
   "source": [
    "%%file Main.java\n",
    "\n",
    "import java.io.BufferedReader;\n",
    "import java.io.File;\n",
    "import java.io.FileNotFoundException;\n",
    "import java.io.FileReader;\n",
    "import java.io.IOException;\n",
    "import java.util.LinkedList;\n",
    "import java.util.Queue;\n",
    "import java.util.Stack;\n",
    "\n",
    "public class Main {\n",
    "    private static Stack<String> acoes = new Stack<String>();\n",
    "    private static Queue<String> acoesDesfeitas = new LinkedList<String>();\n",
    "\n",
    "    /**\n",
    "    * Método para carregar as ações do arquivo\n",
    "    */\n",
    "    public static void carregarAcoes() {\n",
    "        String linha = \"\";\n",
    "        String csvDivisor = \",\";\n",
    "        BufferedReader br = null;\n",
    "        boolean primeiraLinha = true;\n",
    "        try {\n",
    "            br = new BufferedReader(new FileReader(new File(\"src/acoes.csv\")));\n",
    "            while ((linha = br.readLine()) != null) {\n",
    "                if (primeiraLinha) {\n",
    "                    primeiraLinha = false;\n",
    "                    continue;\n",
    "                }\n",
    "                String[] campos = linha.split(csvDivisor);\n",
    "                if (campos[0].equals(\"Feito\")) {\n",
    "                    acoes.push(campos[1]);\t\t// Inserção de uma nova ação na pilha\n",
    "                } else {\n",
    "                    acoesDesfeitas.add(acoes.pop());\t// Remoção de uma ação da pilha e inserção na fila\n",
    "                }\n",
    "            }\n",
    "        } catch (FileNotFoundException e) {\n",
    "            e.printStackTrace();\n",
    "        } catch (IOException e) {\n",
    "            e.printStackTrace();\n",
    "        } finally {\n",
    "            if (br != null) {\n",
    "                try {\n",
    "                    br.close();\n",
    "                } catch (IOException e) {\n",
    "                    e.printStackTrace();\n",
    "                }\n",
    "            }\n",
    "        }\n",
    "    }\n",
    "\n",
    "    public static void main(String[] args) {\n",
    "        System.out.println(\"Ações desfeitas:\");\n",
    "        carregarAcoes();\n",
    "        for (String acao : acoesDesfeitas) {\n",
    "            System.out.println(\"* \" + acao);\n",
    "        }\n",
    "    }\n",
    "}"
   ]
  },
  {
   "cell_type": "markdown",
   "id": "5a1a27ba",
   "metadata": {},
   "source": [
    "### Saída do Programa:\n",
    "\n",
    "Ações desfeitas:\n",
    "* alteração de cor de fundo para azul\n",
    "* negrito aplicado ao texto selecionado\n",
    "* inserção de lista numerada\n",
    "* alinhamento de texto à direita\n",
    "* inserção de rodapé com numeração de páginas\n",
    "* inserção de tabela 3x3\n",
    "* inserção de gráfico \"vendas_2023.png\"\n"
   ]
  }
 ],
 "metadata": {
  "kernelspec": {
   "display_name": "Python 3",
   "language": "python",
   "name": "python3"
  },
  "language_info": {
   "codemirror_mode": {
    "name": "ipython",
    "version": 3
   },
   "file_extension": ".py",
   "mimetype": "text/x-python",
   "name": "python",
   "nbconvert_exporter": "python",
   "pygments_lexer": "ipython3",
   "version": "3.8.10"
  }
 },
 "nbformat": 4,
 "nbformat_minor": 5
}
