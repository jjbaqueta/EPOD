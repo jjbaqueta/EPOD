{
 "cells": [
  {
   "cell_type": "markdown",
   "id": "a58c62f6",
   "metadata": {},
   "source": [
    "## Questão 5\n",
    "#### Resolução\n",
    "\n",
    "*IMPORTANTE*: o comando '%%file' é utilizado pelo Python para criar os arquivos .java em sua máquina local (no diretório onde este notebook está salvo)."
   ]
  },
  {
   "cell_type": "markdown",
   "id": "456fd4b7",
   "metadata": {},
   "source": [
    "- Classe \"Acao\", utilizada para representar os registros do arquivo de entrada:"
   ]
  },
  {
   "cell_type": "code",
   "execution_count": 1,
   "id": "4e4b6aba",
   "metadata": {},
   "outputs": [
    {
     "name": "stdout",
     "output_type": "stream",
     "text": [
      "Writing Acao.java\n"
     ]
    }
   ],
   "source": [
    "%%file Acao.java\n",
    "\n",
    "import java.util.Objects;\n",
    "\n",
    "public class Acao implements Comparable<Acao>{\n",
    "\tprivate String nome;\n",
    "\tprivate Double saldo; \n",
    "    \n",
    "\tpublic Acao(String nome) {\n",
    "\t\tsuper();\n",
    "\t\tthis.nome = nome;\n",
    "\t\tthis.saldo = 0.0;\n",
    "\t}\n",
    "\n",
    "\tpublic String getNome() {\n",
    "\t\treturn nome;\n",
    "\t}\n",
    "\n",
    "\tpublic Double getSaldo() {\n",
    "\t\treturn saldo;\n",
    "\t}\n",
    "\t\n",
    "\tpublic void comprar(double valor) {\n",
    "\t\tsaldo -= valor;\n",
    "\t}\n",
    "\t\n",
    "\tpublic void vender(double valor) {\n",
    "\t\tsaldo += valor;\n",
    "\t}\n",
    "\n",
    "\t@Override\n",
    "\tpublic int hashCode() {\n",
    "\t\treturn Objects.hash(nome);\n",
    "\t}\n",
    "\n",
    "\t@Override\n",
    "\tpublic boolean equals(Object obj) {\n",
    "\t\tif (this == obj)\n",
    "\t\t\treturn true;\n",
    "\t\tif (obj == null)\n",
    "\t\t\treturn false;\n",
    "\t\tif (getClass() != obj.getClass())\n",
    "\t\t\treturn false;\n",
    "\t\tAcao other = (Acao) obj;\n",
    "\t\treturn Objects.equals(nome, other.nome);\n",
    "\t}\n",
    "\n",
    "\t@Override\n",
    "\tpublic String toString() {\n",
    "\t\treturn nome + \", saldo: \" + saldo;\n",
    "\t}\n",
    "\n",
    "\t@Override\n",
    "\tpublic int compareTo(Acao outraAcao) {\n",
    "\t\treturn this.nome.compareTo(outraAcao.getNome());\n",
    "\t}\n",
    "}"
   ]
  },
  {
   "cell_type": "markdown",
   "id": "f3057120",
   "metadata": {},
   "source": [
    "- Classe \"Questao5\", implementa a função main:"
   ]
  },
  {
   "cell_type": "code",
   "execution_count": 2,
   "id": "7830271d",
   "metadata": {},
   "outputs": [
    {
     "name": "stdout",
     "output_type": "stream",
     "text": [
      "Writing Questao5.java\n"
     ]
    }
   ],
   "source": [
    "%%file Questao5.java\n",
    "\n",
    "import java.io.BufferedReader;\n",
    "import java.io.File;\n",
    "import java.io.FileNotFoundException;\n",
    "import java.io.FileReader;\n",
    "import java.io.IOException;\n",
    "import java.util.Map;\n",
    "import java.util.TreeMap;\n",
    "\n",
    "public class Questao5 {\n",
    "\t\n",
    "\tpublic static void main(String[] args) {\n",
    "\t\tString linha = \"\";\n",
    "\t\tString separador = \",\";\n",
    "\t\tBufferedReader bufferReader = null;\n",
    "\t\tboolean primeiraLinha = true;\n",
    "\n",
    "\t\tMap<String, Acao> acoes = new TreeMap<String, Acao>();\n",
    "\n",
    "\t\ttry {\n",
    "\t\t\tbufferReader = new BufferedReader(new FileReader(new File(\"src/acoes.csv\")));\n",
    "\t\t\twhile ((linha = bufferReader.readLine()) != null) {\n",
    "\t\t\t\tif (primeiraLinha) {\n",
    "\t\t\t\t\tprimeiraLinha = false;\n",
    "\t\t\t\t\tcontinue;\n",
    "\t\t\t\t}\n",
    "\t\t\t\tString[] campos = linha.split(separador);\n",
    "\t\t\t\t\n",
    "\t\t\t\tString nome = campos[0];\n",
    "\t\t\t\tdouble preco = Double.parseDouble(campos[1]);\n",
    "\t\t\t\tint quantidade = Integer.parseInt(campos[2]);\n",
    "\t\t\t\tString operacao = campos[3]; \n",
    "\t\t\t\t\n",
    "\t\t\t\tif (!acoes.containsKey(nome)) {\n",
    "\t\t\t\t\tacoes.put(nome, new Acao(nome));\n",
    "\t\t\t\t}\n",
    "\t\t\t\t\n",
    "\t\t\t\tif (operacao.equals(\"compra\")) {\n",
    "\t\t\t\t\tacoes.get(nome).comprar(preco * quantidade);\t\t\t\t\t\n",
    "\t\t\t\t}\n",
    "\t\t\t\telse {\n",
    "\t\t\t\t\tacoes.get(nome).vender(preco * quantidade);\n",
    "\t\t\t\t}\n",
    "\t\t\t}\n",
    "\t\t\t\n",
    "\t\t\tdouble saldoTotal = 0.0;\n",
    "\t\t\t\n",
    "\t        System.out.println(\"Saldo por ação:\");\n",
    "\t        for (Acao acao : acoes.values()) {\n",
    "\t            System.out.println(\"* \" + acao);\n",
    "\t            saldoTotal += acao.getSaldo();\n",
    "\t        }\n",
    "\t        System.out.println(\"Saldo total: \" + saldoTotal);\n",
    "\t\t} \n",
    "\t\tcatch (FileNotFoundException e) {\n",
    "\t\t\te.printStackTrace();\n",
    "\t\t} \n",
    "\t\tcatch (IOException e) {\n",
    "\t\t\te.printStackTrace();\n",
    "\t\t} \n",
    "\t\tfinally {\n",
    "\t\t\tif (bufferReader != null) {\n",
    "\t\t\t\ttry {\n",
    "\t\t\t\t\tbufferReader.close();\n",
    "\t\t\t\t} \n",
    "\t\t\t\tcatch (IOException e) {\n",
    "\t\t\t\t\te.printStackTrace();\n",
    "\t\t\t\t}\n",
    "\t\t\t}\n",
    "\t\t}\n",
    "\t}\n",
    "}"
   ]
  },
  {
   "cell_type": "markdown",
   "id": "89f0c152",
   "metadata": {},
   "source": [
    "- Arquivo de entrada:"
   ]
  },
  {
   "cell_type": "code",
   "execution_count": 3,
   "id": "ab94f69e",
   "metadata": {},
   "outputs": [
    {
     "name": "stdout",
     "output_type": "stream",
     "text": [
      "Writing acoes.csv\n"
     ]
    }
   ],
   "source": [
    "%%file acoes.csv\n",
    "Ação,Preço,Quantidade,Operação\n",
    "AAPL,150.00,10,compra\n",
    "AAPL,200.00,10,venda\n",
    "GOOG,1000.00,4,compra\n",
    "MSFT,200.00,1,compra\n",
    "AAPL,120.00,3,compra\n",
    "GOOG,1500.00,3,venda\n",
    "MSFT,210.00,2,venda\n",
    "TSLA,600.00,5,compra\n",
    "TSLA,620.00,4,venda\n",
    "GOOG,2000.00,1,venda"
   ]
  }
 ],
 "metadata": {
  "kernelspec": {
   "display_name": "Python 3",
   "language": "python",
   "name": "python3"
  },
  "language_info": {
   "codemirror_mode": {
    "name": "ipython",
    "version": 3
   },
   "file_extension": ".py",
   "mimetype": "text/x-python",
   "name": "python",
   "nbconvert_exporter": "python",
   "pygments_lexer": "ipython3",
   "version": "3.8.10"
  }
 },
 "nbformat": 4,
 "nbformat_minor": 5
}
