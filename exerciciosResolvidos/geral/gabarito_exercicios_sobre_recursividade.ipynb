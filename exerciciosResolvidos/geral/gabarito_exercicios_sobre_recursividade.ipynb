{
 "cells": [
  {
   "cell_type": "markdown",
   "id": "a58c62f6",
   "metadata": {},
   "source": [
    "# Lista de exercícios sobre recursividade"
   ]
  },
  {
   "cell_type": "markdown",
   "id": "2a817dec",
   "metadata": {},
   "source": [
    "*IMPORTANTE*: Lembre-se, o comando '%%file' é utilizado pelo Python para criar os arquivos .java em sua máquina local (no diretório onde este notebook está salvo). Os arquivos criados são nomeados de acordo com o identificador que aparece após o comando '%%file'."
   ]
  },
  {
   "cell_type": "markdown",
   "id": "893e75cd",
   "metadata": {},
   "source": [
    "**QUESTÃO 1**\n",
    "\n",
    "Dado dois valores inteiros, m e n (informados pelo usuário), implemente uma função recursiva que some todos os valores do intervalo representado por m e n. Assuma que m é sempre menor ou igual a n."
   ]
  },
  {
   "cell_type": "markdown",
   "id": "7a228315",
   "metadata": {},
   "source": [
    "Exemplo de entrada e saída:\n",
    "\n",
    "    Entrada: m = 1, n = 4\n",
    "    Saída:   10 (1 + 2 + 3 + 4)"
   ]
  },
  {
   "cell_type": "code",
   "execution_count": 1,
   "id": "ae5c8db6",
   "metadata": {},
   "outputs": [
    {
     "name": "stdout",
     "output_type": "stream",
     "text": [
      "Writing Questao1.java\n"
     ]
    }
   ],
   "source": [
    "%%file Questao1.java\n",
    "\n",
    "import java.util.Scanner;\n",
    "\n",
    "public class Questao1 {\n",
    "    \n",
    "    /**\n",
    "\t * Função recursiva para somar o intervalo formado a partir de m e n.\n",
    "\t * \n",
    "\t * @param m - Valor atribuído ao início do intervalo\n",
    "\t * @param n - Valor atribuído ao fim do intervalo\n",
    "\t * @return int - Soma dos valores presentes no intervalo {m, n}\n",
    "\t */\n",
    "    public static int somarIntervalo(int m, int n) {\n",
    "\t\tif (m == n) {\n",
    "\t\t\treturn m;\n",
    "\t\t}\n",
    "\t\treturn n + somarIntervalo(m, n - 1);\n",
    "\t}\n",
    "    \n",
    "    @SuppressWarnings(\"resource\")\n",
    "\tpublic static void main(String[] args) {\n",
    "    \tScanner scanner = new Scanner(System.in);\n",
    "    \t\n",
    "\t\tSystem.out.println(\"informe o valor de m:\");\n",
    "\t\tint m = scanner.nextInt();\n",
    "\t\t\n",
    "\t\tSystem.out.println(\"informe o valor de n:\");\n",
    "\t\tint n = scanner.nextInt();\n",
    "\t\t\n",
    "\t\tSystem.out.println(\"A soma do intervalo é: \" + somarIntervalo(m, n));\n",
    "\t}\n",
    "}"
   ]
  },
  {
   "cell_type": "markdown",
   "id": "afa4921d",
   "metadata": {},
   "source": [
    "**QUESTÃO 2**\n",
    "\n",
    "Escreva uma função que calcule o fatorial de um número informado pelo usuário, conforme definido na equação abaixo:\n",
    "\n",
    "    x! = 1,             se x == 1 ou x == 0\n",
    "    x! = x * (x - 1)!   se x > 1"
   ]
  },
  {
   "cell_type": "markdown",
   "id": "6156b873",
   "metadata": {},
   "source": [
    "Exemplo de entrada e saída:\n",
    "\n",
    "    Entrada: x = 5\n",
    "    Saída:   120"
   ]
  },
  {
   "cell_type": "code",
   "execution_count": 2,
   "id": "8cd2625c",
   "metadata": {},
   "outputs": [
    {
     "name": "stdout",
     "output_type": "stream",
     "text": [
      "Writing Questao2.java\n"
     ]
    }
   ],
   "source": [
    "%%file Questao2.java\n",
    "\n",
    "import java.util.Scanner;\n",
    "\n",
    "public class Questao2 {\n",
    "    \n",
    "    /**\n",
    "\t * Função recursiva para calcular o fatorial.\n",
    "\t * \n",
    "\t * @param x - Valor de entrada para o cálculo do fatorial\n",
    "\t * @return int - Valor calculado para o fatorial de x\n",
    "\t */\n",
    "\tpublic static int fatorial(int x) {\n",
    "\t\tif (x == 0 || x == 1) {\n",
    "\t\t\treturn 1;\n",
    "\t\t}\n",
    "\t\treturn x * fatorial(x - 1);\n",
    "\t}\n",
    "    \n",
    "    @SuppressWarnings(\"resource\")\n",
    "\tpublic static void main(String[] args) {\n",
    "    \tScanner scanner = new Scanner(System.in);\n",
    "    \t\n",
    "    \tSystem.out.println(\"informe o valor de x:\");\n",
    "\t\tint x = scanner.nextInt();\n",
    "\t\t\n",
    "\t\tSystem.out.println(x + \"! = \" + fatorial(x));\n",
    "\t}\n",
    "}"
   ]
  },
  {
   "cell_type": "markdown",
   "id": "8a802bc5",
   "metadata": {},
   "source": [
    "**QUESTÃO 3**\n",
    "\n",
    "Escreva uma função recursiva para resolver o problema da exponenciação de acordo com a equação abaixo. Considere que o usuário irá informar a base (x) e o expoente (n).\n",
    "\n",
    "    x^n = x * x^(n-1), para todo n > 0"
   ]
  },
  {
   "cell_type": "markdown",
   "id": "60020e12",
   "metadata": {},
   "source": [
    "Exemplo de entrada e saída:\n",
    "\n",
    "    Entrada: x = 2, n = 3\n",
    "    Saída:   8"
   ]
  },
  {
   "cell_type": "code",
   "execution_count": 3,
   "id": "0da9f9cd",
   "metadata": {},
   "outputs": [
    {
     "name": "stdout",
     "output_type": "stream",
     "text": [
      "Writing Questao3.java\n"
     ]
    }
   ],
   "source": [
    "%%file Questao3.java\n",
    "\n",
    "import java.util.Scanner;\n",
    "\n",
    "public class Questao3 {\n",
    "    \n",
    "    /**\n",
    "\t * Função recursiva para calcular o exponencial de x elevado a n.\n",
    "\t * \n",
    "\t * @param x - Valor da base\n",
    "\t * @param n - Valor do expoente\n",
    "\t * @return int - Valor de x elevado a n\n",
    "\t */\n",
    "\tpublic static int exponencial(int x, int n) {\n",
    "\t\tif (n == 0) {\n",
    "\t\t\treturn 1;\n",
    "\t\t}\n",
    "\t\treturn x * exponencial(x , n - 1);\n",
    "\t}\n",
    "    \n",
    "    @SuppressWarnings(\"resource\")\n",
    "\tpublic static void main(String[] args) {\n",
    "    \tScanner scanner = new Scanner(System.in);\n",
    "    \t\n",
    "    \tSystem.out.println(\"informe o valor de x:\");\n",
    "\t\tint x = scanner.nextInt();\n",
    "\t\t\n",
    "\t\tSystem.out.println(\"informe o valor de n:\");\n",
    "\t\tint n = scanner.nextInt();\n",
    "\t\t\n",
    "\t\tSystem.out.println(x + \"^\" + n + \" = \" + exponencial(x, n));\n",
    "\t}\n",
    "}"
   ]
  },
  {
   "cell_type": "markdown",
   "id": "1677433d",
   "metadata": {},
   "source": [
    "**QUESTÃO 4**\n",
    "\n",
    "Escreva uma função recursiva para inverter um vetor V[0 .. b], onde b > 0. Para inverter um vetor você deverá modificar o vetor de tal forma que o primeiro elemento se torne o último elemento, o segundo se torne o penúltimo, assim por diante.\n",
    "\n",
    "*Obs*: para calcular o tamanho do vetor a partir dos índices de inicio e fim utilize a seguinte equação: \n",
    "\n",
    "    tamanho do vetor = índice da última posição de V - índice da primeira posição de V + 1\n",
    "\n",
    "*Dica*: para este exercício, utilize a classe Random (java.util.Random) para inicializar o vetor com valores aleatórios. Esse recurso evita a inicialização manual do vetor."
   ]
  },
  {
   "cell_type": "markdown",
   "id": "11f16ad2",
   "metadata": {},
   "source": [
    "Exemplo de entrada e saída:\n",
    "\n",
    "    Entrada: b = 7, vetor de entrada: [1, 2, 3, 4, 10, 20, 30, 40]\n",
    "    Saída:   vetor invertido: [40, 30, 20, 10, 1, 2, 3, 4]"
   ]
  },
  {
   "cell_type": "code",
   "execution_count": 4,
   "id": "b3136177",
   "metadata": {},
   "outputs": [
    {
     "name": "stdout",
     "output_type": "stream",
     "text": [
      "Writing Questao4.java\n"
     ]
    }
   ],
   "source": [
    "%%file Questao4.java\n",
    "\n",
    "import java.util.Arrays;\n",
    "import java.util.Random;\n",
    "import java.util.Scanner;\n",
    "\n",
    "public class Questao4 {\n",
    "    \n",
    "    /**\n",
    "\t * Função para trocar dois elementos de um vetor de posição.\n",
    "\t * \n",
    "\t * @param vet - vetor de inteiros\n",
    "\t * @param i - índice i\n",
    "\t * @param j - índice j\n",
    "\t */\n",
    "\tpublic static void troca(int[] vet, int i, int j) {\n",
    "\t\tint aux = vet[i];\n",
    "\t\tvet[i] = vet[j];\n",
    "\t\tvet[j] = aux;\n",
    "\t}\n",
    "\t\n",
    "    /**\n",
    "\t * Função para inverter o conteúdo de um vetor.\n",
    "\t * \n",
    "\t * @param vet - vetor de inteiros\n",
    "\t * @param a - índice da primeira posição do vetor\n",
    "\t * @param b - índice da última posição do vetor\n",
    "\t */\n",
    "\tpublic static void inverterVetor(int[] vet, int a, int b) {\n",
    "\t\tif (a >= b) {\n",
    "\t\t\ttroca(vet, a, b);\n",
    "\t\t\treturn;\n",
    "\t\t}\n",
    "\t\tinverterVetor(vet, a + 1, b - 1);\n",
    "\t\ttroca(vet, a, b);\n",
    "\t}\n",
    "    \n",
    "\t@SuppressWarnings(\"resource\")\n",
    "\tpublic static void main(String[] args) {\n",
    "\t\tScanner scanner = new Scanner(System.in);\n",
    "\t\t\n",
    "\t\tSystem.out.println(\"informe o valor de b:\");\n",
    "\t\tint b = scanner.nextInt();\n",
    "\n",
    "\t\tint[] vet = new int[b + 1];\n",
    "\t\t\n",
    "\t\tRandom rand = new Random();\n",
    "\t\tfor (int i = 0; i < b + 1; i++) {\n",
    "\t\t\tvet[i] = rand.nextInt(b + 1);\n",
    "\t\t}\n",
    "\t\t\n",
    "\t\tSystem.out.println(\"Vetor não invertido:\");\n",
    "\t\tSystem.out.println(Arrays.toString(vet));\n",
    "\t\t\n",
    "\t\tinverterVetor(vet, 0, b);\n",
    "\t\tSystem.out.println(\"Vetor invertido:\");\n",
    "\t\tSystem.out.println(Arrays.toString(vet));\n",
    "\t}\n",
    "}"
   ]
  }
 ],
 "metadata": {
  "kernelspec": {
   "display_name": "Python 3",
   "language": "python",
   "name": "python3"
  },
  "language_info": {
   "codemirror_mode": {
    "name": "ipython",
    "version": 3
   },
   "file_extension": ".py",
   "mimetype": "text/x-python",
   "name": "python",
   "nbconvert_exporter": "python",
   "pygments_lexer": "ipython3",
   "version": "3.8.10"
  }
 },
 "nbformat": 4,
 "nbformat_minor": 5
}
