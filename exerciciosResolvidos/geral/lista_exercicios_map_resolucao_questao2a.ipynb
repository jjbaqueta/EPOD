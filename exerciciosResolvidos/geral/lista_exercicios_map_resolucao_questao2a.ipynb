{
 "cells": [
  {
   "cell_type": "markdown",
   "id": "a58c62f6",
   "metadata": {},
   "source": [
    "## Questão 2.a\n",
    "#### Resolução\n",
    "\n",
    "*IMPORTANTE*: o comando '%%file' é utilizado pelo Python para criar os arquivos .java em sua máquina local (no diretório onde este notebook está salvo)."
   ]
  },
  {
   "cell_type": "markdown",
   "id": "74874dfb",
   "metadata": {},
   "source": [
    "- Classe \"Questao2_a\", implementa a função main:"
   ]
  },
  {
   "cell_type": "code",
   "execution_count": 1,
   "id": "7830271d",
   "metadata": {},
   "outputs": [
    {
     "name": "stdout",
     "output_type": "stream",
     "text": [
      "Writing Questao2_a.java\n"
     ]
    }
   ],
   "source": [
    "%%file Questao2_a.java\n",
    "\n",
    "import java.io.BufferedReader;\n",
    "import java.io.File;\n",
    "import java.io.FileNotFoundException;\n",
    "import java.io.FileReader;\n",
    "import java.io.IOException;\n",
    "import java.util.HashSet;\n",
    "import java.util.Set;\n",
    "\n",
    "public class Questao2_a {\n",
    "\n",
    "\tpublic static void main(String[] args) {\n",
    "\t\tString linha = \"\";\n",
    "\t\tBufferedReader bufferReader = null;\n",
    "\t\tboolean primeiraLinha = true;\n",
    "\n",
    "\t\tSet<String> usuarios = new HashSet<String>();\n",
    "\n",
    "\t\ttry {\n",
    "\t\t\tbufferReader = new BufferedReader(new FileReader(new File(\"src/log.csv\")));\n",
    "\t\t\twhile ((linha = bufferReader.readLine()) != null) {\n",
    "\t\t\t\tif (primeiraLinha) {\n",
    "\t\t\t\t\tprimeiraLinha = false;\n",
    "\t\t\t\t\tcontinue;\n",
    "\t\t\t\t}\n",
    "\t\t\t\tusuarios.add(linha);\n",
    "\t\t\t}\n",
    "\t\t\tSystem.out.println(\"Número de usuários únicos: \" + usuarios.size());\n",
    "\t\t\tSystem.out.println(\"Lista de usuários únicos: \" + usuarios);\n",
    "\t\t} \n",
    "\t\tcatch (FileNotFoundException e) {\n",
    "\t\t\te.printStackTrace();\n",
    "\t\t} \n",
    "\t\tcatch (IOException e) {\n",
    "\t\t\te.printStackTrace();\n",
    "\t\t} \n",
    "\t\tfinally {\n",
    "\t\t\tif (bufferReader != null) {\n",
    "\t\t\t\ttry {\n",
    "\t\t\t\t\tbufferReader.close();\n",
    "\t\t\t\t} \n",
    "\t\t\t\tcatch (IOException e) {\n",
    "\t\t\t\t\te.printStackTrace();\n",
    "\t\t\t\t}\n",
    "\t\t\t}\n",
    "\t\t}\n",
    "\t}\n",
    "}"
   ]
  },
  {
   "cell_type": "markdown",
   "id": "8de297b9",
   "metadata": {},
   "source": [
    "- Arquivo de entrada:"
   ]
  },
  {
   "cell_type": "code",
   "execution_count": 1,
   "id": "1cda8b14",
   "metadata": {},
   "outputs": [
    {
     "name": "stdout",
     "output_type": "stream",
     "text": [
      "Overwriting log.csv\n"
     ]
    }
   ],
   "source": [
    "%%file log.csv\n",
    "Logins\n",
    "user123\n",
    "john_smith\n",
    "user123\n",
    "coding_master\n",
    "ninja_warrior\n",
    "coding_master\n",
    "john_smith\n",
    "ninja_warrior\n",
    "coding_master\n",
    "ninja_warrior\n",
    "charlie_delta"
   ]
  }
 ],
 "metadata": {
  "kernelspec": {
   "display_name": "Python 3",
   "language": "python",
   "name": "python3"
  },
  "language_info": {
   "codemirror_mode": {
    "name": "ipython",
    "version": 3
   },
   "file_extension": ".py",
   "mimetype": "text/x-python",
   "name": "python",
   "nbconvert_exporter": "python",
   "pygments_lexer": "ipython3",
   "version": "3.8.10"
  }
 },
 "nbformat": 4,
 "nbformat_minor": 5
}
